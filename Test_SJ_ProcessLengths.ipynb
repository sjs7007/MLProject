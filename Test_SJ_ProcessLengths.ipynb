{
 "cells": [
  {
   "cell_type": "code",
   "execution_count": 2,
   "metadata": {
    "collapsed": true
   },
   "outputs": [],
   "source": [
    "import json\n",
    "\n",
    "data = json.load(open('en_de_corpus.json', 'r'))\n",
    "nSentences = 100"
   ]
  },
  {
   "cell_type": "code",
   "execution_count": 3,
   "metadata": {},
   "outputs": [
    {
     "data": {
      "text/plain": [
       "dict"
      ]
     },
     "execution_count": 3,
     "metadata": {},
     "output_type": "execute_result"
    }
   ],
   "source": [
    "type(data)"
   ]
  },
  {
   "cell_type": "code",
   "execution_count": 4,
   "metadata": {},
   "outputs": [
    {
     "data": {
      "text/plain": [
       "2"
      ]
     },
     "execution_count": 4,
     "metadata": {},
     "output_type": "execute_result"
    }
   ],
   "source": [
    "len(data)"
   ]
  },
  {
   "cell_type": "code",
   "execution_count": 5,
   "metadata": {},
   "outputs": [
    {
     "data": {
      "text/plain": [
       "132173"
      ]
     },
     "execution_count": 5,
     "metadata": {},
     "output_type": "execute_result"
    }
   ],
   "source": [
    "len(data['en'])"
   ]
  },
  {
   "cell_type": "code",
   "execution_count": 6,
   "metadata": {},
   "outputs": [
    {
     "data": {
      "text/plain": [
       "132173"
      ]
     },
     "execution_count": 6,
     "metadata": {},
     "output_type": "execute_result"
    }
   ],
   "source": [
    "len(data['de'])"
   ]
  },
  {
   "cell_type": "code",
   "execution_count": 7,
   "metadata": {},
   "outputs": [
    {
     "data": {
      "text/plain": [
       "\"What do I have to do now that I'm registered?\""
      ]
     },
     "execution_count": 7,
     "metadata": {},
     "output_type": "execute_result"
    }
   ],
   "source": [
    "data['en'][0]"
   ]
  },
  {
   "cell_type": "code",
   "execution_count": 8,
   "metadata": {},
   "outputs": [
    {
     "data": {
      "text/plain": [
       "'Was mache ich jetzt, da ich angemeldet bin?'"
      ]
     },
     "execution_count": 8,
     "metadata": {},
     "output_type": "execute_result"
    }
   ],
   "source": [
    "data['de'][0]"
   ]
  },
  {
   "cell_type": "code",
   "execution_count": 9,
   "metadata": {},
   "outputs": [
    {
     "name": "stdout",
     "output_type": "stream",
     "text": [
      "length after processing : 21680\n"
     ]
    }
   ],
   "source": [
    "#Script to remove punctuation, ensure <= max allowed length + padding\n",
    "\n",
    "import string\n",
    "import random\n",
    "import math\n",
    "\n",
    "#replace punctuation with space, ensure all sentences with  1 space\n",
    "#also all capital to small \n",
    "u\n",
    "\n",
    "#max allowed raw length=5, pad to make it 5, allow only equal pairs\n",
    "tempEn = list(map(replacePunctuation,data['en']))\n",
    "tempDe = list(map(replacePunctuation,data['de']))\n",
    "maxRawLength = 5\n",
    "maxFinalLength = maxRawLength + 2\n",
    "\n",
    "def wordCount(x):\n",
    "    return len(x.split())\n",
    "\n",
    "data_en_processed = list()\n",
    "data_de_processed = list()\n",
    "for i in range(len(tempEn)):\n",
    "    if(wordCount(tempEn[i]) <= maxRawLength and wordCount(tempDe[i]) <= maxRawLength\n",
    "       and wordCount(tempEn[i])==wordCount(tempDe[i])):\n",
    "        #if(i%10==0):\n",
    "        #    print((maxFinalLength -1 - wordCount(tempEn[i])))\n",
    "        data_en_processed.append('< '+tempEn[i]+' >'*(maxFinalLength -1 - wordCount(tempEn[i])))\n",
    "        data_de_processed.append('< '+tempDe[i]+' >'*(maxFinalLength -1 - wordCount(tempDe[i])))\n",
    "\n",
    "print(\"length after processing : \"+str(len(data_en_processed)))  \n"
   ]
  },
  {
   "cell_type": "code",
   "execution_count": 10,
   "metadata": {},
   "outputs": [
    {
     "name": "stdout",
     "output_type": "stream",
     "text": [
      "< where s the bag > > | < wo ist die tasche > >\n",
      "<Wo s die Tasche>>\n",
      "\n",
      "< radioactive matter is dangerous > > | < radioaktive stoffe sind gefährlich > >\n",
      "<Radioaktive Stoffe ist gefährlich>>\n",
      "\n",
      "< we have reached our destination > | < wir haben unser ziel erreicht >\n",
      "<Wir haben unser Ziel erreicht>\n",
      "\n",
      "< i wash my hands > > | < ich wasche meine hände > >\n",
      "<Ich wasche meine Hände>>\n",
      "\n",
      "< i think you are mistaken > | < ich denke du liegst verkehrt >\n",
      "<Ich glaube du irrst dich\n",
      "\n"
     ]
    }
   ],
   "source": [
    "#pick 5 random samples and display, compare with google translate\n",
    "import time\n",
    "from mtranslate import translate\n",
    "\n",
    "\n",
    "start = math.ceil(random.random()*1000)\n",
    "for i in range(start,start+5):\n",
    "    print(data_en_processed[i]+\" | \"+data_de_processed[i])\n",
    "    print(translate(data_en_processed[i],'de','en'))\n",
    "    print()\n",
    "\n",
    "    "
   ]
  },
  {
   "cell_type": "code",
   "execution_count": 11,
   "metadata": {},
   "outputs": [
    {
     "name": "stdout",
     "output_type": "stream",
     "text": [
      "['<', 'er', 'unterrichtet', 'arabisch', '>', '>', '>']\n"
     ]
    }
   ],
   "source": [
    "# Convert to list of lists from list of strings, remove space\n",
    "\n",
    "data_en_processed_tokens = [s.split() for s in data_en_processed]\n",
    "data_de_processed_tokens = [s.split() for s in data_de_processed]\n",
    "print(data_de_processed_tokens[77])"
   ]
  },
  {
   "cell_type": "code",
   "execution_count": 12,
   "metadata": {},
   "outputs": [
    {
     "data": {
      "text/plain": [
       "14000"
      ]
     },
     "execution_count": 12,
     "metadata": {},
     "output_type": "execute_result"
    }
   ],
   "source": [
    "#Lower the size\n",
    "data_en_processed_tokens = data_en_processed_tokens[:1000]\n",
    "data_de_processed_tokens = data_de_processed_tokens[:1000]\n",
    "data_full = data_en_processed_tokens + data_de_processed_tokens\n",
    "len(data_full)\n",
    "\n",
    "data_full = sum(data_full, [])\n",
    "len(data_full)"
   ]
  },
  {
   "cell_type": "code",
   "execution_count": 13,
   "metadata": {},
   "outputs": [
    {
     "name": "stdout",
     "output_type": "stream",
     "text": [
      "['<', 'i', 'took', 'the', 'bus', 'back', '>']\n",
      "['<', 'ich', 'nahm', 'den', 'bus', 'zurück', '>']\n"
     ]
    }
   ],
   "source": [
    "print(data_full[0:7])\n",
    "print(data_full[0+7000:7000+7])"
   ]
  },
  {
   "cell_type": "code",
   "execution_count": null,
   "metadata": {
    "collapsed": true
   },
   "outputs": [],
   "source": []
  },
  {
   "cell_type": "code",
   "execution_count": null,
   "metadata": {
    "collapsed": true
   },
   "outputs": [],
   "source": []
  },
  {
   "cell_type": "code",
   "execution_count": 15,
   "metadata": {},
   "outputs": [
    {
     "name": "stdout",
     "output_type": "stream",
     "text": [
      "data has 14000 characters, 2651 unique.\n",
      "thought sugar bewundern wish wollte ampel führt \n",
      "----\n",
      "wealthy vergöttert selfish day river bin missed \n",
      "----\n",
      "leave sterben wait obstinate jemals pferdestärken bruder \n",
      "----\n",
      "aßen roman master advice weiter always wen \n",
      "----\n",
      "-------------------------------------------------\n",
      "iter 0, loss: 55.178845\n",
      "< er maria ist stiefschwestern alt > \n",
      "----\n",
      "< sie sieben esse öle hobby > \n",
      "----\n",
      "< ich sun pronunciation mouth luft > \n",
      "----\n",
      "< haben tom höre ab artikel > \n",
      "----\n",
      "-------------------------------------------------\n",
      "iter 1000, loss: 38.654577\n",
      "< ich nett niedrig kontakt verfügung > \n",
      "----\n",
      "< papier hat macht reagier verkehrt > \n",
      "----\n",
      "< ich schläger ist betrunken kommen > \n",
      "----\n",
      "< ich czech ihre zweierreihen reparieren > \n",
      "----\n",
      "-------------------------------------------------\n",
      "iter 2000, loss: 29.762010\n",
      "< ich coming annehmbar allein ausgleichssport > \n",
      "----\n",
      "< wir verschwunden sehr jung uhr > \n",
      "----\n",
      "< mir meinung wird thema talkative > \n",
      "----\n",
      "< ironed meiner schmidt vernachlässigte zeit > \n",
      "----\n",
      "-------------------------------------------------\n",
      "iter 3000, loss: 25.678332\n",
      "< die ist nicht welt sieben > \n",
      "----\n",
      "< ich auto französisch schnell unterschätzen > \n",
      "----\n",
      "< ich blond hingegangen gravierendes belebend > \n",
      "----\n",
      "< er mit der festen america > \n",
      "----\n",
      "-------------------------------------------------\n",
      "iter 4000, loss: 23.607657\n",
      "< ich habe können browne antwort > \n",
      "----\n",
      "< der viel tapfer später hassen > \n",
      "----\n",
      "< ich zeigte den sauer reparieren > \n",
      "----\n",
      "< ich helle keine französisch scharf > \n",
      "----\n",
      "-------------------------------------------------\n",
      "iter 5000, loss: 22.382071\n",
      "< ich schnürsenkel das ziemlich museum > \n",
      "----\n",
      "< das nur sie drachen ich > \n",
      "----\n",
      "< ich bin macht der papier > \n",
      "----\n",
      "< ich großvater unnütz wann beruhigend > \n",
      "----\n",
      "-------------------------------------------------\n",
      "iter 6000, loss: 21.541984\n",
      "< ich bat ist pech chance > \n",
      "----\n",
      "< ich hat macht drastisch ein > \n",
      "----\n",
      "< ich glaube die schick werde > \n",
      "----\n",
      "< die tu zu als koch > \n",
      "----\n",
      "-------------------------------------------------\n",
      "iter 7000, loss: 20.888452\n",
      "< ich armed fast abendbrot jedes > \n",
      "----\n",
      "< ich unterrichte warmherzig singen gerne > \n",
      "----\n",
      "< das bin das schnitt schwarz > \n",
      "----\n",
      "< ich werde geduld wirkung fast > \n",
      "----\n",
      "-------------------------------------------------\n",
      "iter 8000, loss: 20.343899\n",
      "< ich aufhören einen sessel augen > \n",
      "----\n",
      "< ich spinnen das schraubstock bei > \n",
      "----\n",
      "< ich mal zurück früh turist > \n",
      "----\n",
      "< sie schnitt waren großvater zugelassen > \n",
      "----\n",
      "-------------------------------------------------\n",
      "iter 9000, loss: 19.866623\n",
      "< ich klopfte seine schlaganfall ende > \n",
      "----\n",
      "< ich ist töricht welche gas > \n",
      "----\n",
      "< ich durch ein genauso suburbs > \n",
      "----\n",
      "< ich habe beeinträchtigt zurück benutzen > \n",
      "----\n",
      "-------------------------------------------------\n",
      "iter 10000, loss: 19.437005\n",
      "< das sachen die schrieb ihn > \n",
      "----\n",
      "< ich haus das offen gemacht > \n",
      "----\n",
      "< ich sah mich schneit vorbei > \n",
      "----\n",
      "< ich < begann dem > > \n",
      "----\n",
      "-------------------------------------------------\n",
      "iter 11000, loss: 19.038338\n",
      "< ich beneide töricht arbeitsüberlastung verärgert > \n",
      "----\n",
      "< ich male ihre übersehen übermannen > \n",
      "----\n",
      "< ich hält es drei ab > \n",
      "----\n",
      "< ich denke war ausflug gemacht > \n",
      "----\n",
      "-------------------------------------------------\n",
      "iter 12000, loss: 18.670778\n",
      "< ich grenze das wirklich auf > \n",
      "----\n",
      "< ich habe meine deutsch ab > \n",
      "----\n",
      "< ich studiere verrucht marschierten schüler > \n",
      "----\n",
      "< ich gehören etwas psychologie zerstört > \n",
      "----\n",
      "-------------------------------------------------\n",
      "iter 13000, loss: 18.319495\n",
      "< ich schnürsenkel der offen lügner > \n",
      "----\n",
      "< ich fragte das zaun verbieten > \n",
      "----\n",
      "< die hat stimmt klein zur > \n",
      "----\n",
      "< ich zustand ihr als genug > \n",
      "----\n",
      "-------------------------------------------------\n",
      "iter 14000, loss: 17.986544\n"
     ]
    },
    {
     "ename": "KeyboardInterrupt",
     "evalue": "",
     "output_type": "error",
     "traceback": [
      "\u001b[0;31m---------------------------------------------------------------------------\u001b[0m",
      "\u001b[0;31mKeyboardInterrupt\u001b[0m                         Traceback (most recent call last)",
      "\u001b[0;32m<ipython-input-15-74776c5428de>\u001b[0m in \u001b[0;36m<module>\u001b[0;34m()\u001b[0m\n\u001b[1;32m    133\u001b[0m \u001b[0;34m\u001b[0m\u001b[0m\n\u001b[1;32m    134\u001b[0m   \u001b[0;31m# forward seq_length characters through the net and fetch gradient\u001b[0m\u001b[0;34m\u001b[0m\u001b[0;34m\u001b[0m\u001b[0m\n\u001b[0;32m--> 135\u001b[0;31m   \u001b[0mloss\u001b[0m\u001b[0;34m,\u001b[0m \u001b[0mdWxh\u001b[0m\u001b[0;34m,\u001b[0m \u001b[0mdWhh\u001b[0m\u001b[0;34m,\u001b[0m \u001b[0mdWhy\u001b[0m\u001b[0;34m,\u001b[0m \u001b[0mdbh\u001b[0m\u001b[0;34m,\u001b[0m \u001b[0mdby\u001b[0m\u001b[0;34m,\u001b[0m \u001b[0mhprev\u001b[0m \u001b[0;34m=\u001b[0m \u001b[0mlossFun\u001b[0m\u001b[0;34m(\u001b[0m\u001b[0minputs\u001b[0m\u001b[0;34m,\u001b[0m \u001b[0mtargets\u001b[0m\u001b[0;34m,\u001b[0m \u001b[0mhprev\u001b[0m\u001b[0;34m)\u001b[0m\u001b[0;34m\u001b[0m\u001b[0m\n\u001b[0m\u001b[1;32m    136\u001b[0m   \u001b[0msmooth_loss\u001b[0m \u001b[0;34m=\u001b[0m \u001b[0msmooth_loss\u001b[0m \u001b[0;34m*\u001b[0m \u001b[0;36m0.999\u001b[0m \u001b[0;34m+\u001b[0m \u001b[0mloss\u001b[0m \u001b[0;34m*\u001b[0m \u001b[0;36m0.001\u001b[0m\u001b[0;34m\u001b[0m\u001b[0m\n\u001b[1;32m    137\u001b[0m   \u001b[0;32mif\u001b[0m \u001b[0mn\u001b[0m \u001b[0;34m%\u001b[0m \u001b[0;36m1000\u001b[0m \u001b[0;34m==\u001b[0m \u001b[0;36m0\u001b[0m\u001b[0;34m:\u001b[0m \u001b[0mprint\u001b[0m\u001b[0;34m(\u001b[0m\u001b[0;34m'iter %d, loss: %f'\u001b[0m \u001b[0;34m%\u001b[0m \u001b[0;34m(\u001b[0m\u001b[0mn\u001b[0m\u001b[0;34m,\u001b[0m \u001b[0msmooth_loss\u001b[0m\u001b[0;34m)\u001b[0m\u001b[0;34m)\u001b[0m \u001b[0;31m# print progress\u001b[0m\u001b[0;34m\u001b[0m\u001b[0m\n",
      "\u001b[0;32m<ipython-input-15-74776c5428de>\u001b[0m in \u001b[0;36mlossFun\u001b[0;34m(inputs, targets, hprev)\u001b[0m\n\u001b[1;32m     63\u001b[0m     \u001b[0mdWhy\u001b[0m \u001b[0;34m+=\u001b[0m \u001b[0mnp\u001b[0m\u001b[0;34m.\u001b[0m\u001b[0mdot\u001b[0m\u001b[0;34m(\u001b[0m\u001b[0mdy\u001b[0m\u001b[0;34m,\u001b[0m \u001b[0mhs\u001b[0m\u001b[0;34m[\u001b[0m\u001b[0mt\u001b[0m\u001b[0;34m]\u001b[0m\u001b[0;34m.\u001b[0m\u001b[0mT\u001b[0m\u001b[0;34m)\u001b[0m\u001b[0;34m\u001b[0m\u001b[0m\n\u001b[1;32m     64\u001b[0m     \u001b[0mdby\u001b[0m \u001b[0;34m+=\u001b[0m \u001b[0mdy\u001b[0m\u001b[0;34m\u001b[0m\u001b[0m\n\u001b[0;32m---> 65\u001b[0;31m     \u001b[0mdh\u001b[0m \u001b[0;34m=\u001b[0m \u001b[0mnp\u001b[0m\u001b[0;34m.\u001b[0m\u001b[0mdot\u001b[0m\u001b[0;34m(\u001b[0m\u001b[0mWhy\u001b[0m\u001b[0;34m.\u001b[0m\u001b[0mT\u001b[0m\u001b[0;34m,\u001b[0m \u001b[0mdy\u001b[0m\u001b[0;34m)\u001b[0m \u001b[0;34m+\u001b[0m \u001b[0mdhnext\u001b[0m \u001b[0;31m# backprop into h\u001b[0m\u001b[0;34m\u001b[0m\u001b[0m\n\u001b[0m\u001b[1;32m     66\u001b[0m     \u001b[0mdhraw\u001b[0m \u001b[0;34m=\u001b[0m \u001b[0;34m(\u001b[0m\u001b[0;36m1\u001b[0m \u001b[0;34m-\u001b[0m \u001b[0mhs\u001b[0m\u001b[0;34m[\u001b[0m\u001b[0mt\u001b[0m\u001b[0;34m]\u001b[0m \u001b[0;34m*\u001b[0m \u001b[0mhs\u001b[0m\u001b[0;34m[\u001b[0m\u001b[0mt\u001b[0m\u001b[0;34m]\u001b[0m\u001b[0;34m)\u001b[0m \u001b[0;34m*\u001b[0m \u001b[0mdh\u001b[0m \u001b[0;31m# backprop through tanh nonlinearity\u001b[0m\u001b[0;34m\u001b[0m\u001b[0m\n\u001b[1;32m     67\u001b[0m     \u001b[0mdbh\u001b[0m \u001b[0;34m+=\u001b[0m \u001b[0mdhraw\u001b[0m\u001b[0;34m\u001b[0m\u001b[0m\n",
      "\u001b[0;31mKeyboardInterrupt\u001b[0m: "
     ]
    }
   ],
   "source": [
    "\"\"\"\n",
    "Minimal character-level Vanilla RNN model. Written by Andrej Karpathy (@karpathy)\n",
    "BSD License\n",
    "\"\"\"\n",
    "import numpy as np\n",
    "from mtranslate import translate\n",
    "\n",
    "\n",
    "# data I/O\n",
    "#data = open('input_en_de_1000.txt', 'r').read() # should be simple plain text file\n",
    "data = data_full\n",
    "chars = list(set(data))\n",
    "data_size, vocab_size = len(data), len(chars)\n",
    "print('data has %d characters, %d unique.' % (data_size, vocab_size))\n",
    "char_to_ix = { ch:i for i,ch in enumerate(chars) }\n",
    "ix_to_char = { i:ch for i,ch in enumerate(chars) }\n",
    "\n",
    "# hyperparameters---> 43     loss += -np.log(ps[t][targets[t],0]) # softmax (cross-entropy loss)\n",
    "\n",
    "hidden_size = 150 # size of hidden layer of neurons\n",
    "seq_length = 7 # number of steps to unroll the RNN for\n",
    "learning_rate = 1e-2 #1e-1\n",
    "\n",
    "#globals\n",
    "en_ch_cnt = 7000 #len(data_full)//2\n",
    "test_sentence = ['<', 'i', 'took', 'the', 'bus', 'back', '>']\n",
    "#'<', 'ich', 'nahm', 'den', 'bus', 'zurück', '>'\n",
    "\n",
    "# model parameters\n",
    "Wxh = np.random.randn(hidden_size, vocab_size)*0.01 # input to hidden\n",
    "Whh = np.random.randn(hidden_size, hidden_size)*0.01 # hidden to hidden\n",
    "Why = np.random.randn(vocab_size, hidden_size)*0.01 # hidden to output\n",
    "bh = np.zeros((hidden_size, 1)) # hidden bias\n",
    "by = np.zeros((vocab_size, 1)) # output bias\n",
    "\n",
    "def lossFun(inputs, targets, hprev):\n",
    "  \"\"\"\n",
    "  inputs,targets are both list of integers.\n",
    "  hprev is Hx1 array of initial hidden state\n",
    "  returns the loss, gradients on model parameters, and last hidden state\n",
    "  \"\"\"\n",
    "  xs, hs, ys, ps = {}, {}, {}, {}\n",
    "  hs[-1] = np.copy(hprev)\n",
    "  loss = 0\n",
    "  # forward pass\n",
    "  for t in range(len(inputs)):\n",
    "    xs[t] = np.zeros((vocab_size,1)) # encode in 1-of-k representation\n",
    "    xs[t][inputs[t]] = 1\n",
    "    hs[t] = np.tanh(np.dot(Wxh, xs[t]) + np.dot(Whh, hs[t-1]) + bh) # hidden state\n",
    "    ys[t] = np.dot(Why, hs[t]) + by # unnormalized log probabilities for next chars\n",
    "    ps[t] = np.exp(ys[t]) / np.sum(np.exp(ys[t])) # probabilities for next chars\n",
    "   # print(\"t\",t)\n",
    "   # print(\"shape\",(ps[t]).shape)\n",
    "   # print(\"targets\",targets[t])\n",
    "    loss += -np.log(ps[t][targets[t],0]) # softmax (cross-entropy loss)\n",
    "  # backward pass: compute gradients going backwards\n",
    "  dWxh, dWhh, dWhy = np.zeros_like(Wxh), np.zeros_like(Whh), np.zeros_like(Why)\n",
    "  dbh, dby = np.zeros_like(bh), np.zeros_like(by)\n",
    "  dhnext = np.zeros_like(hs[0])\n",
    "  for t in reversed(range(len(inputs))):\n",
    "    dy = np.copy(ps[t])\n",
    "    dy[targets[t]] -= 1 # backprop into y. see http://cs231n.github.io/neural-networks-case-study/#grad if confused here\n",
    "    dWhy += np.dot(dy, hs[t].T)\n",
    "    dby += dy\n",
    "    dh = np.dot(Why.T, dy) + dhnext # backprop into h\n",
    "    dhraw = (1 - hs[t] * hs[t]) * dh # backprop through tanh nonlinearity\n",
    "    dbh += dhraw\n",
    "    dWxh += np.dot(dhraw, xs[t].T)\n",
    "    dWhh += np.dot(dhraw, hs[t-1].T)\n",
    "    dhnext = np.dot(Whh.T, dhraw)\n",
    "  for dparam in [dWxh, dWhh, dWhy, dbh, dby]:\n",
    "    np.clip(dparam, -5, 5, out=dparam) # clip to mitigate exploding gradients\n",
    "  return loss, dWxh, dWhh, dWhy, dbh, dby, hs[len(inputs)-1]\n",
    "\n",
    "def sample(h, seed_ix, n):\n",
    "  \"\"\" \n",
    "  sample a sequence of integers from the model \n",
    "  h is memory state, seed_ix is seed letter for first time step\n",
    "  \"\"\"\n",
    "\n",
    "  n = len(test_sentence)\n",
    "\n",
    "  \n",
    "\n",
    "\n",
    "  ixes = []\n",
    "  for t in range(n):\n",
    "    x = np.zeros((vocab_size, 1))\n",
    "    x[char_to_ix[test_sentence[t]]] = 1\n",
    "        \n",
    "    h = np.tanh(np.dot(Wxh, x) + np.dot(Whh, h) + bh)\n",
    "    y = np.dot(Why, h) + by\n",
    "    probab = np.exp(y) / np.sum(np.exp(y))\n",
    "    #ix = np.argmax(probab)\n",
    "    ix = np.random.choice(range(vocab_size), p=probab.ravel())\n",
    "    \n",
    "    \n",
    "    \n",
    "    #x = np.zeros((vocab_size, 1))\n",
    "    #x[ix] = 1\n",
    "    \n",
    "    \n",
    "    \n",
    "    ixes.append(ix)\n",
    "  return ixes\n",
    "\n",
    "n, p = 0, 0\n",
    "mWxh, mWhh, mWhy = np.zeros_like(Wxh), np.zeros_like(Whh), np.zeros_like(Why)\n",
    "mbh, mby = np.zeros_like(bh), np.zeros_like(by) # memory variables for Adagrad\n",
    "smooth_loss = -np.log(1.0/vocab_size)*seq_length # loss at iteration 0\n",
    "while True:\n",
    "  # prepare inputs (we're sweeping from left to right in steps seq_length long)\n",
    "  if p+seq_length+1 >= len(data[0:en_ch_cnt]) or n == 0: \n",
    "    hprev = np.zeros((hidden_size,1)) # reset RNN memory\n",
    "    p = 0 # go from start of data\n",
    "  inputs = [char_to_ix[ch] for ch in data[p:p+seq_length]]\n",
    "  #targets = [char_to_ix[ch] for ch in data[p:p+seq_length]]\n",
    "  targets = [char_to_ix[ch] for ch in data[p+en_ch_cnt:p+seq_length+en_ch_cnt]]\n",
    "\n",
    "  # sample from the model now and then\n",
    "  if n % 1000 == 0:\n",
    "    for i in range(4):\n",
    "        slen = len(test_sentence)\n",
    "        sample_ix = sample(hprev, inputs[0], slen)\n",
    "        txt = ' '.join(ix_to_char[ix] for ix in sample_ix)\n",
    "        #print('----\\n %s \\n----' % (txt, ))\n",
    "        print('%s \\n----' % (txt, ))\n",
    "        #print(translate(txt,'en', 'de'))\n",
    "        #print('---------------')\n",
    "    print('-------------------------------------------------')\n",
    "    \n",
    "\n",
    "\n",
    "  # forward seq_length characters through the net and fetch gradient\n",
    "  loss, dWxh, dWhh, dWhy, dbh, dby, hprev = lossFun(inputs, targets, hprev)\n",
    "  smooth_loss = smooth_loss * 0.999 + loss * 0.001\n",
    "  if n % 1000 == 0: print('iter %d, loss: %f' % (n, smooth_loss)) # print progress\n",
    "  \n",
    "  # perform parameter update with Adagrad\n",
    "  for param, dparam, mem in zip([Wxh, Whh, Why, bh, by], \n",
    "                                [dWxh, dWhh, dWhy, dbh, dby], \n",
    "                                [mWxh, mWhh, mWhy, mbh, mby]):\n",
    "    mem += dparam * dparam\n",
    "    param += -learning_rate * dparam / np.sqrt(mem + 1e-8) # adagrad update\n",
    "\n",
    "  p += seq_length # move data pointer\n",
    "  n += 1 # iteration counter \n"
   ]
  },
  {
   "cell_type": "code",
   "execution_count": null,
   "metadata": {
    "collapsed": true
   },
   "outputs": [],
   "source": []
  },
  {
   "cell_type": "code",
   "execution_count": null,
   "metadata": {
    "collapsed": true
   },
   "outputs": [],
   "source": []
  },
  {
   "cell_type": "code",
   "execution_count": null,
   "metadata": {
    "collapsed": true
   },
   "outputs": [],
   "source": []
  },
  {
   "cell_type": "code",
   "execution_count": null,
   "metadata": {
    "collapsed": true
   },
   "outputs": [],
   "source": []
  },
  {
   "cell_type": "code",
   "execution_count": null,
   "metadata": {
    "collapsed": true
   },
   "outputs": [],
   "source": []
  },
  {
   "cell_type": "code",
   "execution_count": 10,
   "metadata": {},
   "outputs": [
    {
     "data": {
      "text/plain": [
       "['< i took the bus back >',\n",
       " '< without air we would die >',\n",
       " '< i study chinese in beijing >',\n",
       " '< pass me the salt please >',\n",
       " '< the boy is wearing glasses >',\n",
       " '< we know this song > >',\n",
       " '< that was hard to believe >',\n",
       " '< he has blond hair > >',\n",
       " '< thanks for your patience > >',\n",
       " '< tom goes to bed early >',\n",
       " '< lions are stronger than wolves >',\n",
       " '< this flower smells sweet > >',\n",
       " '< this book makes pleasant reading >',\n",
       " '< tom swims very fast > >',\n",
       " '< we ll hurry > > >',\n",
       " '< i love the sun > >',\n",
       " '< can this be it > >',\n",
       " '< she s afraid to sing >',\n",
       " '< this is useless > > >',\n",
       " '< i ll call her immediately >',\n",
       " '< my grandfather gets up early >',\n",
       " '< you sell us fish > >',\n",
       " '< birds often fly together > >',\n",
       " '< i love serious music > >',\n",
       " '< is tom there alone > >',\n",
       " '< we are the borg > >',\n",
       " '< how much is this radio >',\n",
       " '< they marched two abreast > >',\n",
       " '< i like traveling > > >',\n",
       " '< do what you want > >',\n",
       " '< she has tiny feet > >',\n",
       " '< give it to me please >',\n",
       " '< can you come > > >',\n",
       " '< read a book > > >',\n",
       " '< help is always appreciated > >',\n",
       " '< tom is too picky > >',\n",
       " '< this isn t sugar > >',\n",
       " '< we had lunch at noon >',\n",
       " '< this works every time > >',\n",
       " '< he s brave and honest >',\n",
       " '< tom got himself a drink >',\n",
       " '< stop yelling at me > >',\n",
       " '< nobody can stop me > >',\n",
       " '< get lost > > > >',\n",
       " '< black is depressing > > >',\n",
       " '< children are not admitted > >',\n",
       " '< are these your daughters > >',\n",
       " '< am i dressed normally > >',\n",
       " '< that has always been so >',\n",
       " '< he thinks i m jealous >',\n",
       " '< i m hungry > > >',\n",
       " '< who has it now > >',\n",
       " '< you can t hurt me >',\n",
       " '< mr smith has come > >',\n",
       " '< tom has no authority > >',\n",
       " '< she waved goodbye to me >',\n",
       " '< how would you describe yourself >',\n",
       " '< he had lost all hope >',\n",
       " '< i think you are mistaken >',\n",
       " '< i really like her > >',\n",
       " '< unfortunately the store was closed >',\n",
       " '< that s carl > > >',\n",
       " '< nearly three > > > >',\n",
       " '< he laid down the gun >',\n",
       " '< i have a twin > >',\n",
       " '< where is my book > >',\n",
       " '< tom was crazy about mary >',\n",
       " '< both his parents are dead >',\n",
       " '< could you repeat that please >',\n",
       " '< she said nothing > > >',\n",
       " '< i speak french and english >',\n",
       " '< she was making tea > >',\n",
       " '< that s foolish > > >',\n",
       " '< the patient was in danger >',\n",
       " '< it was hard to believe >',\n",
       " '< look it s snowing > >',\n",
       " '< when was this novel published >',\n",
       " '< he teaches arabic > > >',\n",
       " '< i like your dog > >',\n",
       " '< kim smiled sweetly > > >',\n",
       " '< send tom over > > >',\n",
       " '< i ate the apple > >',\n",
       " '< what is on the desk >',\n",
       " '< we had nice weather yesterday >',\n",
       " '< carthage must be destroyed > >',\n",
       " '< he s big and strong >',\n",
       " '< tom rarely reads magazines > >',\n",
       " '< this is a dvd > >',\n",
       " '< i swear to god > >',\n",
       " '< how old is tony > >',\n",
       " '< he began to cry > >',\n",
       " '< the break is over > >',\n",
       " '< you should study english harder >',\n",
       " '< you can use this phone >',\n",
       " '< as you like > > >',\n",
       " '< where is the dutch embassy >',\n",
       " '< carry this for me > >',\n",
       " '< i m reading this book >',\n",
       " '< tom smelled something > > >',\n",
       " '< i owe him dollars > >',\n",
       " '< i often hiccup > > >',\n",
       " '< they have a common hobby >',\n",
       " '< i am a tourist > >',\n",
       " '< i never eat meat > >',\n",
       " '< tom is wicked > > >',\n",
       " '< why did you kiss me >',\n",
       " '< what planet are you from >',\n",
       " '< this girl is very awful >',\n",
       " '< it hardly ever rains there >',\n",
       " '< have you finished the papers >',\n",
       " '< you can count on her >',\n",
       " '< the bird is dead > >',\n",
       " '< tom is dying his hair >',\n",
       " '< this is food > > >',\n",
       " '< she explained a joke > >',\n",
       " '< he left the door unlocked >',\n",
       " '< they re gone > > >',\n",
       " '< i want them > > >',\n",
       " '< fishing is prohibited here > >',\n",
       " '< i m alone with tom >',\n",
       " '< girls are not welcome > >',\n",
       " '< turn on the gas > >',\n",
       " '< somebody tried to kill me >',\n",
       " '< copying is not theft > >',\n",
       " '< try it once again > >',\n",
       " '< put it down > > >',\n",
       " '< that s acceptable > > >',\n",
       " '< i ve never killed anyone >',\n",
       " '< i barely know you > >',\n",
       " '< you re upset > > >',\n",
       " '< his family is very large >',\n",
       " '< clean up the room > >',\n",
       " '< today is monday > > >',\n",
       " '< it s terribly important > >',\n",
       " '< how long will it take >',\n",
       " '< he is eight > > >',\n",
       " '< you d better go > >',\n",
       " '< the germans were very friendly >',\n",
       " '< tom is a good student >',\n",
       " '< i am from the usa >',\n",
       " '< my watch is waterproof > >',\n",
       " '< get lost > > > >',\n",
       " '< what more do you need >',\n",
       " '< i bet you know french >',\n",
       " '< animals are our friends > >',\n",
       " '< they were everywhere > > >',\n",
       " '< this information is confidential > >',\n",
       " '< a car drove past > >',\n",
       " '< we will accept your conditions >',\n",
       " '< mary loves sunsets > > >',\n",
       " '< she s crazy about me >',\n",
       " '< who wrote this poem > >',\n",
       " '< rome is an italian town >',\n",
       " '< i am not busy now >',\n",
       " '< why are you still here >',\n",
       " '< this book is yours > >',\n",
       " '< one must not abuse animals >',\n",
       " '< these shoes are killing me >',\n",
       " '< emily asked me a question >',\n",
       " '< so far so good > >',\n",
       " '< something terrible s happened > >',\n",
       " '< she takes everything for granted >',\n",
       " '< tom respects his parents > >',\n",
       " '< can you fix our sink >',\n",
       " '< a girl stood there crying >',\n",
       " '< paolo was found dead > >',\n",
       " '< the plan is not mature >',\n",
       " '< here chicky chicky > > >',\n",
       " '< mahjong tiles are very beautiful >',\n",
       " '< i like reading books > >',\n",
       " '< i have a book > >',\n",
       " '< tell me what you see >',\n",
       " '< that s an old trick >',\n",
       " '< he died from overwork > >',\n",
       " '< everybody laughed at the boy >',\n",
       " '< i passed clots > > >',\n",
       " '< his technique was the best >',\n",
       " '< he committed a serious crime >',\n",
       " '< she showed me her garden >',\n",
       " '< we re from here > >',\n",
       " '< which ﬁlm did you see >',\n",
       " '< they are my classmates > >',\n",
       " '< you can study here > >',\n",
       " '< i can t see > >',\n",
       " '< she is cold to me >',\n",
       " '< i want some cake > >',\n",
       " '< did you cut the paper >',\n",
       " '< let me ask you something >',\n",
       " '< we re nearly finished > >',\n",
       " '< the fathers work > > >',\n",
       " '< marika helps me in english >',\n",
       " '< he laughed at my joke >',\n",
       " '< the pink pillow is clean >',\n",
       " '< tom is wasteful > > >',\n",
       " '< he fired but missed > >',\n",
       " '< they mix the ingredients together >',\n",
       " '< he s my first love >',\n",
       " '< where is my money > >',\n",
       " '< my daughter had a concussion >',\n",
       " '< hand over your weapons > >',\n",
       " '< horror movies frighten me > >',\n",
       " '< tom s car has horsepower >',\n",
       " '< he is short but strong >',\n",
       " '< rainy days make me depressed >',\n",
       " '< where has this man gone >',\n",
       " '< let s order two bottles >',\n",
       " '< the world hates me > >',\n",
       " '< you overestimate him > > >',\n",
       " '< i ve forgotten his name >',\n",
       " '< he must be the principal >',\n",
       " '< i m from kyoto > >',\n",
       " '< from the suburbs > > >',\n",
       " '< they read newspapers and books >',\n",
       " '< the hotel was in sight >',\n",
       " '< you must not kill > >',\n",
       " '< she is a quiet woman >',\n",
       " '< please don t mumble > >',\n",
       " '< do it now tom > >',\n",
       " '< get off my lawn > >',\n",
       " '< you were overwhelmed > > >',\n",
       " '< the radio is on > >',\n",
       " '< turn down the volume please >',\n",
       " '< the roof is very low >',\n",
       " '< can you come at nine >',\n",
       " '< tom has a bad reputation >',\n",
       " '< tom has many talents > >',\n",
       " '< he needed the money > >',\n",
       " '< this girl has no mother >',\n",
       " '< how were your last exams >',\n",
       " '< you have no messages > >',\n",
       " '< i hope tom is right >',\n",
       " '< he likes fishing > > >',\n",
       " '< i m from the future >',\n",
       " '< here he comes > > >',\n",
       " '< i m at your disposal >',\n",
       " '< i ve lost my pencil >',\n",
       " '< i found the book boring >',\n",
       " '< your beauty turns me pale >',\n",
       " '< mike always stays cool > >',\n",
       " '< we call our dog pochi >',\n",
       " '< they were forced to withdraw >',\n",
       " '< i m wealthy > > >',\n",
       " '< can i speak to him >',\n",
       " '< i will notify tom > >',\n",
       " '< actinium is a silvery metal >',\n",
       " '< he s cruel and heartless >',\n",
       " '< i caught a cold > >',\n",
       " '< father is angry with me >',\n",
       " '< it s not my style >',\n",
       " '< could you open the window >',\n",
       " '< my brother watches television > >',\n",
       " '< teachers must understand children > >',\n",
       " '< can you fix my computer >',\n",
       " '< everything is covered with dust >',\n",
       " '< what > > > > >',\n",
       " '< are you ill > > >',\n",
       " '< damn > > > > >',\n",
       " '< the statement was not timely >',\n",
       " '< where s my tea > >',\n",
       " '< bill was in his bedroom >',\n",
       " '< i hesitate a little > >',\n",
       " '< kaoru has gone to america >',\n",
       " '< is that a common name >',\n",
       " '< i teach spanish > > >',\n",
       " '< don t respond > > >',\n",
       " '< barrichello drives very fast > >',\n",
       " '< is mary your daughter > >',\n",
       " '< tom is warm and generous >',\n",
       " '< they ll find him > >',\n",
       " '< wait till six > > >',\n",
       " '< do you like sweet tea >',\n",
       " '< it s urgent > > >',\n",
       " '< he is american > > >',\n",
       " '< bumblebees are bigger than bees >',\n",
       " '< this novel bores me > >',\n",
       " '< he boasts of his wealth >',\n",
       " '< he is fine and gentle >',\n",
       " '< why were you absent yesterday >',\n",
       " '< you re the expert > >',\n",
       " '< we re having a conference >',\n",
       " '< let s get some lunch >',\n",
       " '< bye > > > > >',\n",
       " '< the car wouldn t start >',\n",
       " '< ken has two cats > >',\n",
       " '< he was naive > > >',\n",
       " '< i m paul your roommate >',\n",
       " '< you are my mother > >',\n",
       " '< what should i do now >',\n",
       " '< you didn t call me >',\n",
       " '< are you mad > > >',\n",
       " '< have you already forgotten me >',\n",
       " '< did you keep in touch >',\n",
       " '< tom likes redheads > > >',\n",
       " '< where is laurie > > >',\n",
       " '< i want a book > >',\n",
       " '< tom threatened me > > >',\n",
       " '< oil this bicycle > > >',\n",
       " '< i tell you the truth >',\n",
       " '< they ve forgiven me > >',\n",
       " '< you were handsome > > >',\n",
       " '< he has seven sons > >',\n",
       " '< she is gaining in weight >',\n",
       " '< please delete the comment > >',\n",
       " '< i like studying english > >',\n",
       " '< he is trustworthy > > >',\n",
       " '< it s a good school >',\n",
       " '< they have the same habits >',\n",
       " '< he speaks french fluently > >',\n",
       " '< she likes sleeping > > >',\n",
       " '< i think you re nuts >',\n",
       " '< tom is brushing his teeth >',\n",
       " '< she wants him > > >',\n",
       " '< they laughed at his mistake >',\n",
       " '< yes my angel > > >',\n",
       " '< you re obstinate > > >',\n",
       " '< she s my classmate > >',\n",
       " '< he neglected his duties > >',\n",
       " '< the vise is closing again >',\n",
       " '< tom lowered his voice > >',\n",
       " '< this medicine tastes horrible > >',\n",
       " '< that s our house > >',\n",
       " '< nobody believes me > > >',\n",
       " '< he is gross man > >',\n",
       " '< this room is large enough >',\n",
       " '< you leave me no choice >',\n",
       " '< we weren t lucky > >',\n",
       " '< what if i get caught >',\n",
       " '< have you measured it > >',\n",
       " '< i d like a tea >',\n",
       " '< where are your keys > >',\n",
       " '< the work is practically finished >',\n",
       " '< you know where tom is >',\n",
       " '< the baby was fast asleep >',\n",
       " '< are you a fresher > >',\n",
       " '< he is his own master >',\n",
       " '< what s up mike > >',\n",
       " '< you mustn t tell anyone >',\n",
       " '< i teach french to adults >',\n",
       " '< my sister has a piano >',\n",
       " '< the professor teaches czech > >',\n",
       " '< tom made a pilgrimage > >',\n",
       " '< some bread and butter > >',\n",
       " '< hunger is the best sauce >',\n",
       " '< you re not young anymore >',\n",
       " '< a mirror reflects light > >',\n",
       " '< i need the keys > >',\n",
       " '< he has blond hair > >',\n",
       " '< where is the american embassy >',\n",
       " '< they believe in god > >',\n",
       " '< he will be missed > >',\n",
       " '< he is a clever boy >',\n",
       " '< i‘m ironing my handkerchiefs > >',\n",
       " '< how was your trip > >',\n",
       " '< today isn t my birthday >',\n",
       " '< please turn the car around >',\n",
       " '< are you finished > > >',\n",
       " '< whose is this bag > >',\n",
       " '< many admire her > > >',\n",
       " '< i m on the roof >',\n",
       " '< everybody likes his jokes > >',\n",
       " '< are you an uighur > >',\n",
       " '< is tom hungry > > >',\n",
       " '< the book s white > >',\n",
       " '< i like jazz > > >',\n",
       " '< come home early > > >',\n",
       " '< he took poison by mistake >',\n",
       " '< could you open the window >',\n",
       " '< mary was kidnapped by pirates >',\n",
       " '< she agreed with my idea >',\n",
       " '< those girls are prostitutes > >',\n",
       " '< tom was arrested for theft >',\n",
       " '< we were neighbors > > >',\n",
       " '< that s free > > >',\n",
       " '< keep your cigarettes dry > >',\n",
       " '< don t open your book >',\n",
       " '< we accept credit cards > >',\n",
       " '< maybe he liked the idea >',\n",
       " '< she likes taking pictures > >',\n",
       " '< ken plays soccer every day >',\n",
       " '< god made the universe > >',\n",
       " '< the snow has disappeared > >',\n",
       " '< very many people know him >',\n",
       " '< japanese be talkative > > >',\n",
       " '< ah okay > > > >',\n",
       " '< mary is blonde > > >',\n",
       " '< the ring is cursed > >',\n",
       " '< who are you quarreling with >',\n",
       " '< you should ve notified us >',\n",
       " '< she really likes antiques > >',\n",
       " '< are you japanese > > >',\n",
       " '< this is my room > >',\n",
       " '< does tom know > > >',\n",
       " '< he isn t lonely anymore >',\n",
       " '< i live here > > >',\n",
       " '< tom has three secretaries > >',\n",
       " '< she ironed his shirts > >',\n",
       " '< my license was confiscated > >',\n",
       " '< i translate what i want >',\n",
       " '< tom worked > > > >',\n",
       " '< i ve never played golf >',\n",
       " '< the engine wouldn t start >',\n",
       " '< where s the bank > >',\n",
       " '< please bring it back tomorrow >',\n",
       " '< i like your city > >',\n",
       " '< are there any questions > >',\n",
       " '< good for you > > >',\n",
       " '< his stupid answer surprised everybody >',\n",
       " '< do it yourself > > >',\n",
       " '< i ll pay by cheque >',\n",
       " '< don t underestimate your opponent >',\n",
       " '< you have two brothers > >',\n",
       " '< my father is young > >',\n",
       " '< she s different > > >',\n",
       " '< we ate breakfast at seven >',\n",
       " '< i can t stand him >',\n",
       " '< it wasn t his idea >',\n",
       " '< i also like candy > >',\n",
       " '< prohibition is hereby officially prohibited >',\n",
       " '< a car went by > >',\n",
       " '< may i take a rest >',\n",
       " '< teaching is learning > > >',\n",
       " '< you must come with me >',\n",
       " '< your opinion is very constructive >',\n",
       " '< never try to die > >',\n",
       " '< she is not there > >',\n",
       " '< what brings you here > >',\n",
       " '< give me a tip > >',\n",
       " '< you are always welcome > >',\n",
       " '< can i touch it > >',\n",
       " '< tom is a bad cook >',\n",
       " '< you come from sweden > >',\n",
       " '< don t run so fast >',\n",
       " '< these oranges are very sour >',\n",
       " '< my father likes his job >',\n",
       " '< everybody laughed at the boy >',\n",
       " '< there was only one left >',\n",
       " '< where did you go > >',\n",
       " '< give tom a call > >',\n",
       " '< we should study together > >',\n",
       " '< i like learning ancient languages >',\n",
       " '< you can t help me >',\n",
       " '< tom wants to be hugged >',\n",
       " '< she was seduced by tom >',\n",
       " '< tom has already begun > >',\n",
       " '< tom is back again > >',\n",
       " '< the room was dark > >',\n",
       " '< where are the gloves > >',\n",
       " '< could you please be quiet >',\n",
       " '< did he use a condom >',\n",
       " '< she was laughed at > >',\n",
       " '< live and let live > >',\n",
       " '< get it ready at once >',\n",
       " '< did you see her face >',\n",
       " '< how can it be done >',\n",
       " '< he abused the privilege > >',\n",
       " '< tom screamed like a woman >',\n",
       " '< i was fired > > >',\n",
       " '< was his story true > >',\n",
       " '< it is windy today > >',\n",
       " '< where s your brother > >',\n",
       " '< be nice to ann > >',\n",
       " '< she is incompetent > > >',\n",
       " '< this isn t money > >',\n",
       " '< the prophecy came true > >',\n",
       " '< she liked him right off >',\n",
       " '< these things aren t mine >',\n",
       " '< where did you get this >',\n",
       " '< he demanded better pay > >',\n",
       " '< i am very sad today >',\n",
       " '< tom might be wrong > >',\n",
       " '< love is selfish > > >',\n",
       " '< i am nothing without you >',\n",
       " '< that s not very reassuring >',\n",
       " '< you have to go home >',\n",
       " '< tom fastened his seatbelt > >',\n",
       " '< this noise is unbearable > >',\n",
       " '< no thanks > > > >',\n",
       " '< can i go first > >',\n",
       " '< save tom > > > >',\n",
       " '< will you do it > >',\n",
       " '< i have lost my wallet >',\n",
       " '< will you give me some >',\n",
       " '< i can t go alone >',\n",
       " '< learning foreign languages is boring >',\n",
       " '< we walked to my room >',\n",
       " '< he was a good king >',\n",
       " '< translate the underlined sentences > >',\n",
       " '< shall we start > > >',\n",
       " '< tom is realistic > > >',\n",
       " '< it happened just like this >',\n",
       " '< you can count yourself lucky >',\n",
       " '< you may take the book >',\n",
       " '< is mary with you > >',\n",
       " '< jack can speak french > >',\n",
       " '< this smells like cheese > >',\n",
       " '< be quiet for a moment >',\n",
       " '< tom was promoted to foreman >',\n",
       " '< there s a serious problem >',\n",
       " '< i majored in psychology > >',\n",
       " '< he s not ready > >',\n",
       " '< tom tends to exaggerate > >',\n",
       " '< you aren t invited > >',\n",
       " '< they are very old > >',\n",
       " '< the rain is wonderful > >',\n",
       " '< his work is now complete >',\n",
       " '< i hate my friends > >',\n",
       " '< the exact date is > >',\n",
       " '< we need this > > >',\n",
       " '< tom must be very tired >',\n",
       " '< the boy is thirsty > >',\n",
       " '< my nose is itchy > >',\n",
       " '< we hate violence > > >',\n",
       " '< tom s free > > >',\n",
       " '< can you close the door >',\n",
       " '< it is their only choice >',\n",
       " '< tom likes blondes > > >',\n",
       " '< they needed jobs and training >',\n",
       " '< after the rain fair weather >',\n",
       " '< those photos are hers > >',\n",
       " '< he s strong > > >',\n",
       " '< the cold is intense > >',\n",
       " '< i love movies > > >',\n",
       " '< please read this book > >',\n",
       " '< it uses solar power > >',\n",
       " '< it was quite pleasant > >',\n",
       " '< where s the bag > >',\n",
       " '< radioactive matter is dangerous > >',\n",
       " '< we have reached our destination >',\n",
       " '< i wash my hands > >',\n",
       " '< i think you are mistaken >',\n",
       " '< they remained sitting there > >',\n",
       " '< tom understands french > > >',\n",
       " '< the apple fell > > >',\n",
       " '< will you help them > >',\n",
       " '< they were from liverpool > >',\n",
       " '< take a card > > >',\n",
       " '< that store is exceptionally expensive >',\n",
       " '< her book is very interesting >',\n",
       " '< i often read books > >',\n",
       " '< that is not your knife >',\n",
       " '< tom put down his pen >',\n",
       " '< i can t find tim >',\n",
       " '< where is the train > >',\n",
       " '< he s very understanding > >',\n",
       " '< rich parents for everyone > >',\n",
       " '< jim had his camera stolen >',\n",
       " '< give it a rest > >',\n",
       " '< it is foggy > > >',\n",
       " '< tom isn t married > >',\n",
       " '< did she say it > >',\n",
       " '< i am an american singer >',\n",
       " '< cinderella had two evil stepsisters >',\n",
       " '< it makes me feel uncomfortable >',\n",
       " '< microwaves can cause serious damage >',\n",
       " '< i am undressing > > >',\n",
       " '< tom is very stingy > >',\n",
       " '< my socks aren t here >',\n",
       " '< that didn t work > >',\n",
       " '< send it by airmail > >',\n",
       " '< that s just a yarn >',\n",
       " '< the signal was red > >',\n",
       " '< run for your life > >',\n",
       " '< i envy him > > >',\n",
       " '< my daughter lied to me >',\n",
       " '< i can not stomach it >',\n",
       " '< where s the president > >',\n",
       " '< she s a harsh critic >',\n",
       " '< he is my colleague > >',\n",
       " '< she was absent from class >',\n",
       " '< please be careful > > >',\n",
       " '< we re worried > > >',\n",
       " '< put your manners back in >',\n",
       " '< your daughter s on drugs >',\n",
       " '< could i help you > >',\n",
       " '< they are in the way >',\n",
       " '< he bowed his head > >',\n",
       " '< we all have dark secrets >',\n",
       " '< we want something new > >',\n",
       " '< they went surfing > > >',\n",
       " '< i supported him > > >',\n",
       " '< he is young and immature >',\n",
       " '< tom is a natural athlete >',\n",
       " '< i think tom is alive >',\n",
       " '< he kissed her passionately > >',\n",
       " '< where can i buy books >',\n",
       " '< i m not dead > >',\n",
       " '< your watch gains time > >',\n",
       " '< there is no doubt > >',\n",
       " '< there is one big difference >',\n",
       " '< i couldn t get it >',\n",
       " '< i m a woman > >',\n",
       " '< the dog went away > >',\n",
       " '< you are pregnant > > >',\n",
       " '< i hit it really hard >',\n",
       " '< please correct my pronunciation > >',\n",
       " '< i wish that were true >',\n",
       " '< that story is household legend >',\n",
       " '< i live in the country >',\n",
       " '< she is muttering to herself >',\n",
       " '< i never liked biology > >',\n",
       " '< who did you call > >',\n",
       " '< what s in your mind >',\n",
       " '< blood is thicker than water >',\n",
       " '< he is no ordinary student >',\n",
       " '< he hates her parents > >',\n",
       " '< how much is this dress >',\n",
       " '< the cheese is yellow > >',\n",
       " '< that baby has charming eyes >',\n",
       " '< i really don t remember >',\n",
       " '< she is old > > >',\n",
       " '< you cannot fail this time >',\n",
       " '< where can i buy silk >',\n",
       " '< is this your umbrella > >',\n",
       " '< please put those chairs away >',\n",
       " '< tom is skittish > > >',\n",
       " '< you mustn t touch it >',\n",
       " '< he knocked on the door >',\n",
       " '< the girls danced to music >',\n",
       " '< fasten your seatbelts > > >',\n",
       " '< he is no saint > >',\n",
       " '< iceland belonged to denmark > >',\n",
       " '< tom is very dexterous > >',\n",
       " '< it is necessary > > >',\n",
       " '< he will be free tomorrow >',\n",
       " '< he isn t alone anymore >',\n",
       " '< he adores his grandfather > >',\n",
       " '< the window is open > >',\n",
       " '< it s your only chance >',\n",
       " '< she s a fast learner >',\n",
       " '< it s your home > >',\n",
       " '< tom isn t finished yet >',\n",
       " '< tom is lazy and spoiled >',\n",
       " '< you re a prisoner > >',\n",
       " '< they are well looked after >',\n",
       " '< who allowed him in > >',\n",
       " '< answer as soon as possible >',\n",
       " '< no i m english > >',\n",
       " '< i can t help you >',\n",
       " '< this is a sentence > >',\n",
       " '< we ll call you > >',\n",
       " '< i m too confused > >',\n",
       " '< those cowards ran away soon >',\n",
       " '< is this hat yours > >',\n",
       " '< you are handsome > > >',\n",
       " '< i was working under snow >',\n",
       " '< the tea is boiling hot >',\n",
       " '< tom has a big schlong >',\n",
       " '< smoking compromises your health > >',\n",
       " '< is this your dvd > >',\n",
       " '< that car is quite new >',\n",
       " '< my mouth was dry > >',\n",
       " '< don t open the window >',\n",
       " '< will you accompany me > >',\n",
       " '< tom speaks french well > >',\n",
       " '< this is my question > >',\n",
       " '< yukiko likes potatoes > > >',\n",
       " '< she isn t alone anymore >',\n",
       " '< let s not play > >',\n",
       " '< i need an envelope > >',\n",
       " '< take the express on track >',\n",
       " '< i ll call again later >',\n",
       " '< you assemble sewing machines > >',\n",
       " '< it s rude to stare >',\n",
       " '< the doctor examined the patient >',\n",
       " '< what are your duties > >',\n",
       " '< i found tom s diary >',\n",
       " '< i must go now > >',\n",
       " '< your skirt is too short >',\n",
       " '< he has boozy breath > >',\n",
       " '< tom lies > > > >',\n",
       " '< be careful > > > >',\n",
       " '< will he ever forgive me >',\n",
       " '< you will fail > > >',\n",
       " '< this is my song > >',\n",
       " '< i m canadian > > >',\n",
       " '< can you do that again >',\n",
       " '< the meeting begins at three >',\n",
       " '< can i rent rackets > >',\n",
       " '< spiders spin webs > > >',\n",
       " '< i just got up > >',\n",
       " '< he hired a private investigator >',\n",
       " '< they re not criminals > >',\n",
       " '< you ve done it > >',\n",
       " '< these two leaves look alike >',\n",
       " '< you re insane > > >',\n",
       " '< the wind drifted the sand >',\n",
       " '< abrams intended browne to bark >',\n",
       " '< he sells radios > > >',\n",
       " '< please read that book > >',\n",
       " '< tom was a bad student >',\n",
       " '< this gentleman asks interesting questions >',\n",
       " '< bananas are energizing > > >',\n",
       " '< she s uninsured > > >',\n",
       " '< this actually happened to me >',\n",
       " '< her dress was ruined > >',\n",
       " '< she studies english > > >',\n",
       " '< may i use your toilet >',\n",
       " '< why not > > > >',\n",
       " '< why are you so ugly >',\n",
       " '< we re out of time >',\n",
       " '< this fish is delicious > >',\n",
       " '< i hope you understand > >',\n",
       " '< it was your idea > >',\n",
       " '< he disappeared > > > >',\n",
       " '< please turn off the gas >',\n",
       " '< it s not over yet >',\n",
       " '< they re quiet > > >',\n",
       " '< why are you so insecure >',\n",
       " '< motorcycles are very cheap > >',\n",
       " '< that s not acceptable > >',\n",
       " '< i think we have enough >',\n",
       " '< this river is not polluted >',\n",
       " '< that strong light blinds me >',\n",
       " '< that s a tall order >',\n",
       " '< i have no patience > >',\n",
       " '< she is shy of strangers >',\n",
       " '< the patient has no pulse >',\n",
       " '< he attends medical conferences > >',\n",
       " '< your shoes are untied > >',\n",
       " '< i feel the same > >',\n",
       " '< we cleaned up our garden >',\n",
       " '< where are the other girls >',\n",
       " '< tom always uses a condom >',\n",
       " '< you are crazy > > >',\n",
       " '< does your wife know > >',\n",
       " '< he s in big trouble >',\n",
       " '< the dog nipped at me >',\n",
       " '< this is my office > >',\n",
       " '< he has a dog > >',\n",
       " '< why does technology hate me >',\n",
       " '< whose car is that > >',\n",
       " '< they dropped out of school >',\n",
       " '< you can t leave now >',\n",
       " '< that s hers > > >',\n",
       " '< you can use my bicycle >',\n",
       " '< may it not happen > >',\n",
       " '< your feet are dirty > >',\n",
       " '< i can t forgive her >',\n",
       " '< his house is for sale >',\n",
       " '< language builds the world > >',\n",
       " '< lambs are baby sheep > >',\n",
       " '< my friend is indian > >',\n",
       " '< we re persevering > > >',\n",
       " '< she reminds me of someone >',\n",
       " '< mary is tall > > >',\n",
       " '< you re incredible > > >',\n",
       " '< the truth can be overwhelming >',\n",
       " '< i ve never liked her >',\n",
       " '< aurelie is a young shepherdess >',\n",
       " '< two seats were vacant > >',\n",
       " '< the rain lasted four days >',\n",
       " '< the boy was almost drowned >',\n",
       " '< do something > > > >',\n",
       " '< what is for dessert > >',\n",
       " '< tom called mary a traitor >',\n",
       " '< we re contributing > > >',\n",
       " '< i asked tom to come >',\n",
       " '< my sister has long legs >',\n",
       " '< we re armed > > >',\n",
       " '< suddenly he changed the subject >',\n",
       " '< tom is imitating the teacher >',\n",
       " '< give him a fair half >',\n",
       " '< tom pointed towards the mountain >',\n",
       " '< he loves the son > >',\n",
       " '< you can t leave now >',\n",
       " '< the germans are very crafty >',\n",
       " '< is this car new > >',\n",
       " '< the climate is changing > >',\n",
       " '< she s a bright student >',\n",
       " '< how will you stop him >',\n",
       " '< the store carries earthenware > >',\n",
       " '< tom has three cousins > >',\n",
       " '< i have many dreams > >',\n",
       " '< the train stopped in baltimore >',\n",
       " '< forgive and forget > > >',\n",
       " '< i m already busy > >',\n",
       " '< she hates him > > >',\n",
       " '< don t be upset > >',\n",
       " '< driving relaxes me > > >',\n",
       " '< she fell asleep > > >',\n",
       " '< dreams sometimes come true > >',\n",
       " '< you must perform your duty >',\n",
       " '< he asked for my assistance >',\n",
       " '< i asked for mr smith >',\n",
       " '< this is an historic city >',\n",
       " '< she must be dead > >',\n",
       " '< i come from saitama > >',\n",
       " '< the enemy is weak > >',\n",
       " '< tom is our neighbor > >',\n",
       " '< stay cool > > > >',\n",
       " '< tom finally changed his name >',\n",
       " '< i teach french > > >',\n",
       " '< tom shot at mary > >',\n",
       " '< the boy kissed the girl >',\n",
       " '< draw a circle > > >',\n",
       " '< she s young and energetic >',\n",
       " '< we went to barcelona > >',\n",
       " '< go through fire and water >',\n",
       " '< may the queen live long >',\n",
       " '< let s go > > >',\n",
       " '< i thought you enjoyed swimming >',\n",
       " '< i am playing it safe >',\n",
       " '< that is quite another matter >',\n",
       " '< make the cut deeper > >',\n",
       " '< he was thrown behind bars >',\n",
       " '< i m tired of writing >',\n",
       " '< he s nervous and excited >',\n",
       " '< tell me a joke > >',\n",
       " '< who turned off the light >',\n",
       " '< she watered her horse > >',\n",
       " '< come quickly > > > >',\n",
       " '< what a pessimism > > >',\n",
       " '< it is difficult for me >',\n",
       " '< we had a rough time >',\n",
       " '< you should go > > >',\n",
       " '< betty killed her > > >',\n",
       " '< take care of tom > >',\n",
       " '< tom thought mary was stupid >',\n",
       " '< they must be dead > >',\n",
       " '< let s all pray together >',\n",
       " '< i am a foreigner > >',\n",
       " '< you have everything > > >',\n",
       " '< do you have a boyfriend >',\n",
       " '< those aren t mine > >',\n",
       " '< i saw him there > >',\n",
       " '< that car is hers > >',\n",
       " '< which cat is yours > >',\n",
       " '< we are all born mad >',\n",
       " '< are you free tomorrow afternoon >',\n",
       " '< that was really difficult > >',\n",
       " '< i hate my job > >',\n",
       " '< get up early tomorrow morning >',\n",
       " '< i m untalented > > >',\n",
       " '< cheese is made from milk >',\n",
       " '< tom is wasting time > >',\n",
       " '< he s greedy and lazy >',\n",
       " '< my father drives to work >',\n",
       " '< tom i need your help >',\n",
       " '< the water is cold > >',\n",
       " '< where are my dragons > >',\n",
       " '< the job is practically done >',\n",
       " '< tom won the race > >',\n",
       " '< how did you like it >',\n",
       " '< we are a fortress > >',\n",
       " '< everything is better without you >',\n",
       " '< i m not your girlfriend >',\n",
       " '< this person is a teacher >',\n",
       " '< he s very secretive > >',\n",
       " '< larry ewing is married > >',\n",
       " '< mother is preparing supper > >',\n",
       " '< i miss you > > >',\n",
       " '< i like tatoeba > > >',\n",
       " '< he handled the tool skillfully >',\n",
       " '< he s a filthy liar >',\n",
       " '< how did he come here >',\n",
       " '< i have information > > >',\n",
       " '< tom has a heavy workload >',\n",
       " '< she s your friend > >',\n",
       " '< he called off the trip >',\n",
       " '< poets like milton are rare >',\n",
       " '< she translated his sentence > >',\n",
       " '< are you afraid of tom >',\n",
       " '< don t get caught > >',\n",
       " '< tom put on his swimsuit >',\n",
       " '< i have a dream > >',\n",
       " '< some animals eat their young >',\n",
       " '< do you want some company >',\n",
       " '< where s the museum > >',\n",
       " '< the father is always uncertain >',\n",
       " '< this wine s very intoxicating >',\n",
       " '< she s very lonely > >',\n",
       " '< she has to stop smoking >',\n",
       " '< the cat is brown > >',\n",
       " '< he had a stroke > >',\n",
       " '< this is my baby > >',\n",
       " '< how s your cold > >',\n",
       " '< is it popular > > >',\n",
       " '< i like painting too > >',\n",
       " '< can i see it > >',\n",
       " '< his house is very modern >',\n",
       " '< the answer is completely wrong >',\n",
       " '< i am thirsty > > >',\n",
       " '< tom is right > > >',\n",
       " '< she is very hardworking > >',\n",
       " '< staying home isn t fun >',\n",
       " '< she took my hand > >',\n",
       " '< you re unlucky > > >',\n",
       " '< she changed the subject > >',\n",
       " '< give us some space > >',\n",
       " '< are we going far > >',\n",
       " '< i know your father > >',\n",
       " '< it s a large amount >',\n",
       " '< she wants children > > >',\n",
       " '< i m very hungry today >',\n",
       " '< we have breakfast at seven >',\n",
       " '< tom has lost his job >',\n",
       " '< enter the room at once >',\n",
       " '< my name is sascha > >',\n",
       " '< the fence is painted green >',\n",
       " '< pull over here > > >',\n",
       " '< who speaks french > > >',\n",
       " '< i will miss you all >',\n",
       " '< tom is repairing his car >',\n",
       " '< they kept silence > > >',\n",
       " '< it is still light outside >',\n",
       " '< you are a woman > >',\n",
       " '< he is about forty > >',\n",
       " '< lightbulbs consume electricity > > >',\n",
       " '< he kept talking > > >',\n",
       " '< your french is improving > >',\n",
       " '< she is a whore > >',\n",
       " '< it seems she hates you >',\n",
       " '< she gradually began to understand >',\n",
       " '< god forbid > > > >',\n",
       " '< i m too confused > >',\n",
       " '< tom is completely nuts > >',\n",
       " '< what s your name > >',\n",
       " '< tom had a gun > >',\n",
       " '< are you thirsty > > >',\n",
       " '< tom hates mary > > >',\n",
       " '< thanks for the advice > >',\n",
       " '< is this your bike > >',\n",
       " '< tom is at the door >',\n",
       " '< ann is a little girl >',\n",
       " '< the sky has become clear >',\n",
       " '< aren t you busy > >',\n",
       " '< i have been loved > >',\n",
       " '< is this your briefcase > >',\n",
       " '< he paid me a compliment >',\n",
       " '< he is a kind person >',\n",
       " '< i hear someone coming > >',\n",
       " '< i eat fruit > > >',\n",
       " '< bring me something to eat >',\n",
       " '< it is characteristic of him >',\n",
       " '< that is not my line >',\n",
       " '< thanks for your quick answer >',\n",
       " '< they decided to get married >',\n",
       " '< he took off his hat >',\n",
       " '< the border is closed > >',\n",
       " '< talk to somebody > > >',\n",
       " '< tom knows what mary said >',\n",
       " '< they have many students > >',\n",
       " '< wait here till i return >',\n",
       " '< my vodka is strong > >',\n",
       " '< who owns this land > >',\n",
       " '< he s austrian > > >',\n",
       " '< i need the money > >',\n",
       " '< i have to dress up >',\n",
       " '< write me > > > >',\n",
       " '< can i go to work >',\n",
       " '< it s my life > >',\n",
       " '< the proof is trivial > >',\n",
       " '< the mountain is green > >',\n",
       " '< my house is fully insured >',\n",
       " '< help me > > > >',\n",
       " '< i love green peppers > >',\n",
       " '< only the truth hurts > >',\n",
       " '< this is my book > >',\n",
       " '< aluminium is a metal > >',\n",
       " '< this makes her angry > >',\n",
       " '< this is all on me >',\n",
       " '< he has too many books >',\n",
       " '< i never do any exercise >',\n",
       " '< the detectives pursued him > >',\n",
       " '< yours is over there > >',\n",
       " '< that s my answer > >',\n",
       " '< i am a good walker >',\n",
       " '< you should have come yesterday >',\n",
       " '< did i miss something > >',\n",
       " '< never give up > > >',\n",
       " '< this is my final offer >',\n",
       " '< i already have an envelope >',\n",
       " '< i can help my brother >',\n",
       " '< tom had a hideous hangover >',\n",
       " '< i ll be back soon >',\n",
       " '< let s begin on page >',\n",
       " '< this book is for you >',\n",
       " '< the book is easy > >',\n",
       " '< where did they learn this >',\n",
       " '< you have no new messages >',\n",
       " '< she pulled down the blinds >',\n",
       " '< i would rather stay here >',\n",
       " '< that was unforgivable > > >',\n",
       " '< i m bad at sports >',\n",
       " '< let s play volleyball > >',\n",
       " '< the blade was very sharp >',\n",
       " '< i believe that s correct >',\n",
       " '< he was nearing his end >',\n",
       " '< small cause great effect > >',\n",
       " '< not everybody wins > > >',\n",
       " '< china is bigger than japan >',\n",
       " '< we can t see it >',\n",
       " '< get off my lawn > >',\n",
       " '< he always wears blue shirts >',\n",
       " '< she raised her hand > >',\n",
       " '< his condition is critical > >',\n",
       " '< where did you learn german >',\n",
       " '< in the kitchen > > >',\n",
       " '< how is it made > >',\n",
       " '< she s my older sister >',\n",
       " ...]"
      ]
     },
     "execution_count": 10,
     "metadata": {},
     "output_type": "execute_result"
    }
   ],
   "source": [
    "data_en_processed"
   ]
  },
  {
   "cell_type": "code",
   "execution_count": 18,
   "metadata": {},
   "outputs": [
    {
     "data": {
      "text/plain": [
       "'< ohne luft würden wir sterben >'"
      ]
     },
     "execution_count": 18,
     "metadata": {},
     "output_type": "execute_result"
    }
   ],
   "source": [
    "data_de_processed[1]"
   ]
  },
  {
   "cell_type": "code",
   "execution_count": 36,
   "metadata": {},
   "outputs": [
    {
     "name": "stdout",
     "output_type": "stream",
     "text": [
      "5050039\n"
     ]
    }
   ],
   "source": [
    "count = 0\n",
    "for i in data.keys():\n",
    "    for sentence in data[i]:\n",
    "        for char in sentence:\n",
    "            count += 1\n",
    "        \n",
    "print(count//2)"
   ]
  },
  {
   "cell_type": "code",
   "execution_count": 59,
   "metadata": {},
   "outputs": [
    {
     "data": {
      "text/plain": [
       "['en', 'de']"
      ]
     },
     "execution_count": 59,
     "metadata": {},
     "output_type": "execute_result"
    }
   ],
   "source": [
    "list(data.keys())"
   ]
  },
  {
   "cell_type": "code",
   "execution_count": 60,
   "metadata": {},
   "outputs": [
    {
     "name": "stdout",
     "output_type": "stream",
     "text": [
      "4669629\n"
     ]
    }
   ],
   "source": [
    "cnt = 0\n",
    "for sentence in data['en']:\n",
    "    for char in sentence:\n",
    "        cnt += 1\n",
    "        \n",
    "print(cnt)"
   ]
  },
  {
   "cell_type": "code",
   "execution_count": 61,
   "metadata": {},
   "outputs": [
    {
     "name": "stdout",
     "output_type": "stream",
     "text": [
      "5430450\n"
     ]
    }
   ],
   "source": [
    "cnt = 0\n",
    "for sentence in data['de']:\n",
    "    for char in sentence:\n",
    "        cnt += 1\n",
    "        \n",
    "print(cnt)"
   ]
  },
  {
   "cell_type": "code",
   "execution_count": 62,
   "metadata": {},
   "outputs": [
    {
     "name": "stdout",
     "output_type": "stream",
     "text": [
      "913058\n",
      "6.908052325361458\n"
     ]
    }
   ],
   "source": [
    "cnt = 0\n",
    "for sentence in data['de']:\n",
    "        cnt += len(sentence.split(' '))\n",
    "        \n",
    "print(cnt)\n",
    "print(cnt/132173)"
   ]
  },
  {
   "cell_type": "code",
   "execution_count": 63,
   "metadata": {},
   "outputs": [
    {
     "name": "stdout",
     "output_type": "stream",
     "text": [
      ".\n"
     ]
    }
   ],
   "source": [
    "print(char)"
   ]
  },
  {
   "cell_type": "code",
   "execution_count": 64,
   "metadata": {
    "collapsed": true
   },
   "outputs": [],
   "source": [
    "src_txts = data['en']\n",
    "tgt_txts = data['de']\n",
    "\n",
    "MAX_LEN = 7\n",
    "\n",
    "en_txts, de_txts = [], []\n",
    "for i, src in enumerate(src_txts):\n",
    "    if len(src.split(' ')) <= MAX_LEN:\n",
    "        tgt = tgt_txts[i]\n",
    "        if len(tgt.split(' ')) <= MAX_LEN:\n",
    "            en_txts.append(src)\n",
    "            de_txts.append(tgt)\n",
    "            \n"
   ]
  },
  {
   "cell_type": "code",
   "execution_count": 65,
   "metadata": {},
   "outputs": [
    {
     "data": {
      "text/plain": [
       "79512"
      ]
     },
     "execution_count": 65,
     "metadata": {},
     "output_type": "execute_result"
    }
   ],
   "source": [
    "len(en_txts)"
   ]
  },
  {
   "cell_type": "code",
   "execution_count": 66,
   "metadata": {},
   "outputs": [
    {
     "data": {
      "text/plain": [
       "79512"
      ]
     },
     "execution_count": 66,
     "metadata": {},
     "output_type": "execute_result"
    }
   ],
   "source": [
    "len(de_txts)"
   ]
  },
  {
   "cell_type": "code",
   "execution_count": 67,
   "metadata": {},
   "outputs": [
    {
     "data": {
      "text/plain": [
       "('I took the bus back.', 'Ich nahm den Bus zurück.')"
      ]
     },
     "execution_count": 67,
     "metadata": {},
     "output_type": "execute_result"
    }
   ],
   "source": [
    "en_txts[0], de_txts[0]"
   ]
  },
  {
   "cell_type": "code",
   "execution_count": 68,
   "metadata": {},
   "outputs": [
    {
     "data": {
      "text/plain": [
       "('I am the fastest runner.', 'Ich bin der schnellste Läufer.')"
      ]
     },
     "execution_count": 68,
     "metadata": {},
     "output_type": "execute_result"
    }
   ],
   "source": [
    "en_txts[-1], de_txts[-1]"
   ]
  },
  {
   "cell_type": "code",
   "execution_count": 69,
   "metadata": {},
   "outputs": [
    {
     "name": "stdout",
     "output_type": "stream",
     "text": [
      "0\n"
     ]
    }
   ],
   "source": [
    "cnt = 0\n",
    "for sentence in data['de']:\n",
    "    if not set(sentence).isdisjoint(set(\"<>\")) :\n",
    "        cnt += 1\n",
    "        \n",
    "print(cnt)"
   ]
  },
  {
   "cell_type": "markdown",
   "metadata": {},
   "source": [
    "We decrease size of dataset temporarily"
   ]
  },
  {
   "cell_type": "code",
   "execution_count": 70,
   "metadata": {
    "scrolled": true
   },
   "outputs": [
    {
     "name": "stdout",
     "output_type": "stream",
     "text": [
      "100 100\n"
     ]
    }
   ],
   "source": [
    "en_txts = en_txts[ :nSentences]\n",
    "de_txts = de_txts[ :nSentences]\n",
    "print( len(en_txts), len(de_txts))"
   ]
  },
  {
   "cell_type": "code",
   "execution_count": 71,
   "metadata": {},
   "outputs": [
    {
     "name": "stdout",
     "output_type": "stream",
     "text": [
      "I took the bus back.I'm neither an Athenian nor a Greek.He had barely enough to eat.We are traveling to Barcelona.Without air we would die.I thought you'd be older.I thought you wouldn't like me.Hanako questioned his sincerity.I study Chinese in Beijing.I assume it was unavoidable.Pass me the salt, please.I guess the battery is flat.Tom is rarely late.Am I wrong?He admitted he had taken bribes.No one knew who owned the land.The boy is wearing glasses.My sister was whistling merrily.Bahrain became a kingdom in 2002.You know it better than me.What are your plans for Christmas?We know this song.That was hard to believe.I don't believe a word you say.Our money ran out.Thank you for clearing up the misunderstanding.The town lies on the seashore.He has blond hair.The magazine is aimed at teenagers.Thanks for your patience.Tom likes to do things by himself.Tom goes to bed early.We walked to the river.You've got the wrong number.Lions are stronger than wolves.This flower smells sweet.This book makes pleasant reading.Do you drink coffee?Do you have a cellphone?Tom swims very fast.He's feeling much better.She's looking for a better job.We're not here to arrest you.You remember them, don't you?Tom lost again.Do people still actually use that word?I tried to tell you.I know what you were doing.We arrived there before noon.I can't find what I'm looking for.Is this yours?He never says hi to me.We'll hurry.One who has everything can lose everything.I love the sun.Are you out of work?Tom asked if there were any questions.Look at these photos.I think Tom is hiding something.Can this be it?She's afraid to sing.Laurie is a very hardworking student.This is useless.Born in Athens in 1956.Tom has to go home.Will you go, too?I'll meet her tomorrow.I'll call her immediately.There is nothing to hinder me.Would you like to eat some pudding?He's a late developer.They pretended ignorance.My grandfather gets up early.She's wearing a nice hat.Tom is a truck driver.Fill the bottle with water.You sell us fish.I know how hard this must be.I was accustomed to hard work.Why is a raven like a writing-desk?You don't know what you're doing.He has two boys and a girl.Praise the Lord and pass the ammunition.Birds often fly together.I love serious music.Is Tom there alone?I'd like a city map.We are the Borg.Count me out if you go bowling.We are not speaking.You aren't yourself today.How much is this radio?He denied having stolen the money.They marched two abreast.I like traveling.I was just joking.Do what you want.I know Tom is still alive.Tom was struck by lightning and died.I don't give a fuck.\n"
     ]
    }
   ],
   "source": [
    "en_txts = en_txts[ :nSentences]\n",
    "print(\"\".join(en_txts)) #282 chars #28357\n"
   ]
  },
  {
   "cell_type": "code",
   "execution_count": 72,
   "metadata": {},
   "outputs": [
    {
     "data": {
      "text/plain": [
       "{' ',\n",
       " \"'\",\n",
       " ',',\n",
       " '-',\n",
       " '.',\n",
       " '0',\n",
       " '1',\n",
       " '2',\n",
       " '5',\n",
       " '6',\n",
       " '9',\n",
       " '?',\n",
       " 'A',\n",
       " 'B',\n",
       " 'C',\n",
       " 'D',\n",
       " 'F',\n",
       " 'G',\n",
       " 'H',\n",
       " 'I',\n",
       " 'L',\n",
       " 'M',\n",
       " 'N',\n",
       " 'O',\n",
       " 'P',\n",
       " 'S',\n",
       " 'T',\n",
       " 'W',\n",
       " 'Y',\n",
       " 'a',\n",
       " 'b',\n",
       " 'c',\n",
       " 'd',\n",
       " 'e',\n",
       " 'f',\n",
       " 'g',\n",
       " 'h',\n",
       " 'i',\n",
       " 'j',\n",
       " 'k',\n",
       " 'l',\n",
       " 'm',\n",
       " 'n',\n",
       " 'o',\n",
       " 'p',\n",
       " 'q',\n",
       " 'r',\n",
       " 's',\n",
       " 't',\n",
       " 'u',\n",
       " 'v',\n",
       " 'w',\n",
       " 'y',\n",
       " 'z'}"
      ]
     },
     "execution_count": 72,
     "metadata": {},
     "output_type": "execute_result"
    }
   ],
   "source": [
    "set(\"\".join(en_txts))"
   ]
  },
  {
   "cell_type": "code",
   "execution_count": 73,
   "metadata": {},
   "outputs": [
    {
     "name": "stdout",
     "output_type": "stream",
     "text": [
      "Ich nahm den Bus zurück.Ich bin weder Athener, noch Grieche.Er hatte kaum genug zu essen.Wir sind auf der Reise nach Barcelona.Ohne Luft würden wir sterben.Ich hätte Sie für älter gehalten.Ich dachte, du würdest mich nicht mögen.Hanako zweifelte an seiner Ernsthaftigkeit.Ich lerne in Peking Chinesisch.Das war wohl unvermeidlich.Reich mir das Salz, bitte.Ich schätze, die Batterie ist leer.Tom kommt selten zu spät.Hab ich nicht Recht?Er gab zu, bestochen worden zu sein.Niemand wusste, wem das Land gehörte.Der Junge trägt eine Brille.Meine Schwester pfiff munter vor sich hin.Bahrain wurde 2002 ein Königreich.Du weißt das besser als ich.Was hast du zu Weihnachten vor?Wir kennen dieses Lied.Das war schwer zu glauben.Ich glaube dir kein Wort.Das Geld ging uns aus.Danke, dass du das Missverständnis geklärt hast.Die Stadt liegt an der Meeresküste.Er hat blonde Haare.Die Zeitschrift richtet sich an Teenager.Danke für Ihre Geduld!Tom arbeitet gern allein.Tom geht früh ins Bett.Wir liefen zum Fluss.Sie sind falsch verbunden.Löwen sind stärker als Wölfe.Diese Blume duftet süß.Dieses Buch liest sich schön.Trinkst du Kaffee?Hast du ein Natel?Tom schwimmt sehr schnell.Er fühlt sich schon viel besser.Nach einer besseren Arbeit sucht sie.Wir sind nicht hier, um dich festzunehmen.Du erinnerst dich an sie, nicht wahr?Tom hat wieder verloren.Wird das Wort überhaupt noch benutzt?Ich habe versucht, es Ihnen zu sagen.Ich weiß, was du getan hast.Wir kamen dort vor der Mittagsstunde an.Ich kann nicht finden, wonach ich suche.Ist das hier deins?Er grüßt mich nie.Wir beeilen uns.Wer alles hat, kann alles verlieren.Ich liebe die Sonne.Sind Sie ohne Arbeit?Tom erkundigte sich, ob jemand Fragen habe.Schauen Sie sich diese Fotos an!Ich glaube, dass Tom etwas verheimlicht.Kann es das sein?Sie scheut sich zu singen.Laurie ist eine sehr fleißige Schülerin.Das ist unnütz.Geboren in Athen 1956.Tom muss nach Hause.Gehst du auch?Ich werde mich morgen mit ihr treffen.Ich werde sie sofort anrufen.Da ist nichts, was mich hindert.Möchtest du etwas Pudding?Er ist ein SpätentwicklerSie gaben vor nichts zu wissen.Mein Großvater steht früh auf.Sie trägt einen schönen Hut.Tom ist Lastwagenfahrer.Füllen Sie die Flasche mit Wasser.Du verkaufst uns Fisch.Ich weiß, wie schwer das sein muss.Ich war an schwere Arbeit gewöhnt.Warum gleicht ein Rabe einem Schreibpult?Du weißt nicht, was du tust!Er hat zwei Jungen und ein Mädchen.Preiset Gott, verteilt die Waffen.Vögel fliegen oft zusammen.Ich liebe ernste Musik.Ist Tom alleine da?Ich hätte gern einen Stadtplan.Wir sind die Borg.Ich bin beim Bowling nicht dabei!Wir reden nicht mehr miteinander.Du bist heute nicht du selbst.Wie viel kostet dieses Radio?Er leugnete, das Geld gestohlen zu haben.Sie marschierten in Zweierreihen.Ich reise gerne.Ich habe nur Spaß gemacht.Mach, was du willst.Ich weiß, dass Tom noch lebt.Tom wurde vom Blitz getroffen und starb.Es ist mir wayne.\n"
     ]
    }
   ],
   "source": [
    "de_txts = de_txts[ :1000]\n",
    "print(\"\".join(de_txts)) #330 chars #32600"
   ]
  },
  {
   "cell_type": "code",
   "execution_count": 74,
   "metadata": {},
   "outputs": [
    {
     "data": {
      "text/plain": [
       "32600"
      ]
     },
     "execution_count": 74,
     "metadata": {},
     "output_type": "execute_result"
    }
   ],
   "source": [
    "60957 - 28357 "
   ]
  },
  {
   "cell_type": "code",
   "execution_count": null,
   "metadata": {
    "collapsed": true
   },
   "outputs": [],
   "source": []
  },
  {
   "cell_type": "code",
   "execution_count": 75,
   "metadata": {
    "collapsed": true
   },
   "outputs": [],
   "source": [
    "en_txts_ss = [' '.join([\"<\", sentence, \">\"]) for sentence in en_txts]\n",
    "de_txts_ss = [' '.join([\"<\", sentence, \">\"]) for sentence in de_txts]"
   ]
  },
  {
   "cell_type": "code",
   "execution_count": 76,
   "metadata": {},
   "outputs": [
    {
     "data": {
      "text/plain": [
       "'< I took the bus back. >'"
      ]
     },
     "execution_count": 76,
     "metadata": {},
     "output_type": "execute_result"
    }
   ],
   "source": [
    "en_txts_ss[0]"
   ]
  },
  {
   "cell_type": "code",
   "execution_count": 77,
   "metadata": {},
   "outputs": [
    {
     "data": {
      "text/plain": [
       "'< Ich nahm den Bus zurück. >'"
      ]
     },
     "execution_count": 77,
     "metadata": {},
     "output_type": "execute_result"
    }
   ],
   "source": [
    "de_txts_ss[0]"
   ]
  },
  {
   "cell_type": "code",
   "execution_count": 78,
   "metadata": {},
   "outputs": [
    {
     "data": {
      "text/plain": [
       "(54, 61)"
      ]
     },
     "execution_count": 78,
     "metadata": {},
     "output_type": "execute_result"
    }
   ],
   "source": [
    "#How many unique characters\n",
    "len(list(set(\"\".join(en_txts) ))) , len(list(set(\"\".join(de_txts) )))"
   ]
  },
  {
   "cell_type": "code",
   "execution_count": 79,
   "metadata": {
    "collapsed": true
   },
   "outputs": [],
   "source": [
    "uniq_en = sorted(list(set(\"\".join(en_txts) )))\n",
    "uniq_de = sorted(list(set(\"\".join(de_txts) )))\n",
    "ENG_CHARS = \"\".join(uniq_en)\n",
    "DE_CHARS =\"\".join(uniq_de)"
   ]
  },
  {
   "cell_type": "code",
   "execution_count": 80,
   "metadata": {},
   "outputs": [
    {
     "data": {
      "text/plain": [
       "\" ',-.012569?ABCDFGHILMNOPSTWYabcdefghijklmnopqrstuvwyz\""
      ]
     },
     "execution_count": 80,
     "metadata": {},
     "output_type": "execute_result"
    }
   ],
   "source": [
    "ENG_CHARS"
   ]
  },
  {
   "cell_type": "code",
   "execution_count": 81,
   "metadata": {},
   "outputs": [
    {
     "data": {
      "text/plain": [
       "' !,.012569?ABCDEFGHIJKLMNOPRSTVWZabcdefghijklmnoprstuvwyzßäöü'"
      ]
     },
     "execution_count": 81,
     "metadata": {},
     "output_type": "execute_result"
    }
   ],
   "source": [
    "DE_CHARS"
   ]
  },
  {
   "cell_type": "code",
   "execution_count": null,
   "metadata": {
    "collapsed": true
   },
   "outputs": [],
   "source": [
    "#Copy paste both lines in both corpora"
   ]
  },
  {
   "cell_type": "code",
   "execution_count": null,
   "metadata": {},
   "outputs": [
    {
     "name": "stderr",
     "output_type": "stream",
     "text": [
      "/home/shinchan/MLProject/venv/local/lib/python3.5/site-packages/ipykernel/__main__.py:1: DeprecationWarning: `Tracer` is deprecated since version 5.1, directly use `IPython.core.debugger.Pdb.set_trace()`\n",
      "  if __name__ == '__main__':\n"
     ]
    },
    {
     "name": "stdout",
     "output_type": "stream",
     "text": [
      "--Call--\n",
      "> \u001b[0;32m/home/shinchan/MLProject/venv/local/lib/python3.5/site-packages/IPython/core/displayhook.py\u001b[0m(236)\u001b[0;36m__call__\u001b[0;34m()\u001b[0m\n",
      "\u001b[0;32m    234 \u001b[0;31m        \u001b[0msys\u001b[0m\u001b[0;34m.\u001b[0m\u001b[0mstdout\u001b[0m\u001b[0;34m.\u001b[0m\u001b[0mflush\u001b[0m\u001b[0;34m(\u001b[0m\u001b[0;34m)\u001b[0m\u001b[0;34m\u001b[0m\u001b[0m\n",
      "\u001b[0m\u001b[0;32m    235 \u001b[0;31m\u001b[0;34m\u001b[0m\u001b[0m\n",
      "\u001b[0m\u001b[0;32m--> 236 \u001b[0;31m    \u001b[0;32mdef\u001b[0m \u001b[0m__call__\u001b[0m\u001b[0;34m(\u001b[0m\u001b[0mself\u001b[0m\u001b[0;34m,\u001b[0m \u001b[0mresult\u001b[0m\u001b[0;34m=\u001b[0m\u001b[0;32mNone\u001b[0m\u001b[0;34m)\u001b[0m\u001b[0;34m:\u001b[0m\u001b[0;34m\u001b[0m\u001b[0m\n",
      "\u001b[0m\u001b[0;32m    237 \u001b[0;31m        \"\"\"Printing with history cache management.\n",
      "\u001b[0m\u001b[0;32m    238 \u001b[0;31m\u001b[0;34m\u001b[0m\u001b[0m\n",
      "\u001b[0m\n",
      "ipdb> \n",
      "ipdb> \n",
      "ipdb> \n",
      "ipdb> \n",
      "--KeyboardInterrupt--\n"
     ]
    }
   ],
   "source": [
    "from IPython.core.debugger import Tracer; Tracer()() "
   ]
  },
  {
   "cell_type": "code",
   "execution_count": null,
   "metadata": {
    "collapsed": true
   },
   "outputs": [],
   "source": [
    "%whos"
   ]
  },
  {
   "cell_type": "code",
   "execution_count": null,
   "metadata": {
    "collapsed": true
   },
   "outputs": [],
   "source": [
    "import string\n",
    "puncAndNum = string.punctuation+'01233456789'\n",
    "\n",
    "#replace punctuation with space\n",
    "def replacePunctuation(x):\n",
    "    x = x.lower()\n",
    "    for char in x:\n",
    "        if char in puncAndNum:\n",
    "            #print(char)\n",
    "            x=x.replace(char,' ')\n",
    "    return ' '.join(x.split())\n"
   ]
  },
  {
   "cell_type": "code",
   "execution_count": null,
   "metadata": {
    "collapsed": true
   },
   "outputs": [],
   "source": [
    "replacePunctuation(\"hello 93 I'm 45 ? dwsdsa ddsa. ds\")"
   ]
  },
  {
   "cell_type": "code",
   "execution_count": null,
   "metadata": {
    "collapsed": true
   },
   "outputs": [],
   "source": [
    "enNoPunctuation = (replacePunctuation(\"\".join(en_txts)))\n",
    "print(enNoPunctuation)\n",
    "len(enNoPunctuation)"
   ]
  },
  {
   "cell_type": "code",
   "execution_count": null,
   "metadata": {
    "collapsed": true
   },
   "outputs": [],
   "source": [
    "deNoPunctuation = (replacePunctuation(\"\".join(de_txts)))\n",
    "print(deNoPunctuation)"
   ]
  },
  {
   "cell_type": "code",
   "execution_count": null,
   "metadata": {
    "collapsed": true
   },
   "outputs": [],
   "source": [
    "combined = open(\"input_en_de_nopunctuation_100.txt\", \"r\").read()\n",
    "wordList = combined.split(\" \")\n",
    "#print(wordList)\n",
    "#print(combined)\n",
    "wordCount = 0\n",
    "wordToIndexMap = {}\n",
    "indexToWordMap = {}\n",
    "for word in wordList:\n",
    "    #print(word)\n",
    "    if(not(word in wordToIndexMap)):\n",
    "        wordCount += 1\n",
    "        wordToIndexMap[word] = wordCount\n",
    "        indexToWordMap[wordCount] = word\n",
    "\n"
   ]
  },
  {
   "cell_type": "code",
   "execution_count": null,
   "metadata": {
    "collapsed": true
   },
   "outputs": [],
   "source": [
    "#wordToIndexMap\n",
    "#len(wordMap)\n",
    "\n",
    "def getIndex(x):\n",
    "    return wordToIndexMap[x]\n"
   ]
  },
  {
   "cell_type": "code",
   "execution_count": null,
   "metadata": {
    "collapsed": true
   },
   "outputs": [],
   "source": [
    "wordListIndexes = list(map(getIndex,wordList))"
   ]
  },
  {
   "cell_type": "code",
   "execution_count": null,
   "metadata": {
    "collapsed": true
   },
   "outputs": [],
   "source": [
    "#print(wordListIndexes)\n",
    "for word in wordList:\n",
    "    if(word!=indexToWordMap[wordToIndexMap[word]]):\n",
    "        print(\"fail\")"
   ]
  },
  {
   "cell_type": "code",
   "execution_count": null,
   "metadata": {
    "collapsed": true
   },
   "outputs": [],
   "source": [
    "print(wordList)"
   ]
  },
  {
   "cell_type": "code",
   "execution_count": null,
   "metadata": {
    "collapsed": true
   },
   "outputs": [],
   "source": [
    "# data I/O\n",
    "data =  wordList #open('input.txt', 'r').read() # should be simple plain text file\n",
    "chars = list(set(data))\n",
    "data_size, vocab_size = len(data), len(chars)\n",
    "print('data has %d characters, %d unique.' % (data_size, vocab_size))\n",
    "char_to_ix = { ch:i for i,ch in enumerate(chars) }\n",
    "ix_to_char = { i:ch for i,ch in enumerate(chars) }"
   ]
  },
  {
   "cell_type": "code",
   "execution_count": null,
   "metadata": {
    "collapsed": true
   },
   "outputs": [],
   "source": [
    "ix_to_char"
   ]
  },
  {
   "cell_type": "code",
   "execution_count": null,
   "metadata": {
    "collapsed": true
   },
   "outputs": [],
   "source": [
    "char_to_ix"
   ]
  },
  {
   "cell_type": "code",
   "execution_count": null,
   "metadata": {
    "collapsed": true
   },
   "outputs": [],
   "source": []
  },
  {
   "cell_type": "code",
   "execution_count": null,
   "metadata": {
    "collapsed": true
   },
   "outputs": [],
   "source": []
  },
  {
   "cell_type": "code",
   "execution_count": null,
   "metadata": {
    "collapsed": true
   },
   "outputs": [],
   "source": []
  },
  {
   "cell_type": "code",
   "execution_count": null,
   "metadata": {
    "collapsed": true
   },
   "outputs": [],
   "source": []
  },
  {
   "cell_type": "code",
   "execution_count": null,
   "metadata": {
    "collapsed": true
   },
   "outputs": [],
   "source": []
  },
  {
   "cell_type": "code",
   "execution_count": null,
   "metadata": {
    "collapsed": true
   },
   "outputs": [],
   "source": []
  },
  {
   "cell_type": "code",
   "execution_count": null,
   "metadata": {
    "collapsed": true
   },
   "outputs": [],
   "source": []
  },
  {
   "cell_type": "code",
   "execution_count": null,
   "metadata": {
    "collapsed": true
   },
   "outputs": [],
   "source": []
  },
  {
   "cell_type": "code",
   "execution_count": null,
   "metadata": {
    "collapsed": true
   },
   "outputs": [],
   "source": []
  },
  {
   "cell_type": "code",
   "execution_count": null,
   "metadata": {
    "collapsed": true
   },
   "outputs": [],
   "source": []
  },
  {
   "cell_type": "code",
   "execution_count": null,
   "metadata": {
    "collapsed": true
   },
   "outputs": [],
   "source": []
  },
  {
   "cell_type": "code",
   "execution_count": null,
   "metadata": {
    "collapsed": true
   },
   "outputs": [],
   "source": []
  },
  {
   "cell_type": "code",
   "execution_count": null,
   "metadata": {
    "collapsed": true
   },
   "outputs": [],
   "source": []
  },
  {
   "cell_type": "code",
   "execution_count": null,
   "metadata": {
    "collapsed": true
   },
   "outputs": [],
   "source": []
  },
  {
   "cell_type": "code",
   "execution_count": null,
   "metadata": {
    "collapsed": true
   },
   "outputs": [],
   "source": []
  },
  {
   "cell_type": "code",
   "execution_count": null,
   "metadata": {
    "collapsed": true
   },
   "outputs": [],
   "source": []
  },
  {
   "cell_type": "code",
   "execution_count": null,
   "metadata": {
    "collapsed": true
   },
   "outputs": [],
   "source": []
  },
  {
   "cell_type": "code",
   "execution_count": null,
   "metadata": {
    "collapsed": true
   },
   "outputs": [],
   "source": []
  },
  {
   "cell_type": "code",
   "execution_count": null,
   "metadata": {
    "collapsed": true
   },
   "outputs": [],
   "source": []
  },
  {
   "cell_type": "code",
   "execution_count": null,
   "metadata": {
    "collapsed": true
   },
   "outputs": [],
   "source": []
  },
  {
   "cell_type": "code",
   "execution_count": null,
   "metadata": {
    "collapsed": true
   },
   "outputs": [],
   "source": []
  },
  {
   "cell_type": "code",
   "execution_count": null,
   "metadata": {
    "collapsed": true
   },
   "outputs": [],
   "source": []
  },
  {
   "cell_type": "code",
   "execution_count": null,
   "metadata": {
    "collapsed": true
   },
   "outputs": [],
   "source": []
  },
  {
   "cell_type": "code",
   "execution_count": null,
   "metadata": {
    "collapsed": true
   },
   "outputs": [],
   "source": []
  },
  {
   "cell_type": "code",
   "execution_count": null,
   "metadata": {
    "collapsed": true
   },
   "outputs": [],
   "source": []
  },
  {
   "cell_type": "code",
   "execution_count": null,
   "metadata": {
    "collapsed": true
   },
   "outputs": [],
   "source": []
  }
 ],
 "metadata": {
  "anaconda-cloud": {},
  "kernelspec": {
   "display_name": "Python 3",
   "language": "python",
   "name": "python3"
  },
  "language_info": {
   "codemirror_mode": {
    "name": "ipython",
    "version": 3
   },
   "file_extension": ".py",
   "mimetype": "text/x-python",
   "name": "python",
   "nbconvert_exporter": "python",
   "pygments_lexer": "ipython3",
   "version": "3.5.2"
  }
 },
 "nbformat": 4,
 "nbformat_minor": 1
}
