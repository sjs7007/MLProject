{
 "cells": [
  {
   "cell_type": "code",
   "execution_count": 135,
   "metadata": {},
   "outputs": [],
   "source": [
    "import gensim\n",
    "modelEn = gensim.models.Word2Vec.load('english_word2vec')\n",
    "modelGe = gensim.models.Word2Vec.load('german_word2vec')\n",
    "x=modelGe['bett']\n",
    "#print(x)"
   ]
  },
  {
   "cell_type": "code",
   "execution_count": 136,
   "metadata": {},
   "outputs": [
    {
     "name": "stdout",
     "output_type": "stream",
     "text": [
      "[('bett', 1.0), ('ausland', 0.8606898784637451), ('theater', 0.8447960019111633)]\n",
      "[('bett', 0.8514659404754639), ('ausland', 0.7406695485115051), ('krankenhaus', 0.7105259895324707)]\n"
     ]
    }
   ],
   "source": [
    "#vary each with +/- n% and see\n",
    "import random \n",
    "import copy\n",
    "xModified = copy.copy(x)\n",
    "#print(x)\n",
    "\n",
    "\n",
    "def varyN(n):\n",
    "    return (2*random.random()-1)*(n/100.0)\n",
    "\n",
    "print(modelGe.similar_by_vector(x, topn=3, restrict_vocab=None))\n",
    "\n",
    "\n",
    "for i in range(len(xModified)):\n",
    "    xModified[i] = (xModified[i] + xModified[i] * varyN(100))\n",
    "    \n",
    "print(modelGe.similar_by_vector(xModified, topn=3, restrict_vocab=None))"
   ]
  },
  {
   "cell_type": "code",
   "execution_count": null,
   "metadata": {
    "collapsed": true
   },
   "outputs": [],
   "source": []
  },
  {
   "cell_type": "code",
   "execution_count": null,
   "metadata": {
    "collapsed": true
   },
   "outputs": [],
   "source": []
  }
 ],
 "metadata": {
  "kernelspec": {
   "display_name": "Python 3",
   "language": "python",
   "name": "python3"
  },
  "language_info": {
   "codemirror_mode": {
    "name": "ipython",
    "version": 3
   },
   "file_extension": ".py",
   "mimetype": "text/x-python",
   "name": "python",
   "nbconvert_exporter": "python",
   "pygments_lexer": "ipython3",
   "version": "3.5.2"
  }
 },
 "nbformat": 4,
 "nbformat_minor": 2
}
