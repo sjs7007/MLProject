{
 "cells": [
  {
   "cell_type": "code",
   "execution_count": 2,
   "metadata": {
    "collapsed": true,
    "deletable": true,
    "editable": true
   },
   "outputs": [],
   "source": [
    "import json\n",
    "\n",
    "data = json.load(open('en_de_corpus.json', 'r'))\n",
    "nSentences = 100"
   ]
  },
  {
   "cell_type": "code",
   "execution_count": 3,
   "metadata": {
    "collapsed": false,
    "deletable": true,
    "editable": true
   },
   "outputs": [
    {
     "data": {
      "text/plain": [
       "dict"
      ]
     },
     "execution_count": 3,
     "metadata": {},
     "output_type": "execute_result"
    }
   ],
   "source": [
    "type(data)"
   ]
  },
  {
   "cell_type": "code",
   "execution_count": 4,
   "metadata": {
    "collapsed": false,
    "deletable": true,
    "editable": true
   },
   "outputs": [
    {
     "data": {
      "text/plain": [
       "2"
      ]
     },
     "execution_count": 4,
     "metadata": {},
     "output_type": "execute_result"
    }
   ],
   "source": [
    "len(data)"
   ]
  },
  {
   "cell_type": "code",
   "execution_count": 5,
   "metadata": {
    "collapsed": false,
    "deletable": true,
    "editable": true
   },
   "outputs": [
    {
     "data": {
      "text/plain": [
       "132173"
      ]
     },
     "execution_count": 5,
     "metadata": {},
     "output_type": "execute_result"
    }
   ],
   "source": [
    "len(data['en'])"
   ]
  },
  {
   "cell_type": "code",
   "execution_count": 6,
   "metadata": {
    "collapsed": false,
    "deletable": true,
    "editable": true
   },
   "outputs": [
    {
     "data": {
      "text/plain": [
       "132173"
      ]
     },
     "execution_count": 6,
     "metadata": {},
     "output_type": "execute_result"
    }
   ],
   "source": [
    "len(data['de'])"
   ]
  },
  {
   "cell_type": "code",
   "execution_count": 7,
   "metadata": {
    "collapsed": false,
    "deletable": true,
    "editable": true
   },
   "outputs": [
    {
     "data": {
      "text/plain": [
       "\"What do I have to do now that I'm registered?\""
      ]
     },
     "execution_count": 7,
     "metadata": {},
     "output_type": "execute_result"
    }
   ],
   "source": [
    "data['en'][0]"
   ]
  },
  {
   "cell_type": "code",
   "execution_count": 8,
   "metadata": {
    "collapsed": false,
    "deletable": true,
    "editable": true
   },
   "outputs": [
    {
     "data": {
      "text/plain": [
       "'Was mache ich jetzt, da ich angemeldet bin?'"
      ]
     },
     "execution_count": 8,
     "metadata": {},
     "output_type": "execute_result"
    }
   ],
   "source": [
    "data['de'][0]"
   ]
  },
  {
   "cell_type": "code",
   "execution_count": 9,
   "metadata": {
    "collapsed": false,
    "deletable": true,
    "editable": true
   },
   "outputs": [
    {
     "name": "stdout",
     "output_type": "stream",
     "text": [
      "5050039\n"
     ]
    }
   ],
   "source": [
    "count = 0\n",
    "for i in data.keys():\n",
    "    for sentence in data[i]:\n",
    "        for char in sentence:\n",
    "            count += 1\n",
    "        \n",
    "print(count//2)"
   ]
  },
  {
   "cell_type": "code",
   "execution_count": 10,
   "metadata": {
    "collapsed": false,
    "deletable": true,
    "editable": true
   },
   "outputs": [
    {
     "data": {
      "text/plain": [
       "['de', 'en']"
      ]
     },
     "execution_count": 10,
     "metadata": {},
     "output_type": "execute_result"
    }
   ],
   "source": [
    "list(data.keys())"
   ]
  },
  {
   "cell_type": "code",
   "execution_count": 11,
   "metadata": {
    "collapsed": false,
    "deletable": true,
    "editable": true
   },
   "outputs": [
    {
     "name": "stdout",
     "output_type": "stream",
     "text": [
      "4669629\n"
     ]
    }
   ],
   "source": [
    "cnt = 0\n",
    "for sentence in data['en']:\n",
    "    for char in sentence:\n",
    "        cnt += 1\n",
    "        \n",
    "print(cnt)"
   ]
  },
  {
   "cell_type": "code",
   "execution_count": 12,
   "metadata": {
    "collapsed": false,
    "deletable": true,
    "editable": true
   },
   "outputs": [
    {
     "name": "stdout",
     "output_type": "stream",
     "text": [
      "5430450\n"
     ]
    }
   ],
   "source": [
    "cnt = 0\n",
    "for sentence in data['de']:\n",
    "    for char in sentence:\n",
    "        cnt += 1\n",
    "        \n",
    "print(cnt)"
   ]
  },
  {
   "cell_type": "code",
   "execution_count": 13,
   "metadata": {
    "collapsed": false,
    "deletable": true,
    "editable": true
   },
   "outputs": [
    {
     "name": "stdout",
     "output_type": "stream",
     "text": [
      "913058\n",
      "6.908052325361458\n"
     ]
    }
   ],
   "source": [
    "cnt = 0\n",
    "for sentence in data['de']:\n",
    "        cnt += len(sentence.split(' '))\n",
    "        \n",
    "print(cnt)\n",
    "print(cnt/132173)"
   ]
  },
  {
   "cell_type": "code",
   "execution_count": 14,
   "metadata": {
    "collapsed": false,
    "deletable": true,
    "editable": true
   },
   "outputs": [
    {
     "name": "stdout",
     "output_type": "stream",
     "text": [
      ".\n"
     ]
    }
   ],
   "source": [
    "print(char)"
   ]
  },
  {
   "cell_type": "code",
   "execution_count": 15,
   "metadata": {
    "collapsed": true,
    "deletable": true,
    "editable": true
   },
   "outputs": [],
   "source": [
    "src_txts = data['en']\n",
    "tgt_txts = data['de']\n",
    "\n",
    "MAX_LEN = 8\n",
    "\n",
    "en_txts, de_txts = [], []\n",
    "for i, src in enumerate(src_txts):\n",
    "    if len(src.split(' ')) <= MAX_LEN:\n",
    "        tgt = tgt_txts[i]\n",
    "        if len(tgt.split(' ')) <= MAX_LEN:\n",
    "            en_txts.append(src)\n",
    "            de_txts.append(tgt)\n",
    "            \n"
   ]
  },
  {
   "cell_type": "code",
   "execution_count": 16,
   "metadata": {
    "collapsed": false,
    "deletable": true,
    "editable": true
   },
   "outputs": [
    {
     "data": {
      "text/plain": [
       "95425"
      ]
     },
     "execution_count": 16,
     "metadata": {},
     "output_type": "execute_result"
    }
   ],
   "source": [
    "len(en_txts)"
   ]
  },
  {
   "cell_type": "code",
   "execution_count": 17,
   "metadata": {
    "collapsed": false,
    "deletable": true,
    "editable": true
   },
   "outputs": [
    {
     "data": {
      "text/plain": [
       "95425"
      ]
     },
     "execution_count": 17,
     "metadata": {},
     "output_type": "execute_result"
    }
   ],
   "source": [
    "len(de_txts)"
   ]
  },
  {
   "cell_type": "code",
   "execution_count": 18,
   "metadata": {
    "collapsed": false,
    "deletable": true,
    "editable": true
   },
   "outputs": [
    {
     "data": {
      "text/plain": [
       "('I took the bus back.', 'Ich nahm den Bus zurück.')"
      ]
     },
     "execution_count": 18,
     "metadata": {},
     "output_type": "execute_result"
    }
   ],
   "source": [
    "en_txts[0], de_txts[0]"
   ]
  },
  {
   "cell_type": "code",
   "execution_count": 19,
   "metadata": {
    "collapsed": false,
    "deletable": true,
    "editable": true
   },
   "outputs": [
    {
     "data": {
      "text/plain": [
       "('The water in this fountain is very cold.',\n",
       " 'Das Wasser dieses Springbrunnens ist sehr kalt.')"
      ]
     },
     "execution_count": 19,
     "metadata": {},
     "output_type": "execute_result"
    }
   ],
   "source": [
    "en_txts[-1], de_txts[-1]"
   ]
  },
  {
   "cell_type": "code",
   "execution_count": 20,
   "metadata": {
    "collapsed": false,
    "deletable": true,
    "editable": true
   },
   "outputs": [
    {
     "name": "stdout",
     "output_type": "stream",
     "text": [
      "0\n"
     ]
    }
   ],
   "source": [
    "cnt = 0\n",
    "for sentence in data['de']:\n",
    "    if not set(sentence).isdisjoint(set(\"<>\")) :\n",
    "        cnt += 1\n",
    "        \n",
    "print(cnt)"
   ]
  },
  {
   "cell_type": "markdown",
   "metadata": {
    "deletable": true,
    "editable": true
   },
   "source": [
    "We decrease size of dataset temporarily"
   ]
  },
  {
   "cell_type": "code",
   "execution_count": 21,
   "metadata": {
    "collapsed": false,
    "deletable": true,
    "editable": true,
    "scrolled": true
   },
   "outputs": [
    {
     "name": "stdout",
     "output_type": "stream",
     "text": [
      "100 100\n"
     ]
    }
   ],
   "source": [
    "en_txts = en_txts[ :nSentences]\n",
    "de_txts = de_txts[ :nSentences]\n",
    "print( len(en_txts), len(de_txts))"
   ]
  },
  {
   "cell_type": "code",
   "execution_count": 22,
   "metadata": {
    "collapsed": false,
    "deletable": true,
    "editable": true
   },
   "outputs": [
    {
     "name": "stdout",
     "output_type": "stream",
     "text": [
      "I took the bus back.I'm neither an Athenian nor a Greek.He had barely enough to eat.We are traveling to Barcelona.Without air we would die.I thought you'd be older.I thought you wouldn't like me.Hanako questioned his sincerity.I study Chinese in Beijing.I assume it was unavoidable.Pass me the salt, please.I guess the battery is flat.Tom is rarely late.Am I wrong?He admitted he had taken bribes.No one knew who owned the land.The boy is wearing glasses.My sister was whistling merrily.Bahrain became a kingdom in 2002.You know it better than me.What are your plans for Christmas?We know this song.That was hard to believe.I don't believe a word you say.Our money ran out.Thank you for clearing up the misunderstanding.The town lies on the seashore.He has blond hair.The magazine is aimed at teenagers.Thanks for your patience.Tom likes to do things by himself.Tom goes to bed early.We walked to the river.You've got the wrong number.I look up to him in many ways.Lions are stronger than wolves.This flower smells sweet.This book makes pleasant reading.Do you drink coffee?Do you have a cellphone?Tom swims very fast.He's feeling much better.She's looking for a better job.We're not here to arrest you.You remember them, don't you?Tom lost again.Do people still actually use that word?I have nothing to do with the crime.I tried to tell you.I know what you were doing.We arrived there before noon.I can't find what I'm looking for.Is this yours?He never says hi to me.We'll hurry.One who has everything can lose everything.I love the sun.Are you out of work?Tom asked if there were any questions.Look at these photos.She played an important part in this project.I think Tom is hiding something.Can this be it?She's afraid to sing.Laurie is a very hardworking student.This is useless.Born in Athens in 1956.Tom has to go home.Will you go, too?I'll meet her tomorrow.I'll call her immediately.There is nothing to hinder me.Would you like to eat some pudding?He's a late developer.I bought this TV on the installment plan.They pretended ignorance.My grandfather gets up early.There's no doubt that he's innocent.Could you call me back a bit later?She's wearing a nice hat.Tom is a truck driver.Fill the bottle with water.You sell us fish.I know how hard this must be.I was accustomed to hard work.Why is a raven like a writing-desk?You don't know what you're doing.He has two boys and a girl.Praise the Lord and pass the ammunition.Birds often fly together.I love serious music.Is Tom there alone?I'd like a city map.We are the Borg.Count me out if you go bowling.We are not speaking.You aren't yourself today.It's popular among senior citizens.How much is this radio?He denied having stolen the money.\n"
     ]
    }
   ],
   "source": [
    "en_txts = en_txts[ :nSentences]\n",
    "print(\"\".join(en_txts)) #282 chars #28357\n"
   ]
  },
  {
   "cell_type": "code",
   "execution_count": 24,
   "metadata": {
    "collapsed": false
   },
   "outputs": [
    {
     "data": {
      "text/plain": [
       "{' ',\n",
       " \"'\",\n",
       " ',',\n",
       " '-',\n",
       " '.',\n",
       " '0',\n",
       " '1',\n",
       " '2',\n",
       " '5',\n",
       " '6',\n",
       " '9',\n",
       " '?',\n",
       " 'A',\n",
       " 'B',\n",
       " 'C',\n",
       " 'D',\n",
       " 'F',\n",
       " 'G',\n",
       " 'H',\n",
       " 'I',\n",
       " 'L',\n",
       " 'M',\n",
       " 'N',\n",
       " 'O',\n",
       " 'P',\n",
       " 'S',\n",
       " 'T',\n",
       " 'V',\n",
       " 'W',\n",
       " 'Y',\n",
       " 'a',\n",
       " 'b',\n",
       " 'c',\n",
       " 'd',\n",
       " 'e',\n",
       " 'f',\n",
       " 'g',\n",
       " 'h',\n",
       " 'i',\n",
       " 'j',\n",
       " 'k',\n",
       " 'l',\n",
       " 'm',\n",
       " 'n',\n",
       " 'o',\n",
       " 'p',\n",
       " 'q',\n",
       " 'r',\n",
       " 's',\n",
       " 't',\n",
       " 'u',\n",
       " 'v',\n",
       " 'w',\n",
       " 'y',\n",
       " 'z'}"
      ]
     },
     "execution_count": 24,
     "metadata": {},
     "output_type": "execute_result"
    }
   ],
   "source": [
    "set(\"\".join(en_txts))"
   ]
  },
  {
   "cell_type": "code",
   "execution_count": 22,
   "metadata": {
    "collapsed": false,
    "deletable": true,
    "editable": true
   },
   "outputs": [
    {
     "name": "stdout",
     "output_type": "stream",
     "text": [
      "Ich nahm den Bus zurück.Ich bin weder Athener, noch Grieche.Er hatte kaum genug zu essen.Wir sind auf der Reise nach Barcelona.Ohne Luft würden wir sterben.Ich hätte Sie für älter gehalten.Ich dachte, du würdest mich nicht mögen.Hanako zweifelte an seiner Ernsthaftigkeit.Ich lerne in Peking Chinesisch.Das war wohl unvermeidlich.Reich mir das Salz, bitte.Ich schätze, die Batterie ist leer.Tom kommt selten zu spät.Hab ich nicht Recht?Er gab zu, bestochen worden zu sein.Niemand wusste, wem das Land gehörte.Der Junge trägt eine Brille.Meine Schwester pfiff munter vor sich hin.Bahrain wurde 2002 ein Königreich.Du weißt das besser als ich.Was hast du zu Weihnachten vor?Wir kennen dieses Lied.Das war schwer zu glauben.Ich glaube dir kein Wort.Das Geld ging uns aus.Danke, dass du das Missverständnis geklärt hast.Die Stadt liegt an der Meeresküste.Er hat blonde Haare.Die Zeitschrift richtet sich an Teenager.Danke für Ihre Geduld!Tom arbeitet gern allein.Tom geht früh ins Bett.Wir liefen zum Fluss.Sie sind falsch verbunden.Ich sehe in vielerlei Hinsicht zu ihm auf.Löwen sind stärker als Wölfe.Diese Blume duftet süß.Dieses Buch liest sich schön.Trinkst du Kaffee?Hast du ein Natel?Tom schwimmt sehr schnell.Er fühlt sich schon viel besser.Nach einer besseren Arbeit sucht sie.Wir sind nicht hier, um dich festzunehmen.Du erinnerst dich an sie, nicht wahr?Tom hat wieder verloren.Wird das Wort überhaupt noch benutzt?Ich habe mit dem Verbrechen nichts zu tun.Ich habe versucht, es Ihnen zu sagen.Ich weiß, was du getan hast.Wir kamen dort vor der Mittagsstunde an.Ich kann nicht finden, wonach ich suche.Ist das hier deins?Er grüßt mich nie.Wir beeilen uns.Wer alles hat, kann alles verlieren.Ich liebe die Sonne.Sind Sie ohne Arbeit?Tom erkundigte sich, ob jemand Fragen habe.Schauen Sie sich diese Fotos an!Sie spielte in diesem Projekt eine wichtige Rolle.Ich glaube, dass Tom etwas verheimlicht.Kann es das sein?Sie scheut sich zu singen.Laurie ist eine sehr fleißige Schülerin.Das ist unnütz.Geboren in Athen 1956.Tom muss nach Hause.Gehst du auch?Ich werde mich morgen mit ihr treffen.Ich werde sie sofort anrufen.Da ist nichts, was mich hindert.Möchtest du etwas Pudding?Er ist ein SpätentwicklerIch habe diesen Fernseher auf Raten gekauft.Sie gaben vor nichts zu wissen.Mein Großvater steht früh auf.Es gibt keinen Zweifel, dass er unschuldig ist.Könnten Sie mich etwas später zurückrufen?Sie trägt einen schönen Hut.Tom ist Lastwagenfahrer.Füllen Sie die Flasche mit Wasser.Du verkaufst uns Fisch.Ich weiß, wie schwer das sein muss.Ich war an schwere Arbeit gewöhnt.Warum gleicht ein Rabe einem Schreibpult?Du weißt nicht, was du tust!Er hat zwei Jungen und ein Mädchen.Preiset Gott, verteilt die Waffen.Vögel fliegen oft zusammen.Ich liebe ernste Musik.Ist Tom alleine da?Ich hätte gern einen Stadtplan.Wir sind die Borg.Ich bin beim Bowling nicht dabei!Wir reden nicht mehr miteinander.Du bist heute nicht du selbst.Sie ist bei den älteren Bürgern sehr beliebt.Wie viel kostet dieses Radio?Er leugnete, das Geld gestohlen zu haben.\n"
     ]
    }
   ],
   "source": [
    "de_txts = de_txts[ :1000]\n",
    "print(\"\".join(de_txts)) #330 chars #32600"
   ]
  },
  {
   "cell_type": "code",
   "execution_count": 23,
   "metadata": {
    "collapsed": false,
    "deletable": true,
    "editable": true
   },
   "outputs": [
    {
     "data": {
      "text/plain": [
       "32600"
      ]
     },
     "execution_count": 23,
     "metadata": {},
     "output_type": "execute_result"
    }
   ],
   "source": [
    "60957 - 28357 "
   ]
  },
  {
   "cell_type": "code",
   "execution_count": null,
   "metadata": {
    "collapsed": true,
    "deletable": true,
    "editable": true
   },
   "outputs": [],
   "source": []
  },
  {
   "cell_type": "code",
   "execution_count": 24,
   "metadata": {
    "collapsed": true,
    "deletable": true,
    "editable": true
   },
   "outputs": [],
   "source": [
    "en_txts_ss = [' '.join([\"<\", sentence, \">\"]) for sentence in en_txts]\n",
    "de_txts_ss = [' '.join([\"<\", sentence, \">\"]) for sentence in de_txts]"
   ]
  },
  {
   "cell_type": "code",
   "execution_count": 25,
   "metadata": {
    "collapsed": false,
    "deletable": true,
    "editable": true
   },
   "outputs": [
    {
     "data": {
      "text/plain": [
       "'< I took the bus back. >'"
      ]
     },
     "execution_count": 25,
     "metadata": {},
     "output_type": "execute_result"
    }
   ],
   "source": [
    "en_txts_ss[0]"
   ]
  },
  {
   "cell_type": "code",
   "execution_count": 26,
   "metadata": {
    "collapsed": false,
    "deletable": true,
    "editable": true
   },
   "outputs": [
    {
     "data": {
      "text/plain": [
       "'< Ich nahm den Bus zurück. >'"
      ]
     },
     "execution_count": 26,
     "metadata": {},
     "output_type": "execute_result"
    }
   ],
   "source": [
    "de_txts_ss[0]"
   ]
  },
  {
   "cell_type": "code",
   "execution_count": 27,
   "metadata": {
    "collapsed": false,
    "deletable": true,
    "editable": true
   },
   "outputs": [
    {
     "data": {
      "text/plain": [
       "(55, 60)"
      ]
     },
     "execution_count": 27,
     "metadata": {},
     "output_type": "execute_result"
    }
   ],
   "source": [
    "#How many unique characters\n",
    "len(list(set(\"\".join(en_txts) ))) , len(list(set(\"\".join(de_txts) )))"
   ]
  },
  {
   "cell_type": "code",
   "execution_count": 28,
   "metadata": {
    "collapsed": false,
    "deletable": true,
    "editable": true
   },
   "outputs": [],
   "source": [
    "uniq_en = sorted(list(set(\"\".join(en_txts) )))\n",
    "uniq_de = sorted(list(set(\"\".join(de_txts) )))\n",
    "ENG_CHARS = \"\".join(uniq_en)\n",
    "DE_CHARS =\"\".join(uniq_de)"
   ]
  },
  {
   "cell_type": "code",
   "execution_count": 29,
   "metadata": {
    "collapsed": false,
    "deletable": true,
    "editable": true
   },
   "outputs": [
    {
     "data": {
      "text/plain": [
       "\" ',-.012569?ABCDFGHILMNOPSTVWYabcdefghijklmnopqrstuvwyz\""
      ]
     },
     "execution_count": 29,
     "metadata": {},
     "output_type": "execute_result"
    }
   ],
   "source": [
    "ENG_CHARS"
   ]
  },
  {
   "cell_type": "code",
   "execution_count": 30,
   "metadata": {
    "collapsed": false,
    "deletable": true,
    "editable": true
   },
   "outputs": [
    {
     "data": {
      "text/plain": [
       "' !,.012569?ABCDEFGHIJKLMNOPRSTVWZabcdefghijklmnoprstuvwzßäöü'"
      ]
     },
     "execution_count": 30,
     "metadata": {},
     "output_type": "execute_result"
    }
   ],
   "source": [
    "DE_CHARS"
   ]
  },
  {
   "cell_type": "code",
   "execution_count": 31,
   "metadata": {
    "collapsed": true,
    "deletable": true,
    "editable": true
   },
   "outputs": [],
   "source": [
    "#Copy paste both lines in both corpora"
   ]
  },
  {
   "cell_type": "code",
   "execution_count": null,
   "metadata": {
    "collapsed": false,
    "deletable": true,
    "editable": true
   },
   "outputs": [
    {
     "name": "stderr",
     "output_type": "stream",
     "text": [
      "/home/shinchan/MLProject/venv/local/lib/python3.5/site-packages/ipykernel/__main__.py:1: DeprecationWarning: `Tracer` is deprecated since version 5.1, directly use `IPython.core.debugger.Pdb.set_trace()`\n",
      "  if __name__ == '__main__':\n"
     ]
    },
    {
     "name": "stdout",
     "output_type": "stream",
     "text": [
      "--Call--\n",
      "> \u001b[0;32m/home/shinchan/MLProject/venv/local/lib/python3.5/site-packages/IPython/core/displayhook.py\u001b[0m(236)\u001b[0;36m__call__\u001b[0;34m()\u001b[0m\n",
      "\u001b[0;32m    234 \u001b[0;31m        \u001b[0msys\u001b[0m\u001b[0;34m.\u001b[0m\u001b[0mstdout\u001b[0m\u001b[0;34m.\u001b[0m\u001b[0mflush\u001b[0m\u001b[0;34m(\u001b[0m\u001b[0;34m)\u001b[0m\u001b[0;34m\u001b[0m\u001b[0m\n",
      "\u001b[0m\u001b[0;32m    235 \u001b[0;31m\u001b[0;34m\u001b[0m\u001b[0m\n",
      "\u001b[0m\u001b[0;32m--> 236 \u001b[0;31m    \u001b[0;32mdef\u001b[0m \u001b[0m__call__\u001b[0m\u001b[0;34m(\u001b[0m\u001b[0mself\u001b[0m\u001b[0;34m,\u001b[0m \u001b[0mresult\u001b[0m\u001b[0;34m=\u001b[0m\u001b[0;32mNone\u001b[0m\u001b[0;34m)\u001b[0m\u001b[0;34m:\u001b[0m\u001b[0;34m\u001b[0m\u001b[0m\n",
      "\u001b[0m\u001b[0;32m    237 \u001b[0;31m        \"\"\"Printing with history cache management.\n",
      "\u001b[0m\u001b[0;32m    238 \u001b[0;31m\u001b[0;34m\u001b[0m\u001b[0m\n",
      "\u001b[0m\n"
     ]
    }
   ],
   "source": [
    "from IPython.core.debugger import Tracer; Tracer()() "
   ]
  },
  {
   "cell_type": "code",
   "execution_count": 32,
   "metadata": {
    "collapsed": false,
    "deletable": true,
    "editable": true
   },
   "outputs": [
    {
     "name": "stdout",
     "output_type": "stream",
     "text": [
      "Variable     Type      Data/Info\n",
      "--------------------------------\n",
      "DE_CHARS     str        ,.ABCDEGHILOPRSWabcdefghiklmnorstuvwzäöü\n",
      "ENG_CHARS    str        '.ABCGHIWabcdeghijklmnoqrstuvwy\n",
      "MAX_LEN      int       8\n",
      "Tracer       type      <class 'IPython.core.debugger.Tracer'>\n",
      "char         str       .\n",
      "cnt          int       0\n",
      "count        int       10100079\n",
      "data         dict      n=2\n",
      "de_txts      list      n=10\n",
      "de_txts_ss   list      n=10\n",
      "en_txts      list      n=10\n",
      "en_txts_ss   list      n=10\n",
      "i            int       132172\n",
      "json         module    <module 'json' from '/hom<...>hon3.5/json/__init__.py'>\n",
      "sentence     str       Das Wasser dieses Springbrunnens ist sehr kalt.\n",
      "src          str       The water in this fountain is very cold.\n",
      "src_txts     list      n=132173\n",
      "tgt          str       Das Wasser dieses Springbrunnens ist sehr kalt.\n",
      "tgt_txts     list      n=132173\n",
      "uniq_de      list      n=41\n",
      "uniq_en      list      n=32\n"
     ]
    }
   ],
   "source": [
    "%whos"
   ]
  },
  {
   "cell_type": "code",
   "execution_count": 36,
   "metadata": {
    "collapsed": true,
    "deletable": true,
    "editable": true
   },
   "outputs": [],
   "source": [
    "import string\n",
    "puncAndNum = string.punctuation+'01233456789'\n",
    "\n",
    "def replacePunctuation(x):\n",
    "    x = x.lower()\n",
    "    for char in x:\n",
    "        if char in puncAndNum:\n",
    "            #print(char)\n",
    "            x=x.replace(char,' ')\n",
    "    return ' '.join(x.split())\n"
   ]
  },
  {
   "cell_type": "code",
   "execution_count": 37,
   "metadata": {
    "collapsed": false,
    "deletable": true,
    "editable": true
   },
   "outputs": [
    {
     "data": {
      "text/plain": [
       "'hello i m dwsdsa ddsa ds'"
      ]
     },
     "execution_count": 37,
     "metadata": {},
     "output_type": "execute_result"
    }
   ],
   "source": [
    "replacePunctuation(\"hello 93 I'm 45 ? dwsdsa ddsa. ds\")"
   ]
  },
  {
   "cell_type": "code",
   "execution_count": 44,
   "metadata": {
    "collapsed": false,
    "deletable": true,
    "editable": true
   },
   "outputs": [
    {
     "name": "stdout",
     "output_type": "stream",
     "text": [
      "i took the bus back i m neither an athenian nor a greek he had barely enough to eat we are traveling to barcelona without air we would die i thought you d be older i thought you wouldn t like me hanako questioned his sincerity i study chinese in beijing i assume it was unavoidable pass me the salt please i guess the battery is flat tom is rarely late am i wrong he admitted he had taken bribes no one knew who owned the land the boy is wearing glasses my sister was whistling merrily bahrain became a kingdom in you know it better than me what are your plans for christmas we know this song that was hard to believe i don t believe a word you say our money ran out thank you for clearing up the misunderstanding the town lies on the seashore he has blond hair the magazine is aimed at teenagers thanks for your patience tom likes to do things by himself tom goes to bed early we walked to the river you ve got the wrong number i look up to him in many ways lions are stronger than wolves this flower smells sweet this book makes pleasant reading do you drink coffee do you have a cellphone tom swims very fast he s feeling much better she s looking for a better job we re not here to arrest you you remember them don t you tom lost again do people still actually use that word i have nothing to do with the crime i tried to tell you i know what you were doing we arrived there before noon i can t find what i m looking for is this yours he never says hi to me we ll hurry one who has everything can lose everything i love the sun are you out of work tom asked if there were any questions look at these photos she played an important part in this project i think tom is hiding something can this be it she s afraid to sing laurie is a very hardworking student this is useless born in athens in tom has to go home will you go too i ll meet her tomorrow i ll call her immediately there is nothing to hinder me would you like to eat some pudding he s a late developer i bought this tv on the installment plan they pretended ignorance my grandfather gets up early there s no doubt that he s innocent could you call me back a bit later she s wearing a nice hat tom is a truck driver fill the bottle with water you sell us fish i know how hard this must be i was accustomed to hard work why is a raven like a writing desk you don t know what you re doing he has two boys and a girl praise the lord and pass the ammunition birds often fly together i love serious music is tom there alone i d like a city map we are the borg count me out if you go bowling we are not speaking you aren t yourself today it s popular among senior citizens how much is this radio he denied having stolen the money\n"
     ]
    },
    {
     "data": {
      "text/plain": [
       "2686"
      ]
     },
     "execution_count": 44,
     "metadata": {},
     "output_type": "execute_result"
    }
   ],
   "source": [
    "enNoPunctuation = (replacePunctuation(\"\".join(en_txts)))\n",
    "print(enNoPunctuation)\n",
    "len(enNoPunctuation)"
   ]
  },
  {
   "cell_type": "code",
   "execution_count": 43,
   "metadata": {
    "collapsed": false
   },
   "outputs": [
    {
     "name": "stdout",
     "output_type": "stream",
     "text": [
      "ich nahm den bus zurück ich bin weder athener noch grieche er hatte kaum genug zu essen wir sind auf der reise nach barcelona ohne luft würden wir sterben ich hätte sie für älter gehalten ich dachte du würdest mich nicht mögen hanako zweifelte an seiner ernsthaftigkeit ich lerne in peking chinesisch das war wohl unvermeidlich reich mir das salz bitte ich schätze die batterie ist leer tom kommt selten zu spät hab ich nicht recht er gab zu bestochen worden zu sein niemand wusste wem das land gehörte der junge trägt eine brille meine schwester pfiff munter vor sich hin bahrain wurde ein königreich du weißt das besser als ich was hast du zu weihnachten vor wir kennen dieses lied das war schwer zu glauben ich glaube dir kein wort das geld ging uns aus danke dass du das missverständnis geklärt hast die stadt liegt an der meeresküste er hat blonde haare die zeitschrift richtet sich an teenager danke für ihre geduld tom arbeitet gern allein tom geht früh ins bett wir liefen zum fluss sie sind falsch verbunden ich sehe in vielerlei hinsicht zu ihm auf löwen sind stärker als wölfe diese blume duftet süß dieses buch liest sich schön trinkst du kaffee hast du ein natel tom schwimmt sehr schnell er fühlt sich schon viel besser nach einer besseren arbeit sucht sie wir sind nicht hier um dich festzunehmen du erinnerst dich an sie nicht wahr tom hat wieder verloren wird das wort überhaupt noch benutzt ich habe mit dem verbrechen nichts zu tun ich habe versucht es ihnen zu sagen ich weiß was du getan hast wir kamen dort vor der mittagsstunde an ich kann nicht finden wonach ich suche ist das hier deins er grüßt mich nie wir beeilen uns wer alles hat kann alles verlieren ich liebe die sonne sind sie ohne arbeit tom erkundigte sich ob jemand fragen habe schauen sie sich diese fotos an sie spielte in diesem projekt eine wichtige rolle ich glaube dass tom etwas verheimlicht kann es das sein sie scheut sich zu singen laurie ist eine sehr fleißige schülerin das ist unnütz geboren in athen tom muss nach hause gehst du auch ich werde mich morgen mit ihr treffen ich werde sie sofort anrufen da ist nichts was mich hindert möchtest du etwas pudding er ist ein spätentwicklerich habe diesen fernseher auf raten gekauft sie gaben vor nichts zu wissen mein großvater steht früh auf es gibt keinen zweifel dass er unschuldig ist könnten sie mich etwas später zurückrufen sie trägt einen schönen hut tom ist lastwagenfahrer füllen sie die flasche mit wasser du verkaufst uns fisch ich weiß wie schwer das sein muss ich war an schwere arbeit gewöhnt warum gleicht ein rabe einem schreibpult du weißt nicht was du tust er hat zwei jungen und ein mädchen preiset gott verteilt die waffen vögel fliegen oft zusammen ich liebe ernste musik ist tom alleine da ich hätte gern einen stadtplan wir sind die borg ich bin beim bowling nicht dabei wir reden nicht mehr miteinander du bist heute nicht du selbst sie ist bei den älteren bürgern sehr beliebt wie viel kostet dieses radio er leugnete das geld gestohlen zu haben\n"
     ]
    }
   ],
   "source": [
    "deNoPunctuation = (replacePunctuation(\"\".join(de_txts)))\n",
    "print(deNoPunctuation)"
   ]
  },
  {
   "cell_type": "code",
   "execution_count": 89,
   "metadata": {
    "collapsed": false
   },
   "outputs": [],
   "source": [
    "combined = open(\"input_en_de_nopunctuation_100.txt\", \"r\").read()\n",
    "wordList = combined.split(\" \")\n",
    "#print(wordList)\n",
    "#print(combined)\n",
    "wordCount = 0\n",
    "wordToIndexMap = {}\n",
    "indexToWordMap = {}\n",
    "for word in wordList:\n",
    "    #print(word)\n",
    "    if(not(word in wordToIndexMap)):\n",
    "        wordCount += 1\n",
    "        wordToIndexMap[word] = wordCount\n",
    "        indexToWordMap[wordCount] = word\n",
    "\n"
   ]
  },
  {
   "cell_type": "code",
   "execution_count": 90,
   "metadata": {
    "collapsed": false
   },
   "outputs": [],
   "source": [
    "#wordToIndexMap\n",
    "#len(wordMap)\n",
    "\n",
    "def getIndex(x):\n",
    "    return wordToIndexMap[x]\n"
   ]
  },
  {
   "cell_type": "code",
   "execution_count": 91,
   "metadata": {
    "collapsed": false
   },
   "outputs": [],
   "source": [
    "wordListIndexes = list(map(getIndex,wordList))"
   ]
  },
  {
   "cell_type": "code",
   "execution_count": 94,
   "metadata": {
    "collapsed": false
   },
   "outputs": [],
   "source": [
    "#print(wordListIndexes)\n",
    "for word in wordList:\n",
    "    if(word!=indexToWordMap[wordToIndexMap[word]]):\n",
    "        print(\"fail\")"
   ]
  },
  {
   "cell_type": "code",
   "execution_count": 95,
   "metadata": {
    "collapsed": false
   },
   "outputs": [
    {
     "name": "stdout",
     "output_type": "stream",
     "text": [
      "['i', 'took', 'the', 'bus', 'back', 'i', 'm', 'neither', 'an', 'athenian', 'nor', 'a', 'greek', 'he', 'had', 'barely', 'enough', 'to', 'eat', 'we', 'are', 'traveling', 'to', 'barcelona', 'without', 'air', 'we', 'would', 'die', 'i', 'thought', 'you', 'd', 'be', 'older', 'i', 'thought', 'you', 'wouldn', 't', 'like', 'me', 'hanako', 'questioned', 'his', 'sincerity', 'i', 'study', 'chinese', 'in', 'beijing', 'i', 'assume', 'it', 'was', 'unavoidable', 'pass', 'me', 'the', 'salt', 'please', 'i', 'guess', 'the', 'battery', 'is', 'flat', 'tom', 'is', 'rarely', 'late', 'am', 'i', 'wrong', 'he', 'admitted', 'he', 'had', 'taken', 'bribes', 'no', 'one', 'knew', 'who', 'owned', 'the', 'land', 'the', 'boy', 'is', 'wearing', 'glasses', 'my', 'sister', 'was', 'whistling', 'merrily', 'bahrain', 'became', 'a', 'kingdom', 'in', 'you', 'know', 'it', 'better', 'than', 'me', 'what', 'are', 'your', 'plans', 'for', 'christmas', 'we', 'know', 'this', 'song', 'that', 'was', 'hard', 'to', 'believe', 'i', 'don', 't', 'believe', 'a', 'word', 'you', 'say', 'our', 'money', 'ran', 'out', 'thank', 'you', 'for', 'clearing', 'up', 'the', 'misunderstanding', 'the', 'town', 'lies', 'on', 'the', 'seashore', 'he', 'has', 'blond', 'hair', 'the', 'magazine', 'is', 'aimed', 'at', 'teenagers', 'thanks', 'for', 'your', 'patience', 'tom', 'likes', 'to', 'do', 'things', 'by', 'himself', 'tom', 'goes', 'to', 'bed', 'early', 'we', 'walked', 'to', 'the', 'river', 'you', 've', 'got', 'the', 'wrong', 'number', 'i', 'look', 'up', 'to', 'him', 'in', 'many', 'ways', 'lions', 'are', 'stronger', 'than', 'wolves', 'this', 'flower', 'smells', 'sweet', 'this', 'book', 'makes', 'pleasant', 'reading', 'do', 'you', 'drink', 'coffee', 'do', 'you', 'have', 'a', 'cellphone', 'tom', 'swims', 'very', 'fast', 'he', 's', 'feeling', 'much', 'better', 'she', 's', 'looking', 'for', 'a', 'better', 'job', 'we', 're', 'not', 'here', 'to', 'arrest', 'you', 'you', 'remember', 'them', 'don', 't', 'you', 'tom', 'lost', 'again', 'do', 'people', 'still', 'actually', 'use', 'that', 'word', 'i', 'have', 'nothing', 'to', 'do', 'with', 'the', 'crime', 'i', 'tried', 'to', 'tell', 'you', 'i', 'know', 'what', 'you', 'were', 'doing', 'we', 'arrived', 'there', 'before', 'noon', 'i', 'can', 't', 'find', 'what', 'i', 'm', 'looking', 'for', 'is', 'this', 'yours', 'he', 'never', 'says', 'hi', 'to', 'me', 'we', 'll', 'hurry', 'one', 'who', 'has', 'everything', 'can', 'lose', 'everything', 'i', 'love', 'the', 'sun', 'are', 'you', 'out', 'of', 'work', 'tom', 'asked', 'if', 'there', 'were', 'any', 'questions', 'look', 'at', 'these', 'photos', 'she', 'played', 'an', 'important', 'part', 'in', 'this', 'project', 'i', 'think', 'tom', 'is', 'hiding', 'something', 'can', 'this', 'be', 'it', 'she', 's', 'afraid', 'to', 'sing', 'laurie', 'is', 'a', 'very', 'hardworking', 'student', 'this', 'is', 'useless', 'born', 'in', 'athens', 'in', 'tom', 'has', 'to', 'go', 'home', 'will', 'you', 'go', 'too', 'i', 'll', 'meet', 'her', 'tomorrow', 'i', 'll', 'call', 'her', 'immediately', 'there', 'is', 'nothing', 'to', 'hinder', 'me', 'would', 'you', 'like', 'to', 'eat', 'some', 'pudding', 'he', 's', 'a', 'late', 'developer', 'i', 'bought', 'this', 'tv', 'on', 'the', 'installment', 'plan', 'they', 'pretended', 'ignorance', 'my', 'grandfather', 'gets', 'up', 'early', 'there', 's', 'no', 'doubt', 'that', 'he', 's', 'innocent', 'could', 'you', 'call', 'me', 'back', 'a', 'bit', 'later', 'she', 's', 'wearing', 'a', 'nice', 'hat', 'tom', 'is', 'a', 'truck', 'driver', 'fill', 'the', 'bottle', 'with', 'water', 'you', 'sell', 'us', 'fish', 'i', 'know', 'how', 'hard', 'this', 'must', 'be', 'i', 'was', 'accustomed', 'to', 'hard', 'work', 'why', 'is', 'a', 'raven', 'like', 'a', 'writing', 'desk', 'you', 'don', 't', 'know', 'what', 'you', 're', 'doing', 'he', 'has', 'two', 'boys', 'and', 'a', 'girl', 'praise', 'the', 'lord', 'and', 'pass', 'the', 'ammunition', 'birds', 'often', 'fly', 'together', 'i', 'love', 'serious', 'music', 'is', 'tom', 'there', 'alone', 'i', 'd', 'like', 'a', 'city', 'map', 'we', 'are', 'the', 'borg', 'count', 'me', 'out', 'if', 'you', 'go', 'bowling', 'we', 'are', 'not', 'speaking', 'you', 'aren', 't', 'yourself', 'today', 'it', 's', 'popular', 'among', 'senior', 'citizens', 'how', 'much', 'is', 'this', 'radio', 'he', 'denied', 'having', 'stolen', 'the', 'money', 'ich', 'nahm', 'den', 'bus', 'zurück', 'ich', 'bin', 'weder', 'athener', 'noch', 'grieche', 'er', 'hatte', 'kaum', 'genug', 'zu', 'essen', 'wir', 'sind', 'auf', 'der', 'reise', 'nach', 'barcelona', 'ohne', 'luft', 'würden', 'wir', 'sterben', 'ich', 'hätte', 'sie', 'für', 'älter', 'gehalten', 'ich', 'dachte', 'du', 'würdest', 'mich', 'nicht', 'mögen', 'hanako', 'zweifelte', 'an', 'seiner', 'ernsthaftigkeit', 'ich', 'lerne', 'in', 'peking', 'chinesisch', 'das', 'war', 'wohl', 'unvermeidlich', 'reich', 'mir', 'das', 'salz', 'bitte', 'ich', 'schätze', 'die', 'batterie', 'ist', 'leer', 'tom', 'kommt', 'selten', 'zu', 'spät', 'hab', 'ich', 'nicht', 'recht', 'er', 'gab', 'zu', 'bestochen', 'worden', 'zu', 'sein', 'niemand', 'wusste', 'wem', 'das', 'land', 'gehörte', 'der', 'junge', 'trägt', 'eine', 'brille', 'meine', 'schwester', 'pfiff', 'munter', 'vor', 'sich', 'hin', 'bahrain', 'wurde', 'ein', 'königreich', 'du', 'weißt', 'das', 'besser', 'als', 'ich', 'was', 'hast', 'du', 'zu', 'weihnachten', 'vor', 'wir', 'kennen', 'dieses', 'lied', 'das', 'war', 'schwer', 'zu', 'glauben', 'ich', 'glaube', 'dir', 'kein', 'wort', 'das', 'geld', 'ging', 'uns', 'aus', 'danke', 'dass', 'du', 'das', 'missverständnis', 'geklärt', 'hast', 'die', 'stadt', 'liegt', 'an', 'der', 'meeresküste', 'er', 'hat', 'blonde', 'haare', 'die', 'zeitschrift', 'richtet', 'sich', 'an', 'teenager', 'danke', 'für', 'ihre', 'geduld', 'tom', 'arbeitet', 'gern', 'allein', 'tom', 'geht', 'früh', 'ins', 'bett', 'wir', 'liefen', 'zum', 'fluss', 'sie', 'sind', 'falsch', 'verbunden', 'ich', 'sehe', 'in', 'vielerlei', 'hinsicht', 'zu', 'ihm', 'auf', 'löwen', 'sind', 'stärker', 'als', 'wölfe', 'diese', 'blume', 'duftet', 'süß', 'dieses', 'buch', 'liest', 'sich', 'schön', 'trinkst', 'du', 'kaffee', 'hast', 'du', 'ein', 'natel', 'tom', 'schwimmt', 'sehr', 'schnell', 'er', 'fühlt', 'sich', 'schon', 'viel', 'besser', 'nach', 'einer', 'besseren', 'arbeit', 'sucht', 'sie', 'wir', 'sind', 'nicht', 'hier', 'um', 'dich', 'festzunehmen', 'du', 'erinnerst', 'dich', 'an', 'sie', 'nicht', 'wahr', 'tom', 'hat', 'wieder', 'verloren', 'wird', 'das', 'wort', 'überhaupt', 'noch', 'benutzt', 'ich', 'habe', 'mit', 'dem', 'verbrechen', 'nichts', 'zu', 'tun', 'ich', 'habe', 'versucht', 'es', 'ihnen', 'zu', 'sagen', 'ich', 'weiß', 'was', 'du', 'getan', 'hast', 'wir', 'kamen', 'dort', 'vor', 'der', 'mittagsstunde', 'an', 'ich', 'kann', 'nicht', 'finden', 'wonach', 'ich', 'suche', 'ist', 'das', 'hier', 'deins', 'er', 'grüßt', 'mich', 'nie', 'wir', 'beeilen', 'uns', 'wer', 'alles', 'hat', 'kann', 'alles', 'verlieren', 'ich', 'liebe', 'die', 'sonne', 'sind', 'sie', 'ohne', 'arbeit', 'tom', 'erkundigte', 'sich', 'ob', 'jemand', 'fragen', 'habe', 'schauen', 'sie', 'sich', 'diese', 'fotos', 'an', 'sie', 'spielte', 'in', 'diesem', 'projekt', 'eine', 'wichtige', 'rolle', 'ich', 'glaube', 'dass', 'tom', 'etwas', 'verheimlicht', 'kann', 'es', 'das', 'sein', 'sie', 'scheut', 'sich', 'zu', 'singen', 'laurie', 'ist', 'eine', 'sehr', 'fleißige', 'schülerin', 'das', 'ist', 'unnütz', 'geboren', 'in', 'athen', 'tom', 'muss', 'nach', 'hause', 'gehst', 'du', 'auch', 'ich', 'werde', 'mich', 'morgen', 'mit', 'ihr', 'treffen', 'ich', 'werde', 'sie', 'sofort', 'anrufen', 'da', 'ist', 'nichts', 'was', 'mich', 'hindert', 'möchtest', 'du', 'etwas', 'pudding', 'er', 'ist', 'ein', 'spätentwicklerich', 'habe', 'diesen', 'fernseher', 'auf', 'raten', 'gekauft', 'sie', 'gaben', 'vor', 'nichts', 'zu', 'wissen', 'mein', 'großvater', 'steht', 'früh', 'auf', 'es', 'gibt', 'keinen', 'zweifel', 'dass', 'er', 'unschuldig', 'ist', 'könnten', 'sie', 'mich', 'etwas', 'später', 'zurückrufen', 'sie', 'trägt', 'einen', 'schönen', 'hut', 'tom', 'ist', 'lastwagenfahrer', 'füllen', 'sie', 'die', 'flasche', 'mit', 'wasser', 'du', 'verkaufst', 'uns', 'fisch', 'ich', 'weiß', 'wie', 'schwer', 'das', 'sein', 'muss', 'ich', 'war', 'an', 'schwere', 'arbeit', 'gewöhnt', 'warum', 'gleicht', 'ein', 'rabe', 'einem', 'schreibpult', 'du', 'weißt', 'nicht', 'was', 'du', 'tust', 'er', 'hat', 'zwei', 'jungen', 'und', 'ein', 'mädchen', 'preiset', 'gott', 'verteilt', 'die', 'waffen', 'vögel', 'fliegen', 'oft', 'zusammen', 'ich', 'liebe', 'ernste', 'musik', 'ist', 'tom', 'alleine', 'da', 'ich', 'hätte', 'gern', 'einen', 'stadtplan', 'wir', 'sind', 'die', 'borg', 'ich', 'bin', 'beim', 'bowling', 'nicht', 'dabei', 'wir', 'reden', 'nicht', 'mehr', 'miteinander', 'du', 'bist', 'heute', 'nicht', 'du', 'selbst', 'sie', 'ist', 'bei', 'den', 'älteren', 'bürgern', 'sehr', 'beliebt', 'wie', 'viel', 'kostet', 'dieses', 'radio', 'er', 'leugnete', 'das', 'geld', 'gestohlen', 'zu', 'haben']\n"
     ]
    }
   ],
   "source": [
    "print(wordList)"
   ]
  },
  {
   "cell_type": "code",
   "execution_count": 96,
   "metadata": {
    "collapsed": false
   },
   "outputs": [
    {
     "name": "stdout",
     "output_type": "stream",
     "text": [
      "data has 1084 characters, 579 unique.\n"
     ]
    }
   ],
   "source": [
    "# data I/O\n",
    "data =  wordList #open('input.txt', 'r').read() # should be simple plain text file\n",
    "chars = list(set(data))\n",
    "data_size, vocab_size = len(data), len(chars)\n",
    "print('data has %d characters, %d unique.' % (data_size, vocab_size))\n",
    "char_to_ix = { ch:i for i,ch in enumerate(chars) }\n",
    "ix_to_char = { i:ch for i,ch in enumerate(chars) }"
   ]
  },
  {
   "cell_type": "code",
   "execution_count": 99,
   "metadata": {
    "collapsed": false
   },
   "outputs": [
    {
     "data": {
      "text/plain": [
       "{0: 'würden',\n",
       " 1: 'mich',\n",
       " 2: 'stronger',\n",
       " 3: 'aimed',\n",
       " 4: 'taken',\n",
       " 5: 'we',\n",
       " 6: 'lied',\n",
       " 7: 'on',\n",
       " 8: 'buch',\n",
       " 9: 'füllen',\n",
       " 10: 'says',\n",
       " 11: 'preiset',\n",
       " 12: 'zusammen',\n",
       " 13: 'unvermeidlich',\n",
       " 14: 'wird',\n",
       " 15: 'zweifelte',\n",
       " 16: 'steht',\n",
       " 17: 'reden',\n",
       " 18: 'athens',\n",
       " 19: 'rolle',\n",
       " 20: 'land',\n",
       " 21: 'photos',\n",
       " 22: 'your',\n",
       " 23: 'fly',\n",
       " 24: 'ernsthaftigkeit',\n",
       " 25: 'fast',\n",
       " 26: 'important',\n",
       " 27: 'some',\n",
       " 28: 'älteren',\n",
       " 29: 'my',\n",
       " 30: 'number',\n",
       " 31: 'zwei',\n",
       " 32: 'walked',\n",
       " 33: 'uns',\n",
       " 34: 'selten',\n",
       " 35: 'must',\n",
       " 36: 'back',\n",
       " 37: 'löwen',\n",
       " 38: 'alles',\n",
       " 39: 'teenager',\n",
       " 40: 'misunderstanding',\n",
       " 41: 'one',\n",
       " 42: 'mit',\n",
       " 43: 'city',\n",
       " 44: 'who',\n",
       " 45: 'do',\n",
       " 46: 'wouldn',\n",
       " 47: 'wahr',\n",
       " 48: 'him',\n",
       " 49: 'lions',\n",
       " 50: 'pretended',\n",
       " 51: 'why',\n",
       " 52: 'kaffee',\n",
       " 53: 'mögen',\n",
       " 54: 'selbst',\n",
       " 55: 'gestohlen',\n",
       " 56: 'reise',\n",
       " 57: 'with',\n",
       " 58: 'two',\n",
       " 59: 'waffen',\n",
       " 60: 'them',\n",
       " 61: 'weder',\n",
       " 62: 'accustomed',\n",
       " 63: 'like',\n",
       " 64: 'magazine',\n",
       " 65: 'wusste',\n",
       " 66: 'yours',\n",
       " 67: 'nothing',\n",
       " 68: 'got',\n",
       " 69: 'schwere',\n",
       " 70: 'verloren',\n",
       " 71: 'wem',\n",
       " 72: 'gaben',\n",
       " 73: 'tun',\n",
       " 74: 'wissen',\n",
       " 75: 'not',\n",
       " 76: 'der',\n",
       " 77: 'would',\n",
       " 78: 'there',\n",
       " 79: 'raten',\n",
       " 80: 'and',\n",
       " 81: 'bottle',\n",
       " 82: 'river',\n",
       " 83: 'schreibpult',\n",
       " 84: 'gleicht',\n",
       " 85: 'home',\n",
       " 86: 'überhaupt',\n",
       " 87: 'geht',\n",
       " 88: 'christmas',\n",
       " 89: 'll',\n",
       " 90: 'for',\n",
       " 91: 'they',\n",
       " 92: 'have',\n",
       " 93: 'ins',\n",
       " 94: 'natel',\n",
       " 95: 'doing',\n",
       " 96: 'sonne',\n",
       " 97: 'möchtest',\n",
       " 98: 'sofort',\n",
       " 99: 'am',\n",
       " 100: 'without',\n",
       " 101: 'know',\n",
       " 102: 'geboren',\n",
       " 103: 'together',\n",
       " 104: 'da',\n",
       " 105: 'treffen',\n",
       " 106: 'having',\n",
       " 107: 'noon',\n",
       " 108: 'hurry',\n",
       " 109: 'up',\n",
       " 110: 'verbunden',\n",
       " 111: 'erinnerst',\n",
       " 112: 'gab',\n",
       " 113: 'teenagers',\n",
       " 114: 'arrest',\n",
       " 115: 'birds',\n",
       " 116: 'trägt',\n",
       " 117: 'weiß',\n",
       " 118: 'hinder',\n",
       " 119: 'crime',\n",
       " 120: 'schön',\n",
       " 121: 'd',\n",
       " 122: 'older',\n",
       " 123: 'work',\n",
       " 124: 'scheut',\n",
       " 125: 'of',\n",
       " 126: 'hut',\n",
       " 127: 'drink',\n",
       " 128: 'sell',\n",
       " 129: 'greek',\n",
       " 130: 'gets',\n",
       " 131: 'mein',\n",
       " 132: 'unschuldig',\n",
       " 133: 'the',\n",
       " 134: 'diesen',\n",
       " 135: 'his',\n",
       " 136: 'unavoidable',\n",
       " 137: 'verheimlicht',\n",
       " 138: 'alleine',\n",
       " 139: 'dass',\n",
       " 140: 'nichts',\n",
       " 141: 'sie',\n",
       " 142: 'einer',\n",
       " 143: 'danke',\n",
       " 144: 'wir',\n",
       " 145: 'unnütz',\n",
       " 146: 'den',\n",
       " 147: 'vielerlei',\n",
       " 148: 'stadt',\n",
       " 149: 'versucht',\n",
       " 150: 'ein',\n",
       " 151: 'any',\n",
       " 152: 'gott',\n",
       " 153: 'hause',\n",
       " 154: 'nie',\n",
       " 155: 'our',\n",
       " 156: 'hab',\n",
       " 157: 'job',\n",
       " 158: 'hast',\n",
       " 159: 'suche',\n",
       " 160: 'richtet',\n",
       " 161: 'driver',\n",
       " 162: 'thanks',\n",
       " 163: 'has',\n",
       " 164: 'trinkst',\n",
       " 165: 'doubt',\n",
       " 166: 'fish',\n",
       " 167: 'essen',\n",
       " 168: 'weißt',\n",
       " 169: 'developer',\n",
       " 170: 'batterie',\n",
       " 171: 'bestochen',\n",
       " 172: 'use',\n",
       " 173: 'how',\n",
       " 174: 'gern',\n",
       " 175: 'rarely',\n",
       " 176: 'lies',\n",
       " 177: 'aren',\n",
       " 178: 'better',\n",
       " 179: 'duftet',\n",
       " 180: 'ging',\n",
       " 181: 'für',\n",
       " 182: 'haare',\n",
       " 183: 'dieses',\n",
       " 184: 'verkaufst',\n",
       " 185: 'salz',\n",
       " 186: 'too',\n",
       " 187: 'genug',\n",
       " 188: 'gehörte',\n",
       " 189: 'dem',\n",
       " 190: 'meet',\n",
       " 191: 'ohne',\n",
       " 192: 'useless',\n",
       " 193: 'stärker',\n",
       " 194: 'asked',\n",
       " 195: 'girl',\n",
       " 196: 'bist',\n",
       " 197: 'denied',\n",
       " 198: 'likes',\n",
       " 199: 'nor',\n",
       " 200: 'plans',\n",
       " 201: 'wer',\n",
       " 202: 'he',\n",
       " 203: 'hardworking',\n",
       " 204: 'please',\n",
       " 205: 'bought',\n",
       " 206: 'haben',\n",
       " 207: 'seashore',\n",
       " 208: 'wort',\n",
       " 209: 'blond',\n",
       " 210: 'count',\n",
       " 211: 'heute',\n",
       " 212: 'pudding',\n",
       " 213: 'schnell',\n",
       " 214: 'whistling',\n",
       " 215: 'festzunehmen',\n",
       " 216: 'questions',\n",
       " 217: 'are',\n",
       " 218: 'brille',\n",
       " 219: 'lerne',\n",
       " 220: 'als',\n",
       " 221: 'später',\n",
       " 222: 'thought',\n",
       " 223: 'barcelona',\n",
       " 224: 'can',\n",
       " 225: 'installment',\n",
       " 226: 'ist',\n",
       " 227: 'zurück',\n",
       " 228: 'besseren',\n",
       " 229: 'einen',\n",
       " 230: 'ihre',\n",
       " 231: 'königreich',\n",
       " 232: 'warum',\n",
       " 233: 'nahm',\n",
       " 234: 'liegt',\n",
       " 235: 'beim',\n",
       " 236: 'mittagsstunde',\n",
       " 237: 'flasche',\n",
       " 238: 'ignorance',\n",
       " 239: 'recht',\n",
       " 240: 'swims',\n",
       " 241: 'writing',\n",
       " 242: 'before',\n",
       " 243: 'arbeit',\n",
       " 244: 'rabe',\n",
       " 245: 'project',\n",
       " 246: 'getan',\n",
       " 247: 'out',\n",
       " 248: 'reading',\n",
       " 249: 'she',\n",
       " 250: 'verlieren',\n",
       " 251: 'vögel',\n",
       " 252: 'zeitschrift',\n",
       " 253: 'go',\n",
       " 254: 'music',\n",
       " 255: 'here',\n",
       " 256: 'praise',\n",
       " 257: 'sagen',\n",
       " 258: 'popular',\n",
       " 259: 'hätte',\n",
       " 260: 've',\n",
       " 261: 'sister',\n",
       " 262: 'glaube',\n",
       " 263: 'habe',\n",
       " 264: 'by',\n",
       " 265: 'ammunition',\n",
       " 266: 'boy',\n",
       " 267: 'wonach',\n",
       " 268: 'say',\n",
       " 269: 'salt',\n",
       " 270: 'schwester',\n",
       " 271: 'viel',\n",
       " 272: 'bürgern',\n",
       " 273: 'wie',\n",
       " 274: 'look',\n",
       " 275: 'enough',\n",
       " 276: 'schülerin',\n",
       " 277: 'owned',\n",
       " 278: 'battery',\n",
       " 279: 'coffee',\n",
       " 280: 'nicht',\n",
       " 281: 'it',\n",
       " 282: 'late',\n",
       " 283: 'flower',\n",
       " 284: 'meeresküste',\n",
       " 285: 'study',\n",
       " 286: 'oft',\n",
       " 287: 'jungen',\n",
       " 288: 'find',\n",
       " 289: 'junge',\n",
       " 290: 'senior',\n",
       " 291: 'many',\n",
       " 292: 'sich',\n",
       " 293: 'to',\n",
       " 294: 'people',\n",
       " 295: 'tomorrow',\n",
       " 296: 'stolen',\n",
       " 297: 'mir',\n",
       " 298: 'think',\n",
       " 299: 'that',\n",
       " 300: 'wrong',\n",
       " 301: 'munter',\n",
       " 302: 'citizens',\n",
       " 303: 'could',\n",
       " 304: 'dort',\n",
       " 305: 'schauen',\n",
       " 306: 'diese',\n",
       " 307: 'ihnen',\n",
       " 308: 'admitted',\n",
       " 309: 'süß',\n",
       " 310: 'eine',\n",
       " 311: 'miteinander',\n",
       " 312: 'than',\n",
       " 313: 'a',\n",
       " 314: 'm',\n",
       " 315: 'kein',\n",
       " 316: 'schönen',\n",
       " 317: 'hier',\n",
       " 318: 'verteilt',\n",
       " 319: 'beeilen',\n",
       " 320: 'boys',\n",
       " 321: 'mädchen',\n",
       " 322: 'seiner',\n",
       " 323: 'nach',\n",
       " 324: 'gehalten',\n",
       " 325: 'reich',\n",
       " 326: 'guess',\n",
       " 327: 'again',\n",
       " 328: 's',\n",
       " 329: 'grieche',\n",
       " 330: 'pleasant',\n",
       " 331: 'played',\n",
       " 332: 'hat',\n",
       " 333: 'neither',\n",
       " 334: 'traveling',\n",
       " 335: 'water',\n",
       " 336: 'bitte',\n",
       " 337: 'borg',\n",
       " 338: 'is',\n",
       " 339: 'makes',\n",
       " 340: 'bett',\n",
       " 341: 'athen',\n",
       " 342: 'these',\n",
       " 343: 'you',\n",
       " 344: 'chinese',\n",
       " 345: 'bed',\n",
       " 346: 'much',\n",
       " 347: 'ways',\n",
       " 348: 'part',\n",
       " 349: 'zu',\n",
       " 350: 'dich',\n",
       " 351: 'patience',\n",
       " 352: 'everything',\n",
       " 353: 'fisch',\n",
       " 354: 'glasses',\n",
       " 355: 'an',\n",
       " 356: 'fühlt',\n",
       " 357: 'fill',\n",
       " 358: 'kann',\n",
       " 359: 'hindert',\n",
       " 360: 'yourself',\n",
       " 361: 'kennen',\n",
       " 362: 'sun',\n",
       " 363: 'feeling',\n",
       " 364: 'beijing',\n",
       " 365: 'spätentwicklerich',\n",
       " 366: 'desk',\n",
       " 367: 'sing',\n",
       " 368: 'at',\n",
       " 369: 'beliebt',\n",
       " 370: 'auf',\n",
       " 371: 'benutzt',\n",
       " 372: 'liefen',\n",
       " 373: 'grandfather',\n",
       " 374: 'luft',\n",
       " 375: 'me',\n",
       " 376: 'grüßt',\n",
       " 377: 'eat',\n",
       " 378: 'lastwagenfahrer',\n",
       " 379: 'ihr',\n",
       " 380: 'merrily',\n",
       " 381: 'questioned',\n",
       " 382: 'sweet',\n",
       " 383: 'missverständnis',\n",
       " 384: 'leugnete',\n",
       " 385: 'kamen',\n",
       " 386: 'besser',\n",
       " 387: 'blonde',\n",
       " 388: 'zurückrufen',\n",
       " 389: 'plan',\n",
       " 390: 'singen',\n",
       " 391: 'wieder',\n",
       " 392: 'das',\n",
       " 393: 'became',\n",
       " 394: 'was',\n",
       " 395: 'sterben',\n",
       " 396: 'sucht',\n",
       " 397: 'dabei',\n",
       " 398: 'liest',\n",
       " 399: 'actually',\n",
       " 400: 'clearing',\n",
       " 401: 'geld',\n",
       " 402: 'early',\n",
       " 403: 'hinsicht',\n",
       " 404: 'today',\n",
       " 405: 'ran',\n",
       " 406: 'es',\n",
       " 407: 'among',\n",
       " 408: 'niemand',\n",
       " 409: 'finden',\n",
       " 410: 'fernseher',\n",
       " 411: 'liebe',\n",
       " 412: 'keinen',\n",
       " 413: 'glauben',\n",
       " 414: 'um',\n",
       " 415: 'looking',\n",
       " 416: 'never',\n",
       " 417: 'word',\n",
       " 418: 'auch',\n",
       " 419: 'chinesisch',\n",
       " 420: 'kostet',\n",
       " 421: 'sind',\n",
       " 422: 'du',\n",
       " 423: 'vor',\n",
       " 424: 'wölfe',\n",
       " 425: 'ernste',\n",
       " 426: 'fragen',\n",
       " 427: 'wohl',\n",
       " 428: 'geklärt',\n",
       " 429: 'älter',\n",
       " 430: 'hair',\n",
       " 431: 'ob',\n",
       " 432: 'what',\n",
       " 433: 'money',\n",
       " 434: 'großvater',\n",
       " 435: 'mehr',\n",
       " 436: 'wolves',\n",
       " 437: 'und',\n",
       " 438: 'book',\n",
       " 439: 'arrived',\n",
       " 440: 'often',\n",
       " 441: 're',\n",
       " 442: 'call',\n",
       " 443: 'musik',\n",
       " 444: 'later',\n",
       " 445: 'laurie',\n",
       " 446: 'ihm',\n",
       " 447: 'lose',\n",
       " 448: 'schon',\n",
       " 449: 'athenian',\n",
       " 450: 'sehe',\n",
       " 451: 'sehr',\n",
       " 452: 'würdest',\n",
       " 453: 'gekauft',\n",
       " 454: 'remember',\n",
       " 455: 'something',\n",
       " 456: 'sein',\n",
       " 457: 'believe',\n",
       " 458: 'hiding',\n",
       " 459: 'spielte',\n",
       " 460: 'pass',\n",
       " 461: 'fotos',\n",
       " 462: 'town',\n",
       " 463: 'fleißige',\n",
       " 464: 'pfiff',\n",
       " 465: 'kingdom',\n",
       " 466: 'meine',\n",
       " 467: 'schwimmt',\n",
       " 468: 'bahrain',\n",
       " 469: 'werde',\n",
       " 470: 'radio',\n",
       " 471: 'love',\n",
       " 472: 'hatte',\n",
       " 473: 'dachte',\n",
       " 474: 'blume',\n",
       " 475: 'fliegen',\n",
       " 476: 'lost',\n",
       " 477: 'schätze',\n",
       " 478: 'flat',\n",
       " 479: 'gewöhnt',\n",
       " 480: 'very',\n",
       " 481: 'goes',\n",
       " 482: 'kaum',\n",
       " 483: 'gibt',\n",
       " 484: 'will',\n",
       " 485: 'verbrechen',\n",
       " 486: 'map',\n",
       " 487: 'muss',\n",
       " 488: 'cellphone',\n",
       " 489: 'falsch',\n",
       " 490: 'lord',\n",
       " 491: 'hi',\n",
       " 492: 'die',\n",
       " 493: 'serious',\n",
       " 494: 'immediately',\n",
       " 495: 'arbeitet',\n",
       " 496: 'student',\n",
       " 497: 'tust',\n",
       " 498: 'in',\n",
       " 499: 'her',\n",
       " 500: 'truck',\n",
       " 501: 'bin',\n",
       " 502: 'bei',\n",
       " 503: 'himself',\n",
       " 504: 'tell',\n",
       " 505: 'peking',\n",
       " 506: 'hanako',\n",
       " 507: 'were',\n",
       " 508: 'zweifel',\n",
       " 509: 'barely',\n",
       " 510: 'noch',\n",
       " 511: 'be',\n",
       " 512: 'projekt',\n",
       " 513: 'dir',\n",
       " 514: 'allein',\n",
       " 515: 'könnten',\n",
       " 516: 'deins',\n",
       " 517: 'leer',\n",
       " 518: 'air',\n",
       " 519: 'sincerity',\n",
       " 520: 'if',\n",
       " 521: 'innocent',\n",
       " 522: 'speaking',\n",
       " 523: 'fluss',\n",
       " 524: 'afraid',\n",
       " 525: 'wasser',\n",
       " 526: 'gehst',\n",
       " 527: 'this',\n",
       " 528: 'alone',\n",
       " 529: 'war',\n",
       " 530: 'morgen',\n",
       " 531: 'einem',\n",
       " 532: 'tried',\n",
       " 533: 'erkundigte',\n",
       " 534: 'hin',\n",
       " 535: 'smells',\n",
       " 536: 'er',\n",
       " 537: 'früh',\n",
       " 538: 'zum',\n",
       " 539: 'nice',\n",
       " 540: 'wurde',\n",
       " 541: 't',\n",
       " 542: 'assume',\n",
       " 543: 'had',\n",
       " 544: 'don',\n",
       " 545: 'no',\n",
       " 546: 'aus',\n",
       " 547: 'tv',\n",
       " 548: 'wearing',\n",
       " 549: 'song',\n",
       " 550: 'stadtplan',\n",
       " 551: 'athener',\n",
       " 552: 'still',\n",
       " 553: 'worden',\n",
       " 554: 'wichtige',\n",
       " 555: 'bit',\n",
       " 556: 'hard',\n",
       " 557: 'born',\n",
       " 558: 'diesem',\n",
       " 559: 'raven',\n",
       " 560: 'things',\n",
       " 561: 'tom',\n",
       " 562: 'jemand',\n",
       " 563: 'us',\n",
       " 564: 'took',\n",
       " 565: 'bus',\n",
       " 566: 'spät',\n",
       " 567: 'bribes',\n",
       " 568: 'ich',\n",
       " 569: 'thank',\n",
       " 570: 'schwer',\n",
       " 571: 'knew',\n",
       " 572: 'i',\n",
       " 573: 'kommt',\n",
       " 574: 'bowling',\n",
       " 575: 'etwas',\n",
       " 576: 'anrufen',\n",
       " 577: 'geduld',\n",
       " 578: 'weihnachten'}"
      ]
     },
     "execution_count": 99,
     "metadata": {},
     "output_type": "execute_result"
    }
   ],
   "source": [
    "ix_to_char"
   ]
  },
  {
   "cell_type": "code",
   "execution_count": 100,
   "metadata": {
    "collapsed": false
   },
   "outputs": [
    {
     "data": {
      "text/plain": [
       "{'a': 313,\n",
       " 'accustomed': 62,\n",
       " 'actually': 399,\n",
       " 'admitted': 308,\n",
       " 'afraid': 524,\n",
       " 'again': 327,\n",
       " 'aimed': 3,\n",
       " 'air': 518,\n",
       " 'allein': 514,\n",
       " 'alleine': 138,\n",
       " 'alles': 38,\n",
       " 'alone': 528,\n",
       " 'als': 220,\n",
       " 'am': 99,\n",
       " 'ammunition': 265,\n",
       " 'among': 407,\n",
       " 'an': 355,\n",
       " 'and': 80,\n",
       " 'anrufen': 576,\n",
       " 'any': 151,\n",
       " 'arbeit': 243,\n",
       " 'arbeitet': 495,\n",
       " 'are': 217,\n",
       " 'aren': 177,\n",
       " 'arrest': 114,\n",
       " 'arrived': 439,\n",
       " 'asked': 194,\n",
       " 'assume': 542,\n",
       " 'at': 368,\n",
       " 'athen': 341,\n",
       " 'athener': 551,\n",
       " 'athenian': 449,\n",
       " 'athens': 18,\n",
       " 'auch': 418,\n",
       " 'auf': 370,\n",
       " 'aus': 546,\n",
       " 'back': 36,\n",
       " 'bahrain': 468,\n",
       " 'barcelona': 223,\n",
       " 'barely': 509,\n",
       " 'batterie': 170,\n",
       " 'battery': 278,\n",
       " 'be': 511,\n",
       " 'became': 393,\n",
       " 'bed': 345,\n",
       " 'beeilen': 319,\n",
       " 'before': 242,\n",
       " 'bei': 502,\n",
       " 'beijing': 364,\n",
       " 'beim': 235,\n",
       " 'beliebt': 369,\n",
       " 'believe': 457,\n",
       " 'benutzt': 371,\n",
       " 'besser': 386,\n",
       " 'besseren': 228,\n",
       " 'bestochen': 171,\n",
       " 'bett': 340,\n",
       " 'better': 178,\n",
       " 'bin': 501,\n",
       " 'birds': 115,\n",
       " 'bist': 196,\n",
       " 'bit': 555,\n",
       " 'bitte': 336,\n",
       " 'blond': 209,\n",
       " 'blonde': 387,\n",
       " 'blume': 474,\n",
       " 'book': 438,\n",
       " 'borg': 337,\n",
       " 'born': 557,\n",
       " 'bottle': 81,\n",
       " 'bought': 205,\n",
       " 'bowling': 574,\n",
       " 'boy': 266,\n",
       " 'boys': 320,\n",
       " 'bribes': 567,\n",
       " 'brille': 218,\n",
       " 'buch': 8,\n",
       " 'bus': 565,\n",
       " 'by': 264,\n",
       " 'bürgern': 272,\n",
       " 'call': 442,\n",
       " 'can': 224,\n",
       " 'cellphone': 488,\n",
       " 'chinese': 344,\n",
       " 'chinesisch': 419,\n",
       " 'christmas': 88,\n",
       " 'citizens': 302,\n",
       " 'city': 43,\n",
       " 'clearing': 400,\n",
       " 'coffee': 279,\n",
       " 'could': 303,\n",
       " 'count': 210,\n",
       " 'crime': 119,\n",
       " 'd': 121,\n",
       " 'da': 104,\n",
       " 'dabei': 397,\n",
       " 'dachte': 473,\n",
       " 'danke': 143,\n",
       " 'das': 392,\n",
       " 'dass': 139,\n",
       " 'deins': 516,\n",
       " 'dem': 189,\n",
       " 'den': 146,\n",
       " 'denied': 197,\n",
       " 'der': 76,\n",
       " 'desk': 366,\n",
       " 'developer': 169,\n",
       " 'dich': 350,\n",
       " 'die': 492,\n",
       " 'diese': 306,\n",
       " 'diesem': 558,\n",
       " 'diesen': 134,\n",
       " 'dieses': 183,\n",
       " 'dir': 513,\n",
       " 'do': 45,\n",
       " 'doing': 95,\n",
       " 'don': 544,\n",
       " 'dort': 304,\n",
       " 'doubt': 165,\n",
       " 'drink': 127,\n",
       " 'driver': 161,\n",
       " 'du': 422,\n",
       " 'duftet': 179,\n",
       " 'early': 402,\n",
       " 'eat': 377,\n",
       " 'ein': 150,\n",
       " 'eine': 310,\n",
       " 'einem': 531,\n",
       " 'einen': 229,\n",
       " 'einer': 142,\n",
       " 'enough': 275,\n",
       " 'er': 536,\n",
       " 'erinnerst': 111,\n",
       " 'erkundigte': 533,\n",
       " 'ernste': 425,\n",
       " 'ernsthaftigkeit': 24,\n",
       " 'es': 406,\n",
       " 'essen': 167,\n",
       " 'etwas': 575,\n",
       " 'everything': 352,\n",
       " 'falsch': 489,\n",
       " 'fast': 25,\n",
       " 'feeling': 363,\n",
       " 'fernseher': 410,\n",
       " 'festzunehmen': 215,\n",
       " 'fill': 357,\n",
       " 'find': 288,\n",
       " 'finden': 409,\n",
       " 'fisch': 353,\n",
       " 'fish': 166,\n",
       " 'flasche': 237,\n",
       " 'flat': 478,\n",
       " 'fleißige': 463,\n",
       " 'fliegen': 475,\n",
       " 'flower': 283,\n",
       " 'fluss': 523,\n",
       " 'fly': 23,\n",
       " 'for': 90,\n",
       " 'fotos': 461,\n",
       " 'fragen': 426,\n",
       " 'früh': 537,\n",
       " 'fühlt': 356,\n",
       " 'füllen': 9,\n",
       " 'für': 181,\n",
       " 'gab': 112,\n",
       " 'gaben': 72,\n",
       " 'geboren': 102,\n",
       " 'geduld': 577,\n",
       " 'gehalten': 324,\n",
       " 'gehst': 526,\n",
       " 'geht': 87,\n",
       " 'gehörte': 188,\n",
       " 'gekauft': 453,\n",
       " 'geklärt': 428,\n",
       " 'geld': 401,\n",
       " 'genug': 187,\n",
       " 'gern': 174,\n",
       " 'gestohlen': 55,\n",
       " 'getan': 246,\n",
       " 'gets': 130,\n",
       " 'gewöhnt': 479,\n",
       " 'gibt': 483,\n",
       " 'ging': 180,\n",
       " 'girl': 195,\n",
       " 'glasses': 354,\n",
       " 'glaube': 262,\n",
       " 'glauben': 413,\n",
       " 'gleicht': 84,\n",
       " 'go': 253,\n",
       " 'goes': 481,\n",
       " 'got': 68,\n",
       " 'gott': 152,\n",
       " 'grandfather': 373,\n",
       " 'greek': 129,\n",
       " 'grieche': 329,\n",
       " 'großvater': 434,\n",
       " 'grüßt': 376,\n",
       " 'guess': 326,\n",
       " 'haare': 182,\n",
       " 'hab': 156,\n",
       " 'habe': 263,\n",
       " 'haben': 206,\n",
       " 'had': 543,\n",
       " 'hair': 430,\n",
       " 'hanako': 506,\n",
       " 'hard': 556,\n",
       " 'hardworking': 203,\n",
       " 'has': 163,\n",
       " 'hast': 158,\n",
       " 'hat': 332,\n",
       " 'hatte': 472,\n",
       " 'hause': 153,\n",
       " 'have': 92,\n",
       " 'having': 106,\n",
       " 'he': 202,\n",
       " 'her': 499,\n",
       " 'here': 255,\n",
       " 'heute': 211,\n",
       " 'hi': 491,\n",
       " 'hiding': 458,\n",
       " 'hier': 317,\n",
       " 'him': 48,\n",
       " 'himself': 503,\n",
       " 'hin': 534,\n",
       " 'hinder': 118,\n",
       " 'hindert': 359,\n",
       " 'hinsicht': 403,\n",
       " 'his': 135,\n",
       " 'home': 85,\n",
       " 'how': 173,\n",
       " 'hurry': 108,\n",
       " 'hut': 126,\n",
       " 'hätte': 259,\n",
       " 'i': 572,\n",
       " 'ich': 568,\n",
       " 'if': 520,\n",
       " 'ignorance': 238,\n",
       " 'ihm': 446,\n",
       " 'ihnen': 307,\n",
       " 'ihr': 379,\n",
       " 'ihre': 230,\n",
       " 'immediately': 494,\n",
       " 'important': 26,\n",
       " 'in': 498,\n",
       " 'innocent': 521,\n",
       " 'ins': 93,\n",
       " 'installment': 225,\n",
       " 'is': 338,\n",
       " 'ist': 226,\n",
       " 'it': 281,\n",
       " 'jemand': 562,\n",
       " 'job': 157,\n",
       " 'junge': 289,\n",
       " 'jungen': 287,\n",
       " 'kaffee': 52,\n",
       " 'kamen': 385,\n",
       " 'kann': 358,\n",
       " 'kaum': 482,\n",
       " 'kein': 315,\n",
       " 'keinen': 412,\n",
       " 'kennen': 361,\n",
       " 'kingdom': 465,\n",
       " 'knew': 571,\n",
       " 'know': 101,\n",
       " 'kommt': 573,\n",
       " 'kostet': 420,\n",
       " 'königreich': 231,\n",
       " 'könnten': 515,\n",
       " 'land': 20,\n",
       " 'lastwagenfahrer': 378,\n",
       " 'late': 282,\n",
       " 'later': 444,\n",
       " 'laurie': 445,\n",
       " 'leer': 517,\n",
       " 'lerne': 219,\n",
       " 'leugnete': 384,\n",
       " 'liebe': 411,\n",
       " 'lied': 6,\n",
       " 'liefen': 372,\n",
       " 'liegt': 234,\n",
       " 'lies': 176,\n",
       " 'liest': 398,\n",
       " 'like': 63,\n",
       " 'likes': 198,\n",
       " 'lions': 49,\n",
       " 'll': 89,\n",
       " 'look': 274,\n",
       " 'looking': 415,\n",
       " 'lord': 490,\n",
       " 'lose': 447,\n",
       " 'lost': 476,\n",
       " 'love': 471,\n",
       " 'luft': 374,\n",
       " 'löwen': 37,\n",
       " 'm': 314,\n",
       " 'magazine': 64,\n",
       " 'makes': 339,\n",
       " 'many': 291,\n",
       " 'map': 486,\n",
       " 'me': 375,\n",
       " 'meeresküste': 284,\n",
       " 'meet': 190,\n",
       " 'mehr': 435,\n",
       " 'mein': 131,\n",
       " 'meine': 466,\n",
       " 'merrily': 380,\n",
       " 'mich': 1,\n",
       " 'mir': 297,\n",
       " 'missverständnis': 383,\n",
       " 'misunderstanding': 40,\n",
       " 'mit': 42,\n",
       " 'miteinander': 311,\n",
       " 'mittagsstunde': 236,\n",
       " 'money': 433,\n",
       " 'morgen': 530,\n",
       " 'much': 346,\n",
       " 'munter': 301,\n",
       " 'music': 254,\n",
       " 'musik': 443,\n",
       " 'muss': 487,\n",
       " 'must': 35,\n",
       " 'my': 29,\n",
       " 'mädchen': 321,\n",
       " 'möchtest': 97,\n",
       " 'mögen': 53,\n",
       " 'nach': 323,\n",
       " 'nahm': 233,\n",
       " 'natel': 94,\n",
       " 'neither': 333,\n",
       " 'never': 416,\n",
       " 'nice': 539,\n",
       " 'nicht': 280,\n",
       " 'nichts': 140,\n",
       " 'nie': 154,\n",
       " 'niemand': 408,\n",
       " 'no': 545,\n",
       " 'noch': 510,\n",
       " 'noon': 107,\n",
       " 'nor': 199,\n",
       " 'not': 75,\n",
       " 'nothing': 67,\n",
       " 'number': 30,\n",
       " 'ob': 431,\n",
       " 'of': 125,\n",
       " 'oft': 286,\n",
       " 'often': 440,\n",
       " 'ohne': 191,\n",
       " 'older': 122,\n",
       " 'on': 7,\n",
       " 'one': 41,\n",
       " 'our': 155,\n",
       " 'out': 247,\n",
       " 'owned': 277,\n",
       " 'part': 348,\n",
       " 'pass': 460,\n",
       " 'patience': 351,\n",
       " 'peking': 505,\n",
       " 'people': 294,\n",
       " 'pfiff': 464,\n",
       " 'photos': 21,\n",
       " 'plan': 389,\n",
       " 'plans': 200,\n",
       " 'played': 331,\n",
       " 'pleasant': 330,\n",
       " 'please': 204,\n",
       " 'popular': 258,\n",
       " 'praise': 256,\n",
       " 'preiset': 11,\n",
       " 'pretended': 50,\n",
       " 'project': 245,\n",
       " 'projekt': 512,\n",
       " 'pudding': 212,\n",
       " 'questioned': 381,\n",
       " 'questions': 216,\n",
       " 'rabe': 244,\n",
       " 'radio': 470,\n",
       " 'ran': 405,\n",
       " 'rarely': 175,\n",
       " 'raten': 79,\n",
       " 'raven': 559,\n",
       " 're': 441,\n",
       " 'reading': 248,\n",
       " 'recht': 239,\n",
       " 'reden': 17,\n",
       " 'reich': 325,\n",
       " 'reise': 56,\n",
       " 'remember': 454,\n",
       " 'richtet': 160,\n",
       " 'river': 82,\n",
       " 'rolle': 19,\n",
       " 's': 328,\n",
       " 'sagen': 257,\n",
       " 'salt': 269,\n",
       " 'salz': 185,\n",
       " 'say': 268,\n",
       " 'says': 10,\n",
       " 'schauen': 305,\n",
       " 'scheut': 124,\n",
       " 'schnell': 213,\n",
       " 'schon': 448,\n",
       " 'schreibpult': 83,\n",
       " 'schwer': 570,\n",
       " 'schwere': 69,\n",
       " 'schwester': 270,\n",
       " 'schwimmt': 467,\n",
       " 'schätze': 477,\n",
       " 'schön': 120,\n",
       " 'schönen': 316,\n",
       " 'schülerin': 276,\n",
       " 'seashore': 207,\n",
       " 'sehe': 450,\n",
       " 'sehr': 451,\n",
       " 'sein': 456,\n",
       " 'seiner': 322,\n",
       " 'selbst': 54,\n",
       " 'sell': 128,\n",
       " 'selten': 34,\n",
       " 'senior': 290,\n",
       " 'serious': 493,\n",
       " 'she': 249,\n",
       " 'sich': 292,\n",
       " 'sie': 141,\n",
       " 'sincerity': 519,\n",
       " 'sind': 421,\n",
       " 'sing': 367,\n",
       " 'singen': 390,\n",
       " 'sister': 261,\n",
       " 'smells': 535,\n",
       " 'sofort': 98,\n",
       " 'some': 27,\n",
       " 'something': 455,\n",
       " 'song': 549,\n",
       " 'sonne': 96,\n",
       " 'speaking': 522,\n",
       " 'spielte': 459,\n",
       " 'spät': 566,\n",
       " 'spätentwicklerich': 365,\n",
       " 'später': 221,\n",
       " 'stadt': 148,\n",
       " 'stadtplan': 550,\n",
       " 'steht': 16,\n",
       " 'sterben': 395,\n",
       " 'still': 552,\n",
       " 'stolen': 296,\n",
       " 'stronger': 2,\n",
       " 'student': 496,\n",
       " 'study': 285,\n",
       " 'stärker': 193,\n",
       " 'suche': 159,\n",
       " 'sucht': 396,\n",
       " 'sun': 362,\n",
       " 'sweet': 382,\n",
       " 'swims': 240,\n",
       " 'süß': 309,\n",
       " 't': 541,\n",
       " 'taken': 4,\n",
       " 'teenager': 39,\n",
       " 'teenagers': 113,\n",
       " 'tell': 504,\n",
       " 'than': 312,\n",
       " 'thank': 569,\n",
       " 'thanks': 162,\n",
       " 'that': 299,\n",
       " 'the': 133,\n",
       " 'them': 60,\n",
       " 'there': 78,\n",
       " 'these': 342,\n",
       " 'they': 91,\n",
       " 'things': 560,\n",
       " 'think': 298,\n",
       " 'this': 527,\n",
       " 'thought': 222,\n",
       " 'to': 293,\n",
       " 'today': 404,\n",
       " 'together': 103,\n",
       " 'tom': 561,\n",
       " 'tomorrow': 295,\n",
       " 'too': 186,\n",
       " 'took': 564,\n",
       " 'town': 462,\n",
       " 'traveling': 334,\n",
       " 'treffen': 105,\n",
       " 'tried': 532,\n",
       " 'trinkst': 164,\n",
       " 'truck': 500,\n",
       " 'trägt': 116,\n",
       " 'tun': 73,\n",
       " 'tust': 497,\n",
       " 'tv': 547,\n",
       " 'two': 58,\n",
       " 'um': 414,\n",
       " 'unavoidable': 136,\n",
       " 'und': 437,\n",
       " 'unnütz': 145,\n",
       " 'uns': 33,\n",
       " 'unschuldig': 132,\n",
       " 'unvermeidlich': 13,\n",
       " 'up': 109,\n",
       " 'us': 563,\n",
       " 'use': 172,\n",
       " 'useless': 192,\n",
       " 've': 260,\n",
       " 'verbrechen': 485,\n",
       " 'verbunden': 110,\n",
       " 'verheimlicht': 137,\n",
       " 'verkaufst': 184,\n",
       " 'verlieren': 250,\n",
       " 'verloren': 70,\n",
       " 'versucht': 149,\n",
       " 'verteilt': 318,\n",
       " 'very': 480,\n",
       " 'viel': 271,\n",
       " 'vielerlei': 147,\n",
       " 'vor': 423,\n",
       " 'vögel': 251,\n",
       " 'waffen': 59,\n",
       " 'wahr': 47,\n",
       " 'walked': 32,\n",
       " 'war': 529,\n",
       " 'warum': 232,\n",
       " 'was': 394,\n",
       " 'wasser': 525,\n",
       " 'water': 335,\n",
       " 'ways': 347,\n",
       " 'we': 5,\n",
       " 'wearing': 548,\n",
       " 'weder': 61,\n",
       " 'weihnachten': 578,\n",
       " 'weiß': 117,\n",
       " 'weißt': 168,\n",
       " 'wem': 71,\n",
       " 'wer': 201,\n",
       " 'werde': 469,\n",
       " 'were': 507,\n",
       " 'what': 432,\n",
       " 'whistling': 214,\n",
       " 'who': 44,\n",
       " 'why': 51,\n",
       " 'wichtige': 554,\n",
       " 'wie': 273,\n",
       " 'wieder': 391,\n",
       " 'will': 484,\n",
       " 'wir': 144,\n",
       " 'wird': 14,\n",
       " 'wissen': 74,\n",
       " 'with': 57,\n",
       " 'without': 100,\n",
       " 'wohl': 427,\n",
       " 'wolves': 436,\n",
       " 'wonach': 267,\n",
       " 'word': 417,\n",
       " 'worden': 553,\n",
       " 'work': 123,\n",
       " 'wort': 208,\n",
       " 'would': 77,\n",
       " 'wouldn': 46,\n",
       " 'writing': 241,\n",
       " 'wrong': 300,\n",
       " 'wurde': 540,\n",
       " 'wusste': 65,\n",
       " 'wölfe': 424,\n",
       " 'würden': 0,\n",
       " 'würdest': 452,\n",
       " 'you': 343,\n",
       " 'your': 22,\n",
       " 'yours': 66,\n",
       " 'yourself': 360,\n",
       " 'zeitschrift': 252,\n",
       " 'zu': 349,\n",
       " 'zum': 538,\n",
       " 'zurück': 227,\n",
       " 'zurückrufen': 388,\n",
       " 'zusammen': 12,\n",
       " 'zwei': 31,\n",
       " 'zweifel': 508,\n",
       " 'zweifelte': 15,\n",
       " 'älter': 429,\n",
       " 'älteren': 28,\n",
       " 'überhaupt': 86}"
      ]
     },
     "execution_count": 100,
     "metadata": {},
     "output_type": "execute_result"
    }
   ],
   "source": [
    "char_to_ix"
   ]
  },
  {
   "cell_type": "code",
   "execution_count": null,
   "metadata": {
    "collapsed": true
   },
   "outputs": [],
   "source": []
  }
 ],
 "metadata": {
  "anaconda-cloud": {},
  "kernelspec": {
   "display_name": "Python 3",
   "language": "python",
   "name": "python3"
  },
  "language_info": {
   "codemirror_mode": {
    "name": "ipython",
    "version": 3
   },
   "file_extension": ".py",
   "mimetype": "text/x-python",
   "name": "python",
   "nbconvert_exporter": "python",
   "pygments_lexer": "ipython3",
   "version": "3.5.2"
  }
 },
 "nbformat": 4,
 "nbformat_minor": 1
}
