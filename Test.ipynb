{
 "cells": [
  {
   "cell_type": "code",
   "execution_count": 1,
   "metadata": {
    "collapsed": true
   },
   "outputs": [],
   "source": [
    "import json\n",
    "\n",
    "data = json.load(open('en_de_corpus.json', 'r'))\n",
    "nSentences = 100"
   ]
  },
  {
   "cell_type": "code",
   "execution_count": 2,
   "metadata": {},
   "outputs": [
    {
     "data": {
      "text/plain": [
       "dict"
      ]
     },
     "execution_count": 2,
     "metadata": {},
     "output_type": "execute_result"
    }
   ],
   "source": [
    "type(data)"
   ]
  },
  {
   "cell_type": "code",
   "execution_count": 3,
   "metadata": {},
   "outputs": [
    {
     "data": {
      "text/plain": [
       "2"
      ]
     },
     "execution_count": 3,
     "metadata": {},
     "output_type": "execute_result"
    }
   ],
   "source": [
    "len(data)"
   ]
  },
  {
   "cell_type": "code",
   "execution_count": 4,
   "metadata": {},
   "outputs": [
    {
     "data": {
      "text/plain": [
       "132173"
      ]
     },
     "execution_count": 4,
     "metadata": {},
     "output_type": "execute_result"
    }
   ],
   "source": [
    "len(data['en'])"
   ]
  },
  {
   "cell_type": "code",
   "execution_count": 5,
   "metadata": {},
   "outputs": [
    {
     "data": {
      "text/plain": [
       "132173"
      ]
     },
     "execution_count": 5,
     "metadata": {},
     "output_type": "execute_result"
    }
   ],
   "source": [
    "len(data['de'])"
   ]
  },
  {
   "cell_type": "code",
   "execution_count": 6,
   "metadata": {},
   "outputs": [
    {
     "data": {
      "text/plain": [
       "\"What do I have to do now that I'm registered?\""
      ]
     },
     "execution_count": 6,
     "metadata": {},
     "output_type": "execute_result"
    }
   ],
   "source": [
    "data['en'][0]"
   ]
  },
  {
   "cell_type": "code",
   "execution_count": 7,
   "metadata": {},
   "outputs": [
    {
     "data": {
      "text/plain": [
       "'Was mache ich jetzt, da ich angemeldet bin?'"
      ]
     },
     "execution_count": 7,
     "metadata": {},
     "output_type": "execute_result"
    }
   ],
   "source": [
    "data['de'][0]"
   ]
  },
  {
   "cell_type": "code",
   "execution_count": 21,
   "metadata": {},
   "outputs": [
    {
     "name": "stdout",
     "output_type": "stream",
     "text": [
      "length after processing : 21680\n"
     ]
    }
   ],
   "source": [
    "#Script to remove punctuation, ensure <= max allowed length + padding\n",
    "\n",
    "import string\n",
    "import random\n",
    "import math\n",
    "\n",
    "#replace punctuation with space, ensure all sentences with  1 space\n",
    "#also all capital to small \n",
    "def replacePunctuation(x):\n",
    "    puncAndNum = string.punctuation+'01233456789'\n",
    "    x = x.lower()\n",
    "    for char in x:\n",
    "        if char in puncAndNum:\n",
    "            #print(char)\n",
    "            x=x.replace(char,' ')\n",
    "    return ' '.join(x.split())\n",
    "\n",
    "#max allowed raw length=5, pad to make it 5, allow only equal pairs\n",
    "tempEn = list(map(replacePunctuation,data['en']))\n",
    "tempDe = list(map(replacePunctuation,data['de']))\n",
    "maxRawLength = 5\n",
    "maxFinalLength = maxRawLength + 2\n",
    "\n",
    "def wordCount(x):\n",
    "    return len(x.split())\n",
    "\n",
    "data_en_processed = list()\n",
    "data_de_processed = list()\n",
    "english_german_map = {}\n",
    "\n",
    "for i in range(len(tempEn)):\n",
    "    if(wordCount(tempEn[i]) <= maxRawLength and wordCount(tempDe[i]) <= maxRawLength\n",
    "       and wordCount(tempEn[i])==wordCount(tempDe[i])):\n",
    "        #if(i%10==0):\n",
    "        #    print((maxFinalLength -1 - wordCount(tempEn[i])))\n",
    "        words_en = tempEn[i].split()\n",
    "        words_de = tempDe[i].split()\n",
    "        for j in range(len(words_en)):\n",
    "            if(not(words_en[j] in english_german_map)):\n",
    "                english_german_map[words_en[j]] = words_de[j]\n",
    "                \n",
    "        data_en_processed.append('< '+tempEn[i]+' >'*(maxFinalLength -1 - wordCount(tempEn[i])))\n",
    "        data_de_processed.append('< '+tempDe[i]+' >'*(maxFinalLength -1 - wordCount(tempDe[i])))\n",
    "\n",
    "print(\"length after processing : \"+str(len(data_en_processed)))  \n"
   ]
  },
  {
   "cell_type": "code",
   "execution_count": 22,
   "metadata": {},
   "outputs": [
    {
     "ename": "ImportError",
     "evalue": "No module named 'mtranslate'",
     "output_type": "error",
     "traceback": [
      "\u001b[0;31m---------------------------------------------------------------------------\u001b[0m",
      "\u001b[0;31mImportError\u001b[0m                               Traceback (most recent call last)",
      "\u001b[0;32m<ipython-input-22-7005d3b14837>\u001b[0m in \u001b[0;36m<module>\u001b[0;34m()\u001b[0m\n\u001b[1;32m      1\u001b[0m \u001b[0;31m#pick 5 random samples and display, compare with google translate\u001b[0m\u001b[0;34m\u001b[0m\u001b[0;34m\u001b[0m\u001b[0m\n\u001b[1;32m      2\u001b[0m \u001b[0;32mimport\u001b[0m \u001b[0mtime\u001b[0m\u001b[0;34m\u001b[0m\u001b[0m\n\u001b[0;32m----> 3\u001b[0;31m \u001b[0;32mfrom\u001b[0m \u001b[0mmtranslate\u001b[0m \u001b[0;32mimport\u001b[0m \u001b[0mtranslate\u001b[0m\u001b[0;34m\u001b[0m\u001b[0m\n\u001b[0m\u001b[1;32m      4\u001b[0m \u001b[0;34m\u001b[0m\u001b[0m\n\u001b[1;32m      5\u001b[0m \u001b[0;34m\u001b[0m\u001b[0m\n",
      "\u001b[0;31mImportError\u001b[0m: No module named 'mtranslate'"
     ]
    }
   ],
   "source": [
    "#pick 5 random samples and display, compare with google translate\n",
    "import time\n",
    "from mtranslate import translate\n",
    "\n",
    "\n",
    "start = math.ceil(random.random()*1000)\n",
    "for i in range(start,start+5):\n",
    "    print(data_en_processed[i]+\" | \"+data_de_processed[i])\n",
    "    print(translate(data_en_processed[i],'de','en'))\n",
    "    print()\n",
    "        "
   ]
  },
  {
   "cell_type": "code",
   "execution_count": 26,
   "metadata": {},
   "outputs": [
    {
     "data": {
      "text/plain": [
       "array([ 0.13031562, -0.13249119, -0.10456345, -0.07432926,  0.12219863,\n",
       "        0.03269887, -0.13835979,  0.07973642,  0.04345283,  0.01642715,\n",
       "       -0.0068113 ,  0.13658655,  0.02247998, -0.12798347, -0.05623737,\n",
       "        0.01861146, -0.20309745, -0.07489807, -0.02578347, -0.02036631,\n",
       "       -0.01024637,  0.06651335,  0.07066572,  0.13830094, -0.12151399,\n",
       "        0.05400629,  0.16420135, -0.1686255 ,  0.06131979, -0.07432926,\n",
       "       -0.04548769,  0.01033044,  0.0522974 , -0.16250017,  0.09959841,\n",
       "       -0.05281816, -0.28204206,  0.00701449,  0.21463123, -0.11463816,\n",
       "       -0.12056998, -0.15832755,  0.0296044 ,  0.12475441, -0.2055787 ,\n",
       "       -0.06365656, -0.03681608, -0.00709147,  0.08260796, -0.04481426,\n",
       "        0.11860758,  0.06326319,  0.070959  , -0.04278863, -0.02408638,\n",
       "       -0.03585576, -0.05942185,  0.05893062, -0.10984753, -0.03419991,\n",
       "        0.00073052, -0.04273662,  0.11112277,  0.14618959,  0.00283555,\n",
       "       -0.01263769, -0.09102514,  0.10652615,  0.09480038,  0.11731526,\n",
       "        0.08280435, -0.05238051,  0.02070966, -0.16266303, -0.11602201,\n",
       "        0.07872344,  0.03894183,  0.02753138,  0.04208345,  0.038407  ,\n",
       "        0.02844848,  0.08261717,  0.06531752,  0.04033419, -0.01853065,\n",
       "        0.0661379 , -0.03762921,  0.05203113,  0.17100289,  0.03568161,\n",
       "       -0.13308971, -0.06423705,  0.08545281, -0.08799811, -0.17393216,\n",
       "       -0.04509657,  0.04339281,  0.24089696, -0.02910238, -0.12458847], dtype=float32)"
      ]
     },
     "execution_count": 26,
     "metadata": {},
     "output_type": "execute_result"
    }
   ],
   "source": [
    "#word2vec test\n",
    "import gensim, logging\n",
    "\n",
    "\n",
    "modelEn = gensim.models.Word2Vec.load('english_word2vec')\n",
    "modelDe = gensim.models.Word2Vec.load('german_word2vec')\n",
    "data_en_processed[1]        \n",
    "len(english_german_map)\n",
    "english_german_map['apple']\n",
    "modelEn['computer']"
   ]
  },
  {
   "cell_type": "code",
   "execution_count": 17,
   "metadata": {},
   "outputs": [
    {
     "data": {
      "text/plain": [
       "0.6121230700908018"
      ]
     },
     "execution_count": 17,
     "metadata": {},
     "output_type": "execute_result"
    }
   ],
   "source": []
  },
  {
   "cell_type": "code",
   "execution_count": null,
   "metadata": {
    "collapsed": true
   },
   "outputs": [],
   "source": []
  },
  {
   "cell_type": "code",
   "execution_count": 36,
   "metadata": {},
   "outputs": [
    {
     "name": "stdout",
     "output_type": "stream",
     "text": [
      "5050039\n"
     ]
    }
   ],
   "source": [
    "count = 0\n",
    "for i in data.keys():\n",
    "    for sentence in data[i]:\n",
    "        for char in sentence:\n",
    "            count += 1\n",
    "        \n",
    "print(count//2)"
   ]
  },
  {
   "cell_type": "code",
   "execution_count": 59,
   "metadata": {},
   "outputs": [
    {
     "data": {
      "text/plain": [
       "['en', 'de']"
      ]
     },
     "execution_count": 59,
     "metadata": {},
     "output_type": "execute_result"
    }
   ],
   "source": [
    "list(data.keys())"
   ]
  },
  {
   "cell_type": "code",
   "execution_count": 60,
   "metadata": {},
   "outputs": [
    {
     "name": "stdout",
     "output_type": "stream",
     "text": [
      "4669629\n"
     ]
    }
   ],
   "source": [
    "cnt = 0\n",
    "for sentence in data['en']:\n",
    "    for char in sentence:\n",
    "        cnt += 1\n",
    "        \n",
    "print(cnt)"
   ]
  },
  {
   "cell_type": "code",
   "execution_count": 61,
   "metadata": {},
   "outputs": [
    {
     "name": "stdout",
     "output_type": "stream",
     "text": [
      "5430450\n"
     ]
    }
   ],
   "source": [
    "cnt = 0\n",
    "for sentence in data['de']:\n",
    "    for char in sentence:\n",
    "        cnt += 1\n",
    "        \n",
    "print(cnt)"
   ]
  },
  {
   "cell_type": "code",
   "execution_count": 62,
   "metadata": {},
   "outputs": [
    {
     "name": "stdout",
     "output_type": "stream",
     "text": [
      "913058\n",
      "6.908052325361458\n"
     ]
    }
   ],
   "source": [
    "cnt = 0\n",
    "for sentence in data['de']:\n",
    "        cnt += len(sentence.split(' '))\n",
    "        \n",
    "print(cnt)\n",
    "print(cnt/132173)"
   ]
  },
  {
   "cell_type": "code",
   "execution_count": 63,
   "metadata": {},
   "outputs": [
    {
     "name": "stdout",
     "output_type": "stream",
     "text": [
      ".\n"
     ]
    }
   ],
   "source": [
    "print(char)"
   ]
  },
  {
   "cell_type": "code",
   "execution_count": 64,
   "metadata": {
    "collapsed": true
   },
   "outputs": [],
   "source": [
    "src_txts = data['en']\n",
    "tgt_txts = data['de']\n",
    "\n",
    "MAX_LEN = 7\n",
    "\n",
    "en_txts, de_txts = [], []\n",
    "for i, src in enumerate(src_txts):\n",
    "    if len(src.split(' ')) <= MAX_LEN:\n",
    "        tgt = tgt_txts[i]\n",
    "        if len(tgt.split(' ')) <= MAX_LEN:\n",
    "            en_txts.append(src)\n",
    "            de_txts.append(tgt)\n",
    "            \n"
   ]
  },
  {
   "cell_type": "code",
   "execution_count": 65,
   "metadata": {},
   "outputs": [
    {
     "data": {
      "text/plain": [
       "79512"
      ]
     },
     "execution_count": 65,
     "metadata": {},
     "output_type": "execute_result"
    }
   ],
   "source": [
    "len(en_txts)"
   ]
  },
  {
   "cell_type": "code",
   "execution_count": 66,
   "metadata": {},
   "outputs": [
    {
     "data": {
      "text/plain": [
       "79512"
      ]
     },
     "execution_count": 66,
     "metadata": {},
     "output_type": "execute_result"
    }
   ],
   "source": [
    "len(de_txts)"
   ]
  },
  {
   "cell_type": "code",
   "execution_count": 67,
   "metadata": {},
   "outputs": [
    {
     "data": {
      "text/plain": [
       "('I took the bus back.', 'Ich nahm den Bus zurück.')"
      ]
     },
     "execution_count": 67,
     "metadata": {},
     "output_type": "execute_result"
    }
   ],
   "source": [
    "en_txts[0], de_txts[0]"
   ]
  },
  {
   "cell_type": "code",
   "execution_count": 68,
   "metadata": {},
   "outputs": [
    {
     "data": {
      "text/plain": [
       "('I am the fastest runner.', 'Ich bin der schnellste Läufer.')"
      ]
     },
     "execution_count": 68,
     "metadata": {},
     "output_type": "execute_result"
    }
   ],
   "source": [
    "en_txts[-1], de_txts[-1]"
   ]
  },
  {
   "cell_type": "code",
   "execution_count": 69,
   "metadata": {},
   "outputs": [
    {
     "name": "stdout",
     "output_type": "stream",
     "text": [
      "0\n"
     ]
    }
   ],
   "source": [
    "cnt = 0\n",
    "for sentence in data['de']:\n",
    "    if not set(sentence).isdisjoint(set(\"<>\")) :\n",
    "        cnt += 1\n",
    "        \n",
    "print(cnt)"
   ]
  },
  {
   "cell_type": "markdown",
   "metadata": {},
   "source": [
    "We decrease size of dataset temporarily"
   ]
  },
  {
   "cell_type": "code",
   "execution_count": 70,
   "metadata": {
    "scrolled": true
   },
   "outputs": [
    {
     "name": "stdout",
     "output_type": "stream",
     "text": [
      "100 100\n"
     ]
    }
   ],
   "source": [
    "en_txts = en_txts[ :nSentences]\n",
    "de_txts = de_txts[ :nSentences]\n",
    "print( len(en_txts), len(de_txts))"
   ]
  },
  {
   "cell_type": "code",
   "execution_count": 71,
   "metadata": {},
   "outputs": [
    {
     "name": "stdout",
     "output_type": "stream",
     "text": [
      "I took the bus back.I'm neither an Athenian nor a Greek.He had barely enough to eat.We are traveling to Barcelona.Without air we would die.I thought you'd be older.I thought you wouldn't like me.Hanako questioned his sincerity.I study Chinese in Beijing.I assume it was unavoidable.Pass me the salt, please.I guess the battery is flat.Tom is rarely late.Am I wrong?He admitted he had taken bribes.No one knew who owned the land.The boy is wearing glasses.My sister was whistling merrily.Bahrain became a kingdom in 2002.You know it better than me.What are your plans for Christmas?We know this song.That was hard to believe.I don't believe a word you say.Our money ran out.Thank you for clearing up the misunderstanding.The town lies on the seashore.He has blond hair.The magazine is aimed at teenagers.Thanks for your patience.Tom likes to do things by himself.Tom goes to bed early.We walked to the river.You've got the wrong number.Lions are stronger than wolves.This flower smells sweet.This book makes pleasant reading.Do you drink coffee?Do you have a cellphone?Tom swims very fast.He's feeling much better.She's looking for a better job.We're not here to arrest you.You remember them, don't you?Tom lost again.Do people still actually use that word?I tried to tell you.I know what you were doing.We arrived there before noon.I can't find what I'm looking for.Is this yours?He never says hi to me.We'll hurry.One who has everything can lose everything.I love the sun.Are you out of work?Tom asked if there were any questions.Look at these photos.I think Tom is hiding something.Can this be it?She's afraid to sing.Laurie is a very hardworking student.This is useless.Born in Athens in 1956.Tom has to go home.Will you go, too?I'll meet her tomorrow.I'll call her immediately.There is nothing to hinder me.Would you like to eat some pudding?He's a late developer.They pretended ignorance.My grandfather gets up early.She's wearing a nice hat.Tom is a truck driver.Fill the bottle with water.You sell us fish.I know how hard this must be.I was accustomed to hard work.Why is a raven like a writing-desk?You don't know what you're doing.He has two boys and a girl.Praise the Lord and pass the ammunition.Birds often fly together.I love serious music.Is Tom there alone?I'd like a city map.We are the Borg.Count me out if you go bowling.We are not speaking.You aren't yourself today.How much is this radio?He denied having stolen the money.They marched two abreast.I like traveling.I was just joking.Do what you want.I know Tom is still alive.Tom was struck by lightning and died.I don't give a fuck.\n"
     ]
    }
   ],
   "source": [
    "en_txts = en_txts[ :nSentences]\n",
    "print(\"\".join(en_txts)) #282 chars #28357\n"
   ]
  },
  {
   "cell_type": "code",
   "execution_count": 72,
   "metadata": {},
   "outputs": [
    {
     "data": {
      "text/plain": [
       "{' ',\n",
       " \"'\",\n",
       " ',',\n",
       " '-',\n",
       " '.',\n",
       " '0',\n",
       " '1',\n",
       " '2',\n",
       " '5',\n",
       " '6',\n",
       " '9',\n",
       " '?',\n",
       " 'A',\n",
       " 'B',\n",
       " 'C',\n",
       " 'D',\n",
       " 'F',\n",
       " 'G',\n",
       " 'H',\n",
       " 'I',\n",
       " 'L',\n",
       " 'M',\n",
       " 'N',\n",
       " 'O',\n",
       " 'P',\n",
       " 'S',\n",
       " 'T',\n",
       " 'W',\n",
       " 'Y',\n",
       " 'a',\n",
       " 'b',\n",
       " 'c',\n",
       " 'd',\n",
       " 'e',\n",
       " 'f',\n",
       " 'g',\n",
       " 'h',\n",
       " 'i',\n",
       " 'j',\n",
       " 'k',\n",
       " 'l',\n",
       " 'm',\n",
       " 'n',\n",
       " 'o',\n",
       " 'p',\n",
       " 'q',\n",
       " 'r',\n",
       " 's',\n",
       " 't',\n",
       " 'u',\n",
       " 'v',\n",
       " 'w',\n",
       " 'y',\n",
       " 'z'}"
      ]
     },
     "execution_count": 72,
     "metadata": {},
     "output_type": "execute_result"
    }
   ],
   "source": [
    "set(\"\".join(en_txts))"
   ]
  },
  {
   "cell_type": "code",
   "execution_count": 73,
   "metadata": {},
   "outputs": [
    {
     "name": "stdout",
     "output_type": "stream",
     "text": [
      "Ich nahm den Bus zurück.Ich bin weder Athener, noch Grieche.Er hatte kaum genug zu essen.Wir sind auf der Reise nach Barcelona.Ohne Luft würden wir sterben.Ich hätte Sie für älter gehalten.Ich dachte, du würdest mich nicht mögen.Hanako zweifelte an seiner Ernsthaftigkeit.Ich lerne in Peking Chinesisch.Das war wohl unvermeidlich.Reich mir das Salz, bitte.Ich schätze, die Batterie ist leer.Tom kommt selten zu spät.Hab ich nicht Recht?Er gab zu, bestochen worden zu sein.Niemand wusste, wem das Land gehörte.Der Junge trägt eine Brille.Meine Schwester pfiff munter vor sich hin.Bahrain wurde 2002 ein Königreich.Du weißt das besser als ich.Was hast du zu Weihnachten vor?Wir kennen dieses Lied.Das war schwer zu glauben.Ich glaube dir kein Wort.Das Geld ging uns aus.Danke, dass du das Missverständnis geklärt hast.Die Stadt liegt an der Meeresküste.Er hat blonde Haare.Die Zeitschrift richtet sich an Teenager.Danke für Ihre Geduld!Tom arbeitet gern allein.Tom geht früh ins Bett.Wir liefen zum Fluss.Sie sind falsch verbunden.Löwen sind stärker als Wölfe.Diese Blume duftet süß.Dieses Buch liest sich schön.Trinkst du Kaffee?Hast du ein Natel?Tom schwimmt sehr schnell.Er fühlt sich schon viel besser.Nach einer besseren Arbeit sucht sie.Wir sind nicht hier, um dich festzunehmen.Du erinnerst dich an sie, nicht wahr?Tom hat wieder verloren.Wird das Wort überhaupt noch benutzt?Ich habe versucht, es Ihnen zu sagen.Ich weiß, was du getan hast.Wir kamen dort vor der Mittagsstunde an.Ich kann nicht finden, wonach ich suche.Ist das hier deins?Er grüßt mich nie.Wir beeilen uns.Wer alles hat, kann alles verlieren.Ich liebe die Sonne.Sind Sie ohne Arbeit?Tom erkundigte sich, ob jemand Fragen habe.Schauen Sie sich diese Fotos an!Ich glaube, dass Tom etwas verheimlicht.Kann es das sein?Sie scheut sich zu singen.Laurie ist eine sehr fleißige Schülerin.Das ist unnütz.Geboren in Athen 1956.Tom muss nach Hause.Gehst du auch?Ich werde mich morgen mit ihr treffen.Ich werde sie sofort anrufen.Da ist nichts, was mich hindert.Möchtest du etwas Pudding?Er ist ein SpätentwicklerSie gaben vor nichts zu wissen.Mein Großvater steht früh auf.Sie trägt einen schönen Hut.Tom ist Lastwagenfahrer.Füllen Sie die Flasche mit Wasser.Du verkaufst uns Fisch.Ich weiß, wie schwer das sein muss.Ich war an schwere Arbeit gewöhnt.Warum gleicht ein Rabe einem Schreibpult?Du weißt nicht, was du tust!Er hat zwei Jungen und ein Mädchen.Preiset Gott, verteilt die Waffen.Vögel fliegen oft zusammen.Ich liebe ernste Musik.Ist Tom alleine da?Ich hätte gern einen Stadtplan.Wir sind die Borg.Ich bin beim Bowling nicht dabei!Wir reden nicht mehr miteinander.Du bist heute nicht du selbst.Wie viel kostet dieses Radio?Er leugnete, das Geld gestohlen zu haben.Sie marschierten in Zweierreihen.Ich reise gerne.Ich habe nur Spaß gemacht.Mach, was du willst.Ich weiß, dass Tom noch lebt.Tom wurde vom Blitz getroffen und starb.Es ist mir wayne.\n"
     ]
    }
   ],
   "source": [
    "de_txts = de_txts[ :1000]\n",
    "print(\"\".join(de_txts)) #330 chars #32600"
   ]
  },
  {
   "cell_type": "code",
   "execution_count": 74,
   "metadata": {},
   "outputs": [
    {
     "data": {
      "text/plain": [
       "32600"
      ]
     },
     "execution_count": 74,
     "metadata": {},
     "output_type": "execute_result"
    }
   ],
   "source": [
    "60957 - 28357 "
   ]
  },
  {
   "cell_type": "code",
   "execution_count": null,
   "metadata": {
    "collapsed": true
   },
   "outputs": [],
   "source": []
  },
  {
   "cell_type": "code",
   "execution_count": 75,
   "metadata": {
    "collapsed": true
   },
   "outputs": [],
   "source": [
    "en_txts_ss = [' '.join([\"<\", sentence, \">\"]) for sentence in en_txts]\n",
    "de_txts_ss = [' '.join([\"<\", sentence, \">\"]) for sentence in de_txts]"
   ]
  },
  {
   "cell_type": "code",
   "execution_count": 76,
   "metadata": {},
   "outputs": [
    {
     "data": {
      "text/plain": [
       "'< I took the bus back. >'"
      ]
     },
     "execution_count": 76,
     "metadata": {},
     "output_type": "execute_result"
    }
   ],
   "source": [
    "en_txts_ss[0]"
   ]
  },
  {
   "cell_type": "code",
   "execution_count": 77,
   "metadata": {},
   "outputs": [
    {
     "data": {
      "text/plain": [
       "'< Ich nahm den Bus zurück. >'"
      ]
     },
     "execution_count": 77,
     "metadata": {},
     "output_type": "execute_result"
    }
   ],
   "source": [
    "de_txts_ss[0]"
   ]
  },
  {
   "cell_type": "code",
   "execution_count": 78,
   "metadata": {},
   "outputs": [
    {
     "data": {
      "text/plain": [
       "(54, 61)"
      ]
     },
     "execution_count": 78,
     "metadata": {},
     "output_type": "execute_result"
    }
   ],
   "source": [
    "#How many unique characters\n",
    "len(list(set(\"\".join(en_txts) ))) , len(list(set(\"\".join(de_txts) )))"
   ]
  },
  {
   "cell_type": "code",
   "execution_count": 79,
   "metadata": {
    "collapsed": true
   },
   "outputs": [],
   "source": [
    "uniq_en = sorted(list(set(\"\".join(en_txts) )))\n",
    "uniq_de = sorted(list(set(\"\".join(de_txts) )))\n",
    "ENG_CHARS = \"\".join(uniq_en)\n",
    "DE_CHARS =\"\".join(uniq_de)"
   ]
  },
  {
   "cell_type": "code",
   "execution_count": 80,
   "metadata": {},
   "outputs": [
    {
     "data": {
      "text/plain": [
       "\" ',-.012569?ABCDFGHILMNOPSTWYabcdefghijklmnopqrstuvwyz\""
      ]
     },
     "execution_count": 80,
     "metadata": {},
     "output_type": "execute_result"
    }
   ],
   "source": [
    "ENG_CHARS"
   ]
  },
  {
   "cell_type": "code",
   "execution_count": 81,
   "metadata": {},
   "outputs": [
    {
     "data": {
      "text/plain": [
       "' !,.012569?ABCDEFGHIJKLMNOPRSTVWZabcdefghijklmnoprstuvwyzßäöü'"
      ]
     },
     "execution_count": 81,
     "metadata": {},
     "output_type": "execute_result"
    }
   ],
   "source": [
    "DE_CHARS"
   ]
  },
  {
   "cell_type": "code",
   "execution_count": null,
   "metadata": {
    "collapsed": true
   },
   "outputs": [],
   "source": [
    "#Copy paste both lines in both corpora"
   ]
  },
  {
   "cell_type": "code",
   "execution_count": null,
   "metadata": {},
   "outputs": [
    {
     "name": "stderr",
     "output_type": "stream",
     "text": [
      "/home/shinchan/MLProject/venv/local/lib/python3.5/site-packages/ipykernel/__main__.py:1: DeprecationWarning: `Tracer` is deprecated since version 5.1, directly use `IPython.core.debugger.Pdb.set_trace()`\n",
      "  if __name__ == '__main__':\n"
     ]
    },
    {
     "name": "stdout",
     "output_type": "stream",
     "text": [
      "--Call--\n",
      "> \u001b[0;32m/home/shinchan/MLProject/venv/local/lib/python3.5/site-packages/IPython/core/displayhook.py\u001b[0m(236)\u001b[0;36m__call__\u001b[0;34m()\u001b[0m\n",
      "\u001b[0;32m    234 \u001b[0;31m        \u001b[0msys\u001b[0m\u001b[0;34m.\u001b[0m\u001b[0mstdout\u001b[0m\u001b[0;34m.\u001b[0m\u001b[0mflush\u001b[0m\u001b[0;34m(\u001b[0m\u001b[0;34m)\u001b[0m\u001b[0;34m\u001b[0m\u001b[0m\n",
      "\u001b[0m\u001b[0;32m    235 \u001b[0;31m\u001b[0;34m\u001b[0m\u001b[0m\n",
      "\u001b[0m\u001b[0;32m--> 236 \u001b[0;31m    \u001b[0;32mdef\u001b[0m \u001b[0m__call__\u001b[0m\u001b[0;34m(\u001b[0m\u001b[0mself\u001b[0m\u001b[0;34m,\u001b[0m \u001b[0mresult\u001b[0m\u001b[0;34m=\u001b[0m\u001b[0;32mNone\u001b[0m\u001b[0;34m)\u001b[0m\u001b[0;34m:\u001b[0m\u001b[0;34m\u001b[0m\u001b[0m\n",
      "\u001b[0m\u001b[0;32m    237 \u001b[0;31m        \"\"\"Printing with history cache management.\n",
      "\u001b[0m\u001b[0;32m    238 \u001b[0;31m\u001b[0;34m\u001b[0m\u001b[0m\n",
      "\u001b[0m\n",
      "ipdb> \n",
      "ipdb> \n",
      "ipdb> \n",
      "ipdb> \n",
      "--KeyboardInterrupt--\n"
     ]
    }
   ],
   "source": [
    "from IPython.core.debugger import Tracer; Tracer()() "
   ]
  },
  {
   "cell_type": "code",
   "execution_count": null,
   "metadata": {
    "collapsed": true
   },
   "outputs": [],
   "source": [
    "%whos"
   ]
  },
  {
   "cell_type": "code",
   "execution_count": null,
   "metadata": {
    "collapsed": true
   },
   "outputs": [],
   "source": [
    "import string\n",
    "puncAndNum = string.punctuation+'01233456789'\n",
    "\n",
    "#replace punctuation with space\n",
    "def replacePunctuation(x):\n",
    "    x = x.lower()\n",
    "    for char in x:\n",
    "        if char in puncAndNum:\n",
    "            #print(char)\n",
    "            x=x.replace(char,' ')\n",
    "    return ' '.join(x.split())\n"
   ]
  },
  {
   "cell_type": "code",
   "execution_count": null,
   "metadata": {
    "collapsed": true
   },
   "outputs": [],
   "source": [
    "replacePunctuation(\"hello 93 I'm 45 ? dwsdsa ddsa. ds\")"
   ]
  },
  {
   "cell_type": "code",
   "execution_count": null,
   "metadata": {
    "collapsed": true
   },
   "outputs": [],
   "source": [
    "enNoPunctuation = (replacePunctuation(\"\".join(en_txts)))\n",
    "print(enNoPunctuation)\n",
    "len(enNoPunctuation)"
   ]
  },
  {
   "cell_type": "code",
   "execution_count": null,
   "metadata": {
    "collapsed": true
   },
   "outputs": [],
   "source": [
    "deNoPunctuation = (replacePunctuation(\"\".join(de_txts)))\n",
    "print(deNoPunctuation)"
   ]
  },
  {
   "cell_type": "code",
   "execution_count": null,
   "metadata": {
    "collapsed": true
   },
   "outputs": [],
   "source": [
    "combined = open(\"input_en_de_nopunctuation_100.txt\", \"r\").read()\n",
    "wordList = combined.split(\" \")\n",
    "#print(wordList)\n",
    "#print(combined)\n",
    "wordCount = 0\n",
    "wordToIndexMap = {}\n",
    "indexToWordMap = {}\n",
    "for word in wordList:\n",
    "    #print(word)\n",
    "    if(not(word in wordToIndexMap)):\n",
    "        wordCount += 1\n",
    "        wordToIndexMap[word] = wordCount\n",
    "        indexToWordMap[wordCount] = word\n",
    "\n"
   ]
  },
  {
   "cell_type": "code",
   "execution_count": null,
   "metadata": {
    "collapsed": true
   },
   "outputs": [],
   "source": [
    "#wordToIndexMap\n",
    "#len(wordMap)\n",
    "\n",
    "def getIndex(x):\n",
    "    return wordToIndexMap[x]\n"
   ]
  },
  {
   "cell_type": "code",
   "execution_count": null,
   "metadata": {
    "collapsed": true
   },
   "outputs": [],
   "source": [
    "wordListIndexes = list(map(getIndex,wordList))"
   ]
  },
  {
   "cell_type": "code",
   "execution_count": null,
   "metadata": {
    "collapsed": true
   },
   "outputs": [],
   "source": [
    "#print(wordListIndexes)\n",
    "for word in wordList:\n",
    "    if(word!=indexToWordMap[wordToIndexMap[word]]):\n",
    "        print(\"fail\")"
   ]
  },
  {
   "cell_type": "code",
   "execution_count": null,
   "metadata": {
    "collapsed": true
   },
   "outputs": [],
   "source": [
    "print(wordList)"
   ]
  },
  {
   "cell_type": "code",
   "execution_count": null,
   "metadata": {
    "collapsed": true
   },
   "outputs": [],
   "source": [
    "# data I/O\n",
    "data =  wordList #open('input.txt', 'r').read() # should be simple plain text file\n",
    "chars = list(set(data))\n",
    "data_size, vocab_size = len(data), len(chars)\n",
    "print('data has %d characters, %d unique.' % (data_size, vocab_size))\n",
    "char_to_ix = { ch:i for i,ch in enumerate(chars) }\n",
    "ix_to_char = { i:ch for i,ch in enumerate(chars) }"
   ]
  },
  {
   "cell_type": "code",
   "execution_count": null,
   "metadata": {
    "collapsed": true
   },
   "outputs": [],
   "source": [
    "ix_to_char"
   ]
  },
  {
   "cell_type": "code",
   "execution_count": null,
   "metadata": {
    "collapsed": true
   },
   "outputs": [],
   "source": [
    "char_to_ix"
   ]
  },
  {
   "cell_type": "code",
   "execution_count": null,
   "metadata": {
    "collapsed": true
   },
   "outputs": [],
   "source": []
  },
  {
   "cell_type": "code",
   "execution_count": null,
   "metadata": {
    "collapsed": true
   },
   "outputs": [],
   "source": []
  },
  {
   "cell_type": "code",
   "execution_count": null,
   "metadata": {
    "collapsed": true
   },
   "outputs": [],
   "source": []
  },
  {
   "cell_type": "code",
   "execution_count": null,
   "metadata": {
    "collapsed": true
   },
   "outputs": [],
   "source": []
  },
  {
   "cell_type": "code",
   "execution_count": null,
   "metadata": {
    "collapsed": true
   },
   "outputs": [],
   "source": []
  },
  {
   "cell_type": "code",
   "execution_count": null,
   "metadata": {
    "collapsed": true
   },
   "outputs": [],
   "source": []
  },
  {
   "cell_type": "code",
   "execution_count": null,
   "metadata": {
    "collapsed": true
   },
   "outputs": [],
   "source": []
  },
  {
   "cell_type": "code",
   "execution_count": null,
   "metadata": {
    "collapsed": true
   },
   "outputs": [],
   "source": []
  },
  {
   "cell_type": "code",
   "execution_count": null,
   "metadata": {
    "collapsed": true
   },
   "outputs": [],
   "source": []
  },
  {
   "cell_type": "code",
   "execution_count": null,
   "metadata": {
    "collapsed": true
   },
   "outputs": [],
   "source": []
  },
  {
   "cell_type": "code",
   "execution_count": null,
   "metadata": {
    "collapsed": true
   },
   "outputs": [],
   "source": []
  },
  {
   "cell_type": "code",
   "execution_count": null,
   "metadata": {
    "collapsed": true
   },
   "outputs": [],
   "source": []
  },
  {
   "cell_type": "code",
   "execution_count": null,
   "metadata": {
    "collapsed": true
   },
   "outputs": [],
   "source": []
  },
  {
   "cell_type": "code",
   "execution_count": null,
   "metadata": {
    "collapsed": true
   },
   "outputs": [],
   "source": []
  },
  {
   "cell_type": "code",
   "execution_count": null,
   "metadata": {
    "collapsed": true
   },
   "outputs": [],
   "source": []
  },
  {
   "cell_type": "code",
   "execution_count": null,
   "metadata": {
    "collapsed": true
   },
   "outputs": [],
   "source": []
  },
  {
   "cell_type": "code",
   "execution_count": null,
   "metadata": {
    "collapsed": true
   },
   "outputs": [],
   "source": []
  },
  {
   "cell_type": "code",
   "execution_count": null,
   "metadata": {
    "collapsed": true
   },
   "outputs": [],
   "source": []
  },
  {
   "cell_type": "code",
   "execution_count": null,
   "metadata": {
    "collapsed": true
   },
   "outputs": [],
   "source": []
  },
  {
   "cell_type": "code",
   "execution_count": null,
   "metadata": {
    "collapsed": true
   },
   "outputs": [],
   "source": []
  },
  {
   "cell_type": "code",
   "execution_count": null,
   "metadata": {
    "collapsed": true
   },
   "outputs": [],
   "source": []
  },
  {
   "cell_type": "code",
   "execution_count": null,
   "metadata": {
    "collapsed": true
   },
   "outputs": [],
   "source": []
  },
  {
   "cell_type": "code",
   "execution_count": null,
   "metadata": {
    "collapsed": true
   },
   "outputs": [],
   "source": []
  },
  {
   "cell_type": "code",
   "execution_count": null,
   "metadata": {
    "collapsed": true
   },
   "outputs": [],
   "source": []
  },
  {
   "cell_type": "code",
   "execution_count": null,
   "metadata": {
    "collapsed": true
   },
   "outputs": [],
   "source": []
  },
  {
   "cell_type": "code",
   "execution_count": null,
   "metadata": {
    "collapsed": true
   },
   "outputs": [],
   "source": []
  }
 ],
 "metadata": {
  "anaconda-cloud": {},
  "kernelspec": {
   "display_name": "Python 3",
   "language": "python",
   "name": "python3"
  },
  "language_info": {
   "codemirror_mode": {
    "name": "ipython",
    "version": 3
   },
   "file_extension": ".py",
   "mimetype": "text/x-python",
   "name": "python",
   "nbconvert_exporter": "python",
   "pygments_lexer": "ipython3",
   "version": "3.5.2"
  }
 },
 "nbformat": 4,
 "nbformat_minor": 1
}
