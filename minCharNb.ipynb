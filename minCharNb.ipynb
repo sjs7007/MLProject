{
 "cells": [
  {
   "cell_type": "code",
   "execution_count": 10,
   "metadata": {
    "collapsed": false,
    "deletable": true,
    "editable": true
   },
   "outputs": [],
   "source": [
    "import json\n",
    "\n",
    "data = json.load(open('en_de_corpus.json', 'r'))"
   ]
  },
  {
   "cell_type": "code",
   "execution_count": 11,
   "metadata": {
    "collapsed": false,
    "deletable": true,
    "editable": true
   },
   "outputs": [
    {
     "data": {
      "text/plain": [
       "dict"
      ]
     },
     "execution_count": 11,
     "metadata": {},
     "output_type": "execute_result"
    }
   ],
   "source": [
    "type(data)"
   ]
  },
  {
   "cell_type": "code",
   "execution_count": 12,
   "metadata": {
    "collapsed": false,
    "deletable": true,
    "editable": true
   },
   "outputs": [
    {
     "data": {
      "text/plain": [
       "2"
      ]
     },
     "execution_count": 12,
     "metadata": {},
     "output_type": "execute_result"
    }
   ],
   "source": [
    "len(data)"
   ]
  },
  {
   "cell_type": "code",
   "execution_count": 13,
   "metadata": {
    "collapsed": false,
    "deletable": true,
    "editable": true
   },
   "outputs": [
    {
     "data": {
      "text/plain": [
       "132173"
      ]
     },
     "execution_count": 13,
     "metadata": {},
     "output_type": "execute_result"
    }
   ],
   "source": [
    "len(data['en'])"
   ]
  },
  {
   "cell_type": "code",
   "execution_count": 14,
   "metadata": {
    "collapsed": false,
    "deletable": true,
    "editable": true
   },
   "outputs": [
    {
     "data": {
      "text/plain": [
       "132173"
      ]
     },
     "execution_count": 14,
     "metadata": {},
     "output_type": "execute_result"
    }
   ],
   "source": [
    "len(data['de'])"
   ]
  },
  {
   "cell_type": "code",
   "execution_count": 15,
   "metadata": {
    "collapsed": false,
    "deletable": true,
    "editable": true
   },
   "outputs": [
    {
     "data": {
      "text/plain": [
       "\"What do I have to do now that I'm registered?\""
      ]
     },
     "execution_count": 15,
     "metadata": {},
     "output_type": "execute_result"
    }
   ],
   "source": [
    "data['en'][0]"
   ]
  },
  {
   "cell_type": "code",
   "execution_count": 16,
   "metadata": {
    "collapsed": false,
    "deletable": true,
    "editable": true
   },
   "outputs": [
    {
     "data": {
      "text/plain": [
       "'Was mache ich jetzt, da ich angemeldet bin?'"
      ]
     },
     "execution_count": 16,
     "metadata": {},
     "output_type": "execute_result"
    }
   ],
   "source": [
    "data['de'][0]"
   ]
  },
  {
   "cell_type": "code",
   "execution_count": 17,
   "metadata": {
    "collapsed": false,
    "deletable": true,
    "editable": true
   },
   "outputs": [
    {
     "name": "stdout",
     "output_type": "stream",
     "text": [
      "5050039\n"
     ]
    }
   ],
   "source": [
    "count = 0\n",
    "for i in data.keys():\n",
    "    for sentence in data[i]:\n",
    "        for char in sentence:\n",
    "            count += 1\n",
    "        \n",
    "print(count//2)"
   ]
  },
  {
   "cell_type": "code",
   "execution_count": 18,
   "metadata": {
    "collapsed": false,
    "deletable": true,
    "editable": true
   },
   "outputs": [
    {
     "data": {
      "text/plain": [
       "['en', 'de']"
      ]
     },
     "execution_count": 18,
     "metadata": {},
     "output_type": "execute_result"
    }
   ],
   "source": [
    "list(data.keys())"
   ]
  },
  {
   "cell_type": "code",
   "execution_count": 19,
   "metadata": {
    "collapsed": false,
    "deletable": true,
    "editable": true
   },
   "outputs": [
    {
     "name": "stdout",
     "output_type": "stream",
     "text": [
      "4669629\n"
     ]
    }
   ],
   "source": [
    "cnt = 0\n",
    "for sentence in data['en']:\n",
    "    for char in sentence:\n",
    "        cnt += 1\n",
    "        \n",
    "print(cnt)"
   ]
  },
  {
   "cell_type": "code",
   "execution_count": 20,
   "metadata": {
    "collapsed": false,
    "deletable": true,
    "editable": true
   },
   "outputs": [
    {
     "name": "stdout",
     "output_type": "stream",
     "text": [
      "5430450\n"
     ]
    }
   ],
   "source": [
    "cnt = 0\n",
    "for sentence in data['de']:\n",
    "    for char in sentence:\n",
    "        cnt += 1\n",
    "        \n",
    "print(cnt)"
   ]
  },
  {
   "cell_type": "code",
   "execution_count": 21,
   "metadata": {
    "collapsed": false,
    "deletable": true,
    "editable": true
   },
   "outputs": [
    {
     "name": "stdout",
     "output_type": "stream",
     "text": [
      "913058\n",
      "6.908052325361458\n"
     ]
    }
   ],
   "source": [
    "cnt = 0\n",
    "for sentence in data['de']:\n",
    "        cnt += len(sentence.split(' '))\n",
    "        \n",
    "print(cnt)\n",
    "print(cnt/132173)"
   ]
  },
  {
   "cell_type": "code",
   "execution_count": 22,
   "metadata": {
    "collapsed": false,
    "deletable": true,
    "editable": true
   },
   "outputs": [
    {
     "name": "stdout",
     "output_type": "stream",
     "text": [
      ".\n"
     ]
    }
   ],
   "source": [
    "print(char)"
   ]
  },
  {
   "cell_type": "code",
   "execution_count": 23,
   "metadata": {
    "collapsed": true,
    "deletable": true,
    "editable": true
   },
   "outputs": [],
   "source": [
    "src_txts = data['en']\n",
    "tgt_txts = data['de']\n",
    "\n",
    "MAX_LEN = 8\n",
    "\n",
    "en_txts, de_txts = [], []\n",
    "for i, src in enumerate(src_txts):\n",
    "    if len(src.split(' ')) <= MAX_LEN:\n",
    "        tgt = tgt_txts[i]\n",
    "        if len(tgt.split(' ')) <= MAX_LEN:\n",
    "            en_txts.append(src)\n",
    "            de_txts.append(tgt)\n",
    "            \n"
   ]
  },
  {
   "cell_type": "code",
   "execution_count": 24,
   "metadata": {
    "collapsed": false,
    "deletable": true,
    "editable": true
   },
   "outputs": [
    {
     "data": {
      "text/plain": [
       "95425"
      ]
     },
     "execution_count": 24,
     "metadata": {},
     "output_type": "execute_result"
    }
   ],
   "source": [
    "len(en_txts)"
   ]
  },
  {
   "cell_type": "code",
   "execution_count": 25,
   "metadata": {
    "collapsed": false,
    "deletable": true,
    "editable": true
   },
   "outputs": [
    {
     "data": {
      "text/plain": [
       "95425"
      ]
     },
     "execution_count": 25,
     "metadata": {},
     "output_type": "execute_result"
    }
   ],
   "source": [
    "len(de_txts)"
   ]
  },
  {
   "cell_type": "code",
   "execution_count": 26,
   "metadata": {
    "collapsed": false,
    "deletable": true,
    "editable": true
   },
   "outputs": [
    {
     "data": {
      "text/plain": [
       "('I took the bus back.', 'Ich nahm den Bus zurück.')"
      ]
     },
     "execution_count": 26,
     "metadata": {},
     "output_type": "execute_result"
    }
   ],
   "source": [
    "en_txts[0], de_txts[0]"
   ]
  },
  {
   "cell_type": "code",
   "execution_count": 27,
   "metadata": {
    "collapsed": false,
    "deletable": true,
    "editable": true
   },
   "outputs": [
    {
     "data": {
      "text/plain": [
       "('The water in this fountain is very cold.',\n",
       " 'Das Wasser dieses Springbrunnens ist sehr kalt.')"
      ]
     },
     "execution_count": 27,
     "metadata": {},
     "output_type": "execute_result"
    }
   ],
   "source": [
    "en_txts[-1], de_txts[-1]"
   ]
  },
  {
   "cell_type": "code",
   "execution_count": 28,
   "metadata": {
    "collapsed": false,
    "deletable": true,
    "editable": true
   },
   "outputs": [
    {
     "name": "stdout",
     "output_type": "stream",
     "text": [
      "0\n"
     ]
    }
   ],
   "source": [
    "cnt = 0\n",
    "for sentence in data['de']:\n",
    "    if not set(sentence).isdisjoint(set(\"<>\")) :\n",
    "        cnt += 1\n",
    "        \n",
    "print(cnt)"
   ]
  },
  {
   "cell_type": "markdown",
   "metadata": {
    "deletable": true,
    "editable": true
   },
   "source": [
    "We decrease size of dataset temperorily"
   ]
  },
  {
   "cell_type": "code",
   "execution_count": null,
   "metadata": {
    "collapsed": true,
    "deletable": true,
    "editable": true
   },
   "outputs": [],
   "source": []
  },
  {
   "cell_type": "code",
   "execution_count": null,
   "metadata": {
    "collapsed": true,
    "deletable": true,
    "editable": true
   },
   "outputs": [],
   "source": []
  },
  {
   "cell_type": "code",
   "execution_count": 29,
   "metadata": {
    "collapsed": true,
    "deletable": true,
    "editable": true
   },
   "outputs": [],
   "source": [
    "en_txts_ss = [' '.join([\"<\", sentence, \">\"]) for sentence in en_txts]\n",
    "de_txts_ss = [' '.join([\"<\", sentence, \">\"]) for sentence in de_txts]"
   ]
  },
  {
   "cell_type": "code",
   "execution_count": 30,
   "metadata": {
    "collapsed": false,
    "deletable": true,
    "editable": true
   },
   "outputs": [
    {
     "data": {
      "text/plain": [
       "'< I took the bus back. >'"
      ]
     },
     "execution_count": 30,
     "metadata": {},
     "output_type": "execute_result"
    }
   ],
   "source": [
    "en_txts_ss[0]"
   ]
  },
  {
   "cell_type": "code",
   "execution_count": 31,
   "metadata": {
    "collapsed": false,
    "deletable": true,
    "editable": true
   },
   "outputs": [
    {
     "data": {
      "text/plain": [
       "'< Ich nahm den Bus zurück. >'"
      ]
     },
     "execution_count": 31,
     "metadata": {},
     "output_type": "execute_result"
    }
   ],
   "source": [
    "de_txts_ss[0]"
   ]
  },
  {
   "cell_type": "code",
   "execution_count": 32,
   "metadata": {
    "collapsed": false,
    "deletable": true,
    "editable": true
   },
   "outputs": [
    {
     "data": {
      "text/plain": [
       "{'The machines are idle now.',\n",
       " 'She successfully crossed the Pacific with a ship.',\n",
       " 'Those houses are big.',\n",
       " 'This telephone is connected to the fax machine.',\n",
       " 'English is spoken in America.',\n",
       " 'When she entered the room, he stood up.',\n",
       " 'You may be right about that.',\n",
       " 'Tom surprised Mary.',\n",
       " 'Tom called in sick.',\n",
       " 'Your behavior leaves much to be desired.',\n",
       " 'Mom did not mention it.',\n",
       " \"That's what I want most of all.\",\n",
       " 'France and Britain were at war once again.',\n",
       " \"It's difficult to speak English well.\",\n",
       " \"I don't know where Tom is from.\",\n",
       " 'Tom steals stuff.',\n",
       " \"Tom didn't know where Mary lived.\",\n",
       " 'It is ten degrees below zero now.',\n",
       " 'I feel much worse today than yesterday.',\n",
       " 'She asked him why he was crying.',\n",
       " 'I must hurry to class.',\n",
       " 'Love is not a crime.',\n",
       " 'Send it in duplicate.',\n",
       " 'My name is Romanian; his is American.',\n",
       " 'We just got started.',\n",
       " 'I more often go to Brussels than Paris.',\n",
       " 'The proposal came up last week.',\n",
       " \"She doesn't own many books.\",\n",
       " 'Night coming on, we went home.',\n",
       " \"I'm just lazy.\",\n",
       " 'How small this book is!',\n",
       " 'He speaks poor French.',\n",
       " 'He was a brave sentry.',\n",
       " 'Is there a pharmacy nearby?',\n",
       " 'I found this book very difficult.',\n",
       " 'You need a vacation.',\n",
       " \"He's a dancer.\",\n",
       " 'How do you find the time to exercise?',\n",
       " 'We are going downtown to eat pizza.',\n",
       " 'The girl with blue eyes is Jane.',\n",
       " 'That street is very noisy.',\n",
       " 'Good morning.',\n",
       " 'Tom is the father of three children.',\n",
       " 'Laurie is a very hardworking student.',\n",
       " \"He didn't eat anything yesterday.\",\n",
       " 'The call is free of charge.',\n",
       " 'Tom wants to quit.',\n",
       " \"Don't go.\",\n",
       " 'Our army broke through the enemy defenses.',\n",
       " \"She doesn't speak to me.\",\n",
       " 'Do you have a lighter?',\n",
       " 'Is breakfast ready?',\n",
       " 'We can see many stars tonight.',\n",
       " 'It was just a coincidence.',\n",
       " 'How much is this ring worth?',\n",
       " 'Tom said it was a diamond.',\n",
       " 'My dad used to drive a Beetle.',\n",
       " 'I can teach you how to sing.',\n",
       " 'She talked a lot.',\n",
       " 'My father will come home at seven.',\n",
       " 'He came in spite of bad weather.',\n",
       " 'The pain will never go away.',\n",
       " 'Are you sick?',\n",
       " 'He is not likely to succeed.',\n",
       " 'Could you lend me a hand?',\n",
       " 'Our country has a glorious history.',\n",
       " 'Tom is feeling dizzy.',\n",
       " 'He was the only witness of the accident.',\n",
       " 'You should take a vacation.',\n",
       " 'That game is boring.',\n",
       " 'When you have a question, ask the teacher.',\n",
       " 'He is always cheerful.',\n",
       " 'Tom is smoking.',\n",
       " \"I can't even cook an omelet.\",\n",
       " 'He was trepanned.',\n",
       " 'The people resisted their cruel ruler.',\n",
       " 'I aimed my gun at the target.',\n",
       " 'Do you have a motto?',\n",
       " 'The story ends with his death.',\n",
       " 'I need a stamp.',\n",
       " 'They addressed me as doctor.',\n",
       " 'We went on our vacation then.',\n",
       " 'It would be three in the afternoon.',\n",
       " \"What's your favorite game to play with friends?\",\n",
       " \"He wants to apply for Jobseeker's Allowance.\",\n",
       " \"She wasn't able to open the bottle.\",\n",
       " 'I know it by hearsay.',\n",
       " 'What did you mean by this sentence?',\n",
       " 'Do you know anything about his family?',\n",
       " \"I knew you wouldn't believe me.\",\n",
       " \"That broken vase is my grandfather's.\",\n",
       " 'What he said is probably correct.',\n",
       " 'I think we should take a break.',\n",
       " 'Even so, you are a human.',\n",
       " 'Do you know how to run this machine?',\n",
       " 'His behavior is worthy of respect.',\n",
       " 'In which folder did you save the file?',\n",
       " \"The drunken man couldn't walk straight.\",\n",
       " 'The sheep were feeding in the meadow.',\n",
       " 'Detroit was called the Paris of the West.',\n",
       " \"I'll fix it up with him.\",\n",
       " 'The audience consisted mainly of students.',\n",
       " \"Tom doesn't like hot food.\",\n",
       " \"Don't speak nonsense!\",\n",
       " \"I can't stand him.\",\n",
       " 'What are hymenoptera?',\n",
       " 'Mom baked a cake for my birthday.',\n",
       " 'The river furnishes electric power to the town.',\n",
       " 'A shave, please.',\n",
       " 'Why did he stop smoking?',\n",
       " 'My mother bought me a new bicycle.',\n",
       " 'Of soccer and rugby, I prefer the latter.',\n",
       " 'In due time, his innocence will be proved.',\n",
       " \"I'm glad you were there.\",\n",
       " 'A meter is 100 centimeters.',\n",
       " 'Betty is crazy about dancing.',\n",
       " \"You can't believe a word of it.\",\n",
       " 'A father provides for his family.',\n",
       " 'Tom gave Mary a pair of diamond earrings.',\n",
       " 'Will you write your name here?',\n",
       " 'This is an unexpected surprise.',\n",
       " \"You can't stop someone from lying to you.\",\n",
       " \"I can't speak Japanese.\",\n",
       " 'There is a cookie under the table.',\n",
       " 'He always swims with the current.',\n",
       " 'Is she a pretty girl?',\n",
       " \"Aren't you going to take your coat off?\",\n",
       " 'He is a harsh critic.',\n",
       " \"I couldn't stop Tom.\",\n",
       " 'What did you want to see me about?',\n",
       " \"Well, then there's no problem, don't you think?\",\n",
       " 'This is really delicious.',\n",
       " 'Tom rushed in.',\n",
       " 'We walked to the river.',\n",
       " 'Why do you hurt me so much?',\n",
       " 'The meeting was almost over.',\n",
       " 'What did Brainless and Unhappy do?',\n",
       " 'I can hardly understand you.',\n",
       " \"I didn't know that he was there.\",\n",
       " \"A beautiful sunset, isn't it?\",\n",
       " 'Sachiko is more popular than Judy.',\n",
       " 'He was eager to tie the knot.',\n",
       " 'The newspaper is free.',\n",
       " 'Your ad could be here.',\n",
       " 'Go to your posts.',\n",
       " 'Who succeeded?',\n",
       " 'Your pants are unzipped.',\n",
       " 'Moncalvo is the smallest Italian city.',\n",
       " 'The chairman resigned out of the blue.',\n",
       " 'Lithuania is called \"Lietuva\" in Lithuanian.',\n",
       " 'He has three brothers.',\n",
       " 'Tom is too young to drink.',\n",
       " 'Thanks for the pizza.',\n",
       " 'Our country is running short of energy resources.',\n",
       " \"Everybody's safe.\",\n",
       " 'We are Arabs.',\n",
       " 'I was almost run over by a car.',\n",
       " 'A danger foreseen is a danger avoided.',\n",
       " 'Give me the book.',\n",
       " 'They all drowned.',\n",
       " \"The banker's pay cut was temporary, not permanent.\",\n",
       " \"It won't come to that.\",\n",
       " 'Who will weep when I die?',\n",
       " 'Jane looks very pale.',\n",
       " 'It seems he knows Ann.',\n",
       " \"I'm suffering from a bad headache.\",\n",
       " \"We'll see each other again.\",\n",
       " 'He was lying on the couch.',\n",
       " 'I am forbidden to use this telephone.',\n",
       " 'He will become a good doctor.',\n",
       " \"She's in danger.\",\n",
       " 'Darwin developed the evolutionary theory.',\n",
       " 'He has a bad reputation with his students.',\n",
       " \"We'll shoot.\",\n",
       " 'Think for a moment.',\n",
       " 'I married when I was 19 years old.',\n",
       " 'We went to the mountain to ski.',\n",
       " 'Can we talk this over?',\n",
       " 'He was unaware of the danger.',\n",
       " 'I like tennis very much.',\n",
       " 'I am the tallest of all the boys.',\n",
       " \"Isn't there anything you want to tell me?\",\n",
       " 'Where did you buy flowers?',\n",
       " 'This is the reason why he did it.',\n",
       " 'Tom raised me.',\n",
       " 'Tom is already married.',\n",
       " 'There are a lot of breweries in Bavaria.',\n",
       " 'Have you ever ironed your clothes by yourself?',\n",
       " 'Where is Customs?',\n",
       " 'The plane arrived exactly at nine.',\n",
       " 'She has been sick since last Wednesday.',\n",
       " 'She won a bronze medal.',\n",
       " 'It will do harm to us.',\n",
       " \"Cow's milk is tastier than soy milk.\",\n",
       " 'I have to excuse myself to Ann.',\n",
       " \"My first car didn't have power steering.\",\n",
       " 'I am on the right.',\n",
       " \"I'm glad I've found you.\",\n",
       " \"What's your favourite YouTube video?\",\n",
       " 'The capital city of the Netherlands is Amsterdam.',\n",
       " 'Mr Smith is now president of this company.',\n",
       " 'Everyone is listening to the chairperson.',\n",
       " \"Tom can't bear to look at Mary.\",\n",
       " 'I taught myself how to play the guitar.',\n",
       " 'He always talks in such high-sounding terms.',\n",
       " \"I don't know which doctor she meant.\",\n",
       " \"It's your ex-wife.\",\n",
       " 'The third act is about to begin.',\n",
       " 'I was at a loss for words.',\n",
       " \"I don't have time to write.\",\n",
       " 'It makes me sick.',\n",
       " 'She came out on top.',\n",
       " 'Let me take a picture of you.',\n",
       " 'The car looked as good as new.',\n",
       " \"It's not negotiable.\",\n",
       " 'Does anyone on your team speak French?',\n",
       " \"He's a real Spaniard.\",\n",
       " 'Tom was only gone for fifteen minutes.',\n",
       " 'I missed the last train last Friday.',\n",
       " 'You keep out of this.',\n",
       " 'My mother always puts my sister before me.',\n",
       " 'These windows look to the south.',\n",
       " 'It makes me kind of happy.',\n",
       " 'Tom is handsome.',\n",
       " 'He is very depressed.',\n",
       " 'No one replied to the question.',\n",
       " 'The runners poured water over their heads.',\n",
       " \"Don't spend all your money on comic books.\",\n",
       " 'Are they coming as well?',\n",
       " 'Four is an unlucky number in Japan.',\n",
       " 'Maybe I should become a painter.',\n",
       " 'Fuck your mom, bitch.',\n",
       " \"I'm leaving you tomorrow.\",\n",
       " 'We saw a stranger enter the house.',\n",
       " \"That's a rarity, however.\",\n",
       " 'She watched the children going back to school.',\n",
       " \"Don't touch the flowers.\",\n",
       " 'I hope you enjoy your vacation.',\n",
       " 'Why were you late?',\n",
       " \"We've just finished breakfast.\",\n",
       " 'Do ghosts really exist?',\n",
       " 'I can go wherever you like.',\n",
       " \"It's too soon.\",\n",
       " \"It has suddenly gotten cold, hasn't it?\",\n",
       " 'Who do you think I am?',\n",
       " 'I paid him a visit yesterday.',\n",
       " \"There's someone else I want to see.\",\n",
       " 'She was now out of danger.',\n",
       " 'She was ready to face her fate.',\n",
       " 'You look good in those clothes.',\n",
       " 'Wherever I may go, I will get lost.',\n",
       " 'I was floored by the news.',\n",
       " 'This road will lead you to the airport.',\n",
       " \"Let's begin with the first chapter.\",\n",
       " 'Please call me up later.',\n",
       " 'The sentence is not grammatically accurate.',\n",
       " 'You speak fluent English.',\n",
       " 'The students hold their teacher in high regard.',\n",
       " \"It's a fruit.\",\n",
       " 'I know you are not that stupid.',\n",
       " 'He slipped while crossing the street.',\n",
       " 'Tom can run fast.',\n",
       " \"I'm not related to Tom.\",\n",
       " 'The rockets were fired from a launching pad.',\n",
       " 'Tom is not in his bedroom.',\n",
       " 'Tom obeyed.',\n",
       " 'This lemonade tastes too sweet.',\n",
       " 'He got lost while walking in the woods.',\n",
       " \"I'm looking for someone.\",\n",
       " \"You're coming with us now.\",\n",
       " \"The murderer hasn't been arrested yet.\",\n",
       " \"I don't have four brothers.\",\n",
       " 'Where do you see the books?',\n",
       " 'Tom sat at his desk.',\n",
       " 'The market is big.',\n",
       " 'You are in very serious trouble.',\n",
       " 'I know the story from beginning to end.',\n",
       " 'A refrigerator keeps meat fresh.',\n",
       " 'It is going to rain.',\n",
       " 'The field was rank with weeds.',\n",
       " \"Let's talk about that over drinks.\",\n",
       " 'We have less snow than usual.',\n",
       " 'He asked me whether I was busy.',\n",
       " \"I'll come to your place.\",\n",
       " 'This was meant as a joke.',\n",
       " 'Everyone knew the song.',\n",
       " 'This drug acts against headache.',\n",
       " \"He's absent-minded.\",\n",
       " 'We have no idea about his whereabouts.',\n",
       " \"She didn't tolerate his selfishness.\",\n",
       " \"Jack can't afford a new bicycle.\",\n",
       " 'She must have been rich in those days.',\n",
       " \"It's not like I'll be gone forever!\",\n",
       " 'Please stick out your tongue.',\n",
       " \"I don't usually dress like this.\",\n",
       " 'There are some good apples in the basket.',\n",
       " 'Aim for the eyes!',\n",
       " \"It's totally dark outside.\",\n",
       " 'Love has never killed anyone.',\n",
       " 'Take all the time you need.',\n",
       " 'My family is richer than me.',\n",
       " 'Tom got on a horse and followed Mary.',\n",
       " \"That's reversing the logical order of things.\",\n",
       " 'Could you lend me some money?',\n",
       " 'Pskov is in the south of Russia.',\n",
       " \"Don't be so sensitive to criticism.\",\n",
       " 'This old building has seen better days.',\n",
       " 'A tree is known by its fruit.',\n",
       " \"His advice didn't help much.\",\n",
       " 'We could see nothing but fog.',\n",
       " 'They stayed friends.',\n",
       " 'He was the one who suggested it.',\n",
       " \"She got her master's degree three years ago.\",\n",
       " 'Fish gotta swim.',\n",
       " 'He believed that the earth was round.',\n",
       " 'I have two daughters.',\n",
       " 'Am I making sense?',\n",
       " 'I had the gardener plant some trees.',\n",
       " 'I have to go home now.',\n",
       " 'I mistook you for your brother.',\n",
       " 'Mr Frost is eligible for the post.',\n",
       " 'Why are your eyes so big?',\n",
       " 'He is unsociable.',\n",
       " 'I have seen a star today.',\n",
       " 'The book interests me.',\n",
       " \"Who's the pizza for?\",\n",
       " \"There's been a power cut.\",\n",
       " \"I don't have anyone who'd travel with me.\",\n",
       " 'Which school is the best?',\n",
       " 'Tom is lighting a cigarette.',\n",
       " 'I was just trying to impress him.',\n",
       " 'The statement was not timely.',\n",
       " 'Yoko danced with a grace that surprised us.',\n",
       " 'You are the fifth wheel on the wagon.',\n",
       " 'The sun gives light and heat.',\n",
       " \"I'll take care of that.\",\n",
       " \"What's taking Tom so long?\",\n",
       " 'Does your car have a spare tyre?',\n",
       " 'The word is derived from Latin.',\n",
       " \"We're protecting you.\",\n",
       " \"That's just the way I am.\",\n",
       " 'He is the fastest runner in our class.',\n",
       " 'Do you know how to get there?',\n",
       " 'This glue does not adhere to plastic.',\n",
       " 'Tom buttoned up his coat.',\n",
       " 'Japan consumes a lot of paper.',\n",
       " 'Japan and South Korea are neighbors.',\n",
       " \"I know what's up.\",\n",
       " \"What's your feeling about the idea?\",\n",
       " 'Tom asked Mary if she was busy.',\n",
       " 'Did you enjoy it?',\n",
       " 'Tom seems to have lost his passport.',\n",
       " 'We want something new.',\n",
       " 'What did you buy it for?',\n",
       " \"That's uncalled for.\",\n",
       " \"He's angry at the world.\",\n",
       " \"What's that scar from?\",\n",
       " 'What did his wife say?',\n",
       " 'He can run fast.',\n",
       " \"She's got more books.\",\n",
       " 'Mark Zuckerberg stole my idea!',\n",
       " 'Can you make an exception?',\n",
       " 'I knew someone like you once.',\n",
       " 'The two streets run parallel to one another.',\n",
       " 'We have no school tomorrow.',\n",
       " 'We lost our way in the woods.',\n",
       " \"Tom isn't much older than Mary.\",\n",
       " \"Who's in charge?\",\n",
       " 'An amputation is needed.',\n",
       " 'I refused to pay.',\n",
       " 'English cannot be mastered overnight.',\n",
       " 'Tom is worried about Mary.',\n",
       " 'He was hanged for murder.',\n",
       " 'My house is in the suburbs.',\n",
       " \"Come on, play with me, I'm so bored!\",\n",
       " \"Let's start from lesson 10.\",\n",
       " 'She likes Lake Mashuu.',\n",
       " \"See, you shouldn't work so hard.\",\n",
       " 'He did it right away.',\n",
       " 'These muffins are freshly baked.',\n",
       " \"Tom says that he doesn't feel like jogging.\",\n",
       " 'Come back tomorrow.',\n",
       " 'Are you certain about that?',\n",
       " 'We made the boy our guide.',\n",
       " 'Are you pointing at me?',\n",
       " 'How do you say...?',\n",
       " 'This new singer is really great.',\n",
       " 'I miss that place.',\n",
       " 'Tom won the triathlon.',\n",
       " \"Tom's crazy.\",\n",
       " 'I had her sweep my room.',\n",
       " 'She came up with a possible solution.',\n",
       " 'I want to thank my host family.',\n",
       " 'The fight resulted in several arrests.',\n",
       " 'Young children are often fascinated by science.',\n",
       " 'Tom said you might be able to help.',\n",
       " 'It is no use going there.',\n",
       " \"She's a gym teacher.\",\n",
       " 'Tom is alive!',\n",
       " \"Tom doesn't know who painted that picture.\",\n",
       " 'That sounds like a lot of fun.',\n",
       " 'I was laughed at in school today.',\n",
       " 'Ten years have gone by.',\n",
       " 'Here are the rules.',\n",
       " \"That's my fault.\",\n",
       " 'Can you get me another pencil?',\n",
       " 'Why are they doing this?',\n",
       " 'Thanks for asking, she is fine.',\n",
       " 'The question was too difficult to answer.',\n",
       " \"Tom's birthday was yesterday.\",\n",
       " 'She kept the dining room warm in winter.',\n",
       " 'I am running to the station.',\n",
       " 'Do you have someone in your life?',\n",
       " 'A plane is flying above the city.',\n",
       " 'Hurry up, girls.',\n",
       " \"I'm going to brush my teeth.\",\n",
       " 'He grabbed my arm.',\n",
       " \"Three of Tom's friends went to Mary's party.\",\n",
       " 'Are you out of work?',\n",
       " 'Mr Tanaka is a friend of ours.',\n",
       " 'The theater in my neighborhood is being rebuilt.',\n",
       " 'He needs a towel.',\n",
       " 'Our plan was unsuccessful.',\n",
       " 'I have butterflies in my stomach.',\n",
       " 'Nobody knows what will happen next.',\n",
       " 'Soldiers are used to danger.',\n",
       " 'He has a lot of teaching experience.',\n",
       " 'John is cleverer than Bill.',\n",
       " 'What time is dinner?',\n",
       " 'We rented the apartment.',\n",
       " \"Can't you see what's happening here?\",\n",
       " 'The provisions ran out after a short time.',\n",
       " 'A travel agent arranged everything for our trip.',\n",
       " 'George weighs not less than 70 kilograms.',\n",
       " 'She returned safe and sound.',\n",
       " 'Tom had his wisdom teeth taken out.',\n",
       " 'Will the room be available for the meetings?',\n",
       " 'We were very disappointed in that girl.',\n",
       " 'She will be back at five.',\n",
       " 'He tried to open the window.',\n",
       " \"It's to the point.\",\n",
       " 'Water is a natural resource of vital importance.',\n",
       " 'He distinguished himself in the contest.',\n",
       " 'He is very much interested in Japanese history.',\n",
       " 'She comes from a small but wealthy town.',\n",
       " 'We tend to associate politicians with hypocrisy.',\n",
       " 'The product of two negative numbers is positive.',\n",
       " 'She is getting better day by day.',\n",
       " 'The hooligans have been banned from matches.',\n",
       " 'I mentioned your name to him.',\n",
       " 'You must take his age into account.',\n",
       " \"It's shockingly inexpensive.\",\n",
       " 'He is going to climb that mountain someday.',\n",
       " 'I could have known.',\n",
       " \"It doesn't matter when you come.\",\n",
       " 'Those proposals seem very much alike to me.',\n",
       " 'I saw the boy in brown shoes.',\n",
       " 'So far, so good.',\n",
       " 'Last night, I listened to radio.',\n",
       " 'He confessed his crime.',\n",
       " \"I'll come, too.\",\n",
       " 'Please do not buy it.',\n",
       " \"No, I'm English.\",\n",
       " 'What train you are going to take?',\n",
       " 'I was too tired to go on working.',\n",
       " 'Each student has his own desk.',\n",
       " 'The girls danced to music.',\n",
       " \"Don't leave it up to chance.\",\n",
       " 'I regarded your offer as a joke.',\n",
       " 'My uncle never writes letters.',\n",
       " 'I went into details.',\n",
       " 'Do the math.',\n",
       " 'You will not get there on time.',\n",
       " 'Japan is, as it were, his second home.',\n",
       " 'She married him for his money.',\n",
       " \"I don't agree with him.\",\n",
       " 'Silent waters run deep.',\n",
       " 'Tom is a DJ.',\n",
       " 'Building materials are expensive now.',\n",
       " 'Hurricane Sandy is coming.',\n",
       " 'Can you translate a love letter?',\n",
       " 'What a strange man!',\n",
       " 'He laid down the gun.',\n",
       " 'When I awoke this morning, I felt hungry.',\n",
       " 'We have to close the window.',\n",
       " \"I'm not sure right now.\",\n",
       " \"He's wearing a new coat.\",\n",
       " 'Tom speaks French like a native.',\n",
       " 'He reached for the pistol.',\n",
       " 'He bumped his head against the ceiling.',\n",
       " 'Money circulates through the banking system.',\n",
       " \"Let's keep it secret that he is ill.\",\n",
       " 'Yesterday morning I ate a waffle!',\n",
       " \"It'll snow today.\",\n",
       " \"I don't know that.\",\n",
       " 'She is living an unhappy life.',\n",
       " 'Have you known him for a long time?',\n",
       " 'What changes the world is communication, not information.',\n",
       " 'Goodbyes are always sad.',\n",
       " 'My father drives to work.',\n",
       " 'Mahjong tiles are very beautiful.',\n",
       " 'This new song is a big hit.',\n",
       " 'They determined the date for the trip.',\n",
       " 'Tom is loyal to his wife.',\n",
       " \"He's in hot water.\",\n",
       " 'Where can we park the car?',\n",
       " 'He died of that disease.',\n",
       " 'None, they are all outside.',\n",
       " 'Give me a little money.',\n",
       " \"I can't promise Tom won't be back.\",\n",
       " \"You'd better not talk back to Tom.\",\n",
       " 'He is said to be still in Paris.',\n",
       " 'I can teach you how to love children.',\n",
       " 'He did a great job.',\n",
       " 'It seems to run in the family.',\n",
       " 'The plane crashed against the house.',\n",
       " \"There's nothing like going out in style.\",\n",
       " 'Tom lacks motivation.',\n",
       " \"I'll explain it to you later on.\",\n",
       " 'I heard explosions.',\n",
       " 'It looks like Mary is drunk again.',\n",
       " 'Do you like this color?',\n",
       " \"That can't possibly be true.\",\n",
       " 'My uncle lives in Germany.',\n",
       " 'I know that you know that I know.',\n",
       " 'The train gained speed.',\n",
       " 'She cannot play the piano.',\n",
       " 'Sports keep us in good shape.',\n",
       " 'You have the advantage of a good education.',\n",
       " \"Don't respond.\",\n",
       " \"I can't tell him from his brother.\",\n",
       " 'Many thanks for your effort!',\n",
       " \"Don't get drunk.\",\n",
       " 'I cannot lift this box.',\n",
       " 'The future belongs to God.',\n",
       " 'Would you like to dance?',\n",
       " \"I bet Tom doesn't have any plans.\",\n",
       " 'The church bells are ringing.',\n",
       " 'My father polished his car till it shone.',\n",
       " 'Finnish is the mother tongue of my children.',\n",
       " 'Hindus and Muslims are all brothers.',\n",
       " 'He can speak 10 languages.',\n",
       " 'She stole my candy.',\n",
       " \"These words touched Pinocchio's heart.\",\n",
       " 'Mary is quite snobby.',\n",
       " 'Could we have a spoon?',\n",
       " \"I can't talk to girls.\",\n",
       " 'There are many movie theaters in this city.',\n",
       " \"We've been living here since July.\",\n",
       " 'Who invented the telephone?',\n",
       " 'A tiger has escaped from the zoo.',\n",
       " 'Lock the door.',\n",
       " 'Girls are losing their virginity earlier and earlier.',\n",
       " 'She always wears fashionable clothes.',\n",
       " 'I have a suspicious nature.',\n",
       " 'Let me know your address.',\n",
       " 'The spectators cheered the players on.',\n",
       " 'Empty your pockets!',\n",
       " 'Then, finally, she opened her mouth.',\n",
       " 'A frog came out of the water.',\n",
       " 'I am not much of a traveller.',\n",
       " 'No sweet without sweat.',\n",
       " 'She always got up early.',\n",
       " 'The news may well be true.',\n",
       " \"You should've told the truth.\",\n",
       " 'Must I hurry?',\n",
       " 'Contact my assistant if you have any questions.',\n",
       " 'Tom carried Mary on his shoulders.',\n",
       " 'Tom put his wallet on the table.',\n",
       " 'Vietnamese is very easy to learn.',\n",
       " 'She has known him for a long time.',\n",
       " 'The tragedy left a scar on my mind.',\n",
       " 'The cat was on the table.',\n",
       " 'Sysko works like an ant.',\n",
       " 'I am playing volleyball now.',\n",
       " 'He is bound to win the match.',\n",
       " 'The man was surprised at the news.',\n",
       " 'I could hardly tell who was who.',\n",
       " 'The efforts brought about no effect.',\n",
       " \"Don't underestimate me.\",\n",
       " 'I have to drink this medicine.',\n",
       " \"I'm not interested in modern art.\",\n",
       " 'They helped one another with their homework.',\n",
       " \"I'm all ears.\",\n",
       " 'I am concerned about his poor health.',\n",
       " 'Tom caught Mary smoking a cigarette.',\n",
       " 'Tom is too lazy to cook.',\n",
       " \"I'll be your first patient.\",\n",
       " 'A butterfly is a mature caterpillar.',\n",
       " 'Tom did a terrible thing.',\n",
       " 'The bridge was washed away by the flood.',\n",
       " 'I should have called a doctor.',\n",
       " 'Kumiko runs as fast as Tom.',\n",
       " 'The ship encountered rough seas.',\n",
       " 'Tom is much older than I thought.',\n",
       " 'I feel quite at ease among strangers.',\n",
       " 'I have to print 100 pages.',\n",
       " \"Don't you ever touch me again.\",\n",
       " 'This book sold well in Japan.',\n",
       " 'He was master of the situation.',\n",
       " 'The cat ran after the rat.',\n",
       " 'They rushed towards their mother.',\n",
       " 'There are around three tousand mosques in Istanbul.',\n",
       " \"That's the only possibility.\",\n",
       " \"I don't see anything!\",\n",
       " 'My father likes strong coffee.',\n",
       " 'She sells a vintage hat.',\n",
       " 'You look bored.',\n",
       " 'Which team will win?',\n",
       " \"I don't have a son named Tom.\",\n",
       " \"He's very talented.\",\n",
       " 'Paris fell in 1940.',\n",
       " \"Never tell him 'I don't know the answer'.\",\n",
       " 'I paid him five dollars.',\n",
       " '\"Ah\" is an interjection.',\n",
       " 'You attend all the parties.',\n",
       " 'Please show me how to use the headset.',\n",
       " \"This table's surface is smooth.\",\n",
       " \"It's annoying.\",\n",
       " 'Woods grow greener in the spring.',\n",
       " 'She asked me to do it.',\n",
       " 'Is there anybody who can drive a car?',\n",
       " 'Are you looking for something?',\n",
       " 'Lobsters belong to a class of marine animals.',\n",
       " 'It was harder than I thought.',\n",
       " 'Where can Yoko have gone?',\n",
       " 'Nobody knows why he turns down my help.',\n",
       " 'His speech deeply affected the audience.',\n",
       " 'If you eat that, Tom will be angry.',\n",
       " 'There was no one in the room.',\n",
       " \"I'm waiting for my boyfriend.\",\n",
       " 'I gave him my phone number.',\n",
       " 'He is old enough to drink.',\n",
       " 'He went to the back of the building.',\n",
       " 'Bring along your friend.',\n",
       " 'For external use only, do not ingest.',\n",
       " 'That is exactly what I wanted to buy.',\n",
       " \"I'm older than you.\",\n",
       " 'He confessed that he was guilty.',\n",
       " 'Belgrade has about 2 million inhabitants.',\n",
       " 'What brought a cockroach to a meeting room?',\n",
       " \"I hadn't thought of that.\",\n",
       " 'Cows give milk.',\n",
       " 'Whose baby is this?',\n",
       " 'The shipment was damaged by the rain.',\n",
       " \"That's not going to help.\",\n",
       " 'He is always complaining.',\n",
       " 'He likes to travel by himself.',\n",
       " 'This guy looks like a fox.',\n",
       " 'Tom and I both like to play golf.',\n",
       " 'Do I look fat?',\n",
       " \"They'll try again.\",\n",
       " 'I am not about to pay ten dollars.',\n",
       " 'I like to participate in this project.',\n",
       " \"He's my only real friend.\",\n",
       " 'The radio announcer had a masculine voice.',\n",
       " 'Tom is out of work at this time.',\n",
       " \"What's this key for?\",\n",
       " 'Without his pants, the general looks less impressive.',\n",
       " \"But you will write, won't you?\",\n",
       " 'I want to sleep a little longer.',\n",
       " 'Tom can play tennis quite well.',\n",
       " 'He knows how to use this weapon.',\n",
       " \"Why won't you listen to me?\",\n",
       " 'Tom had a very difficult childhood.',\n",
       " 'That man has a very good build.',\n",
       " 'Guess what I want to do now.',\n",
       " 'She married a rich old man.',\n",
       " 'Show me yours!',\n",
       " 'They study in the afternoon.',\n",
       " 'Did you take a shower today?',\n",
       " 'I am taking tomorrow off.',\n",
       " 'I am completely against it.',\n",
       " 'I love Canadian public radio.',\n",
       " \"I'm charging this amount to your bill.\",\n",
       " 'Mathematics are the foundation of all sciences.',\n",
       " 'To know oneself is not easy.',\n",
       " \"I can't stop sneezing.\",\n",
       " 'Tom and Mary are often together.',\n",
       " 'Everyone makes mistakes.',\n",
       " \"I'm always busy.\",\n",
       " 'This is a free ticket.',\n",
       " 'He has dark hair and dark eyes.',\n",
       " 'Tom is playing piano.',\n",
       " 'Have you ever seen an elephant fly?',\n",
       " 'I visited Hokkaido during summer vacation.',\n",
       " \"We can't let Tom get away with it.\",\n",
       " 'Mike always remains calm.',\n",
       " \"I'd like to live in a decent house.\",\n",
       " 'Tom is building a wall.',\n",
       " 'We need a car.',\n",
       " 'She thinks about him all the time.',\n",
       " 'She was on the verge of killing herself.',\n",
       " 'There was a church here once.',\n",
       " 'My friend Marcelo writes in Latin.',\n",
       " 'Who will foot the bill?',\n",
       " 'Tom is brushing his hair.',\n",
       " 'The continent is abundant in fossil fuels.',\n",
       " 'The prisoner was pardoned by the governor.',\n",
       " 'Do you know when his plane is arriving?',\n",
       " 'She decided on the red coat.',\n",
       " 'The lambda sensor is on the fritz again.',\n",
       " 'We must know about it.',\n",
       " \"That's acceptable.\",\n",
       " 'His body shivered with excitement.',\n",
       " 'Would you like to order?',\n",
       " 'I gave him a few books.',\n",
       " 'Two sheep were killed by a wolf.',\n",
       " \"They're only crocodile tears.\",\n",
       " 'I know Tom will change.',\n",
       " 'The smell was offensive.',\n",
       " 'He gives his children an allowance.',\n",
       " 'I feel feverish.',\n",
       " \"Don't swim in the river.\",\n",
       " \"I've waited for more than a week.\",\n",
       " 'At first, everything seemed difficult.',\n",
       " \"We're not supposed to indulge pets.\",\n",
       " 'He is the picture of his father.',\n",
       " 'They walked side-by-side.',\n",
       " \"I'd like to work with Tom.\",\n",
       " \"I don't drink much wine.\",\n",
       " 'Tom is watching TV.',\n",
       " 'The two mountains are of equal height.',\n",
       " 'She relented.',\n",
       " \"I can't find my watch.\",\n",
       " \"I can't find it anywhere.\",\n",
       " 'Physical fitness requires time and dedication.',\n",
       " 'There are many houses destroyed by the earthquake.',\n",
       " 'His fingers ran swiftly over the keys.',\n",
       " 'A fire broke out on the first floor.',\n",
       " 'May I take a shower in the morning?',\n",
       " 'You and Tom must be so happy.',\n",
       " 'Tomiko guessed my weight.',\n",
       " 'My hobby is music.',\n",
       " 'Is this your dog?',\n",
       " 'The President has fled the capital.',\n",
       " 'Chen is not a businessperson.',\n",
       " 'Bacteria are microscopic organisms.',\n",
       " 'I can swim very fast.',\n",
       " 'He came from the south.',\n",
       " \"I'm glad to have met you.\",\n",
       " 'He will follow my advice.',\n",
       " 'I got my hair cut yesterday.',\n",
       " 'That boy has black hair.',\n",
       " 'Most Germans can speak English.',\n",
       " 'How many counties are there in Florida?',\n",
       " 'My grandfather led a moral life.',\n",
       " 'She ascribed her failure to bad luck.',\n",
       " 'Drinking alcohol during pregnancy can cause birth defects.',\n",
       " \"I can't find the hand net.\",\n",
       " \"Tom didn't seem to notice any problems.\",\n",
       " 'Tea was introduced from China.',\n",
       " 'But he was excited too.',\n",
       " \"I'm afraid you're wrong.\",\n",
       " 'Either all or none.',\n",
       " 'May I borrow a pen?',\n",
       " \"I've gained weight.\",\n",
       " 'He tried to concentrate on the letter.',\n",
       " 'Did you forget to buy eggs?',\n",
       " \"I'm in the sixth form.\",\n",
       " 'The glass dropped from his hand.',\n",
       " 'I like my steak cooked medium well.',\n",
       " 'People grow more cynical with age.',\n",
       " \"There's a cold wind from the north.\",\n",
       " 'I fell asleep listening to music.',\n",
       " 'They like Tsuneoki Ikeda.',\n",
       " \"You're not young anymore.\",\n",
       " 'I gave my old clothes away.',\n",
       " \"He'll be along in ten minutes.\",\n",
       " \"Don't forget to take your vitamins.\",\n",
       " \"I didn't realise.\",\n",
       " 'Everybody came to the class on time.',\n",
       " 'Tom was my closest friend.',\n",
       " 'Mick named the baby Richard.',\n",
       " 'We reported his disappearance.',\n",
       " 'Shut up, you idiot!',\n",
       " \"Who's dieting?\",\n",
       " 'He has the advantage of a good education.',\n",
       " 'Brush your teeth.',\n",
       " 'He wrote on the social evolution of Japan.',\n",
       " 'It may take a while.',\n",
       " 'I waited until the last minute.',\n",
       " 'This dog is mine.',\n",
       " 'Are you thinking about getting a job?',\n",
       " 'We discussed the problem freely.',\n",
       " 'Um, is the room quiet?',\n",
       " 'That will give you a vivid impression.',\n",
       " 'Let me take you home.',\n",
       " 'Two little girls are picking daisies.',\n",
       " \"She doesn't know Kazakh language.\",\n",
       " \"We've only been married for three years.\",\n",
       " 'This should be clear to everyone.',\n",
       " \"I don't have a middle name.\",\n",
       " \"I'll show you how to catch fish.\",\n",
       " 'You will soon come to like this town.',\n",
       " 'We have supplied the villagers with food.',\n",
       " 'She came in with her eyes shining.',\n",
       " 'Our hens laid a lot of eggs yesterday.',\n",
       " 'Without the map, he would have gotten lost.',\n",
       " 'You can get in touch with me tomorrow.',\n",
       " 'The journalist was kidnapped by terrorists.',\n",
       " 'One hundred years is called a century.',\n",
       " 'Do you like spruce beer?',\n",
       " 'Mary read the German translation.',\n",
       " 'Do you want to dance with me?',\n",
       " 'I see and hear.',\n",
       " 'She knows how to make candy.',\n",
       " 'What would you do if you failed?',\n",
       " \"I don't like being told what to do.\",\n",
       " \"We're beginners, but we learn quickly.\",\n",
       " 'Tom is still at school.',\n",
       " 'Diamonds are forever.',\n",
       " \"She doesn't drink coffee.\",\n",
       " 'He substituted for the injured player.',\n",
       " \"She's much happier than him.\",\n",
       " \"She didn't know what to do.\",\n",
       " 'He came to my office yesterday.',\n",
       " 'There are many hotels downtown.',\n",
       " \"My grandfather's picture is on the wall.\",\n",
       " 'I telephoned her at once.',\n",
       " \"It's interesting to learn a foreign language.\",\n",
       " 'Tom invited Mary to supper.',\n",
       " \"We'll see each other next week.\",\n",
       " \"That's how it should be.\",\n",
       " \"Tom doesn't know much about sports.\",\n",
       " 'Could you repeat the question?',\n",
       " 'I am thinking of closing my savings account.',\n",
       " 'Happy birthday, Muiriel!',\n",
       " \"I'd like to know your opinion.\",\n",
       " 'See you soon!',\n",
       " 'Are there any questions?',\n",
       " 'Alone against everybody.',\n",
       " \"Tom's parents weren't home.\",\n",
       " \"I can't remember anyone's name.\",\n",
       " 'I know all the details.',\n",
       " 'I know that this is important.',\n",
       " 'Everybody is the architect of their own fortune.',\n",
       " 'Tom failed to pass the final exam.',\n",
       " 'Any child can answer that.',\n",
       " \"Tom isn't studying French now.\",\n",
       " 'Thus passes the glory of the world.',\n",
       " 'Tom is behind you.',\n",
       " \"You're spending too much time on the computer.\",\n",
       " 'I thought you wanted this job.',\n",
       " 'Does she have money?',\n",
       " 'It was a put-up job.',\n",
       " \"That's quite a story.\",\n",
       " 'He seems to be indifferent to politics.',\n",
       " 'Are you crazy, or what?',\n",
       " 'Tom owed Mary a lot of money.',\n",
       " 'This soup is really good.',\n",
       " 'Maru crawled out from under the table.',\n",
       " 'He has all kinds of books.',\n",
       " 'He was late for school yesterday.',\n",
       " \"But you've never told me about this!\",\n",
       " 'That was only a year ago.',\n",
       " 'Tom is unusual.',\n",
       " 'He appealed to our emotions.',\n",
       " 'You said you wanted to be a teacher.',\n",
       " 'I often catch colds in the winter.',\n",
       " 'He lives near the beach.',\n",
       " 'We think little of him as a scholar.',\n",
       " \"He couldn't stop smiling.\",\n",
       " 'Nothing new under the sun.',\n",
       " 'Words express thoughts.',\n",
       " 'Was his story true?',\n",
       " \"We'd like to rent a people carrier.\",\n",
       " 'Strangely, he passed up her very generous offer.',\n",
       " \"There's a fine line between genius and insanity.\",\n",
       " \"She's all right.\",\n",
       " 'When she was young, she was very beautiful.',\n",
       " 'The wall is covered with graffiti.',\n",
       " 'She has tiny feet.',\n",
       " 'The house fell down one week later.',\n",
       " 'Yesterday I was ill.',\n",
       " 'I missed you very much yesterday.',\n",
       " \"I don't know why I'm here.\",\n",
       " \"I can't find my shoes.\",\n",
       " \"You can't escape.\",\n",
       " 'What floor do you live on?',\n",
       " 'He is a formidable opponent.',\n",
       " 'I enjoy the challenge of translating the untranslatable.',\n",
       " 'Please give my regards to your father.',\n",
       " 'The roof is well-insulated.',\n",
       " \"We're lucky that the weather is so nice.\",\n",
       " 'He waited for his master.',\n",
       " 'We saw something white in the dark.',\n",
       " 'Is it still raining?',\n",
       " \"The Mayor of London doesn't like bendy buses.\",\n",
       " \"I'll be present.\",\n",
       " 'I have a great deal to do tonight.',\n",
       " 'The sentence with the preceding number is false.',\n",
       " 'My favorite color is red.',\n",
       " 'I love parties.',\n",
       " \"I can't find my bag.\",\n",
       " 'The cat retracted its claws.',\n",
       " \"Tom isn't interested in art at all.\",\n",
       " 'His words embarrassed me.',\n",
       " 'Anybody can make a mistake.',\n",
       " 'You have to take that into account.',\n",
       " \"One man's meat is another man's poison.\",\n",
       " 'Wolves wander in the woods.',\n",
       " 'He was living with the Indians.',\n",
       " 'Shut up and sit down.',\n",
       " \"Don't you want to go to the party?\",\n",
       " \"I couldn't speak well that day.\",\n",
       " 'What are you staring at?',\n",
       " 'Yesterday I went to sleep at 10 PM.',\n",
       " 'It may well rain before tonight.',\n",
       " 'Fill it up.',\n",
       " \"I'm waiting for him.\",\n",
       " \"I'm flying to Boston tomorrow.\",\n",
       " 'Pleasure to meet you.',\n",
       " 'Although she is rich, she is not happy.',\n",
       " 'Smallpox was unknown to Native Americans.',\n",
       " 'Tom and Mary walked out of the classroom.',\n",
       " \"That is my sister's camera.\",\n",
       " \"Please don't shoot.\",\n",
       " \"You're going to need your umbrella.\",\n",
       " 'I was told Tom would be here.',\n",
       " 'My dog has a long tail.',\n",
       " \"Even I don't understand.\",\n",
       " 'Jessie is boiling water to make coffee.',\n",
       " 'They fought for the honor of their country.',\n",
       " \"Don't let the dog in.\",\n",
       " 'We had a few glasses of sangria.',\n",
       " 'Is that a bat?',\n",
       " 'I love him with all my heart.',\n",
       " 'He contradicted the news.',\n",
       " 'We are doomed.',\n",
       " \"He isn't as stupid as he looks.\",\n",
       " 'This animal is just working for rewards.',\n",
       " 'Mary is very attractive.',\n",
       " 'I was born in Tokyo in 1968.',\n",
       " \"Mary is Tom's grandmother.\",\n",
       " 'Is it really all over?',\n",
       " 'Tom trusts Mary.',\n",
       " 'She overslept.',\n",
       " 'She runs.',\n",
       " \"It's a pleasure to be here.\",\n",
       " 'In mathematics, he is an ace.',\n",
       " 'Nobody can stop me!',\n",
       " 'I have a few French books.',\n",
       " \"Why isn't anybody doing anything?\",\n",
       " 'Tom wondered the same thing.',\n",
       " \"That's not acceptable.\",\n",
       " 'Lightning can be dangerous.',\n",
       " 'He thought the matter over for three days.',\n",
       " 'John and Ann like each other.',\n",
       " 'What do you remember?',\n",
       " 'Tom is fighting in the street.',\n",
       " \"I hope you're happy, too.\",\n",
       " 'Do you enjoy living like this?',\n",
       " \"I can't open this bottle.\",\n",
       " 'It was my idea.',\n",
       " 'A cloud passed the sun.',\n",
       " \"I'm not a criminal.\",\n",
       " 'We need a victory.',\n",
       " 'Please read the meter.',\n",
       " 'The bell rings at noon.',\n",
       " 'You might at least say thank you.',\n",
       " 'How much is this clock?',\n",
       " 'This dress was in fashion in those days.',\n",
       " \"I'll do anything.\",\n",
       " 'I feel like drinking a beer.',\n",
       " 'Did you manage to get any sleep?',\n",
       " 'I forgot to lock the door.',\n",
       " 'He seems to have left the country.',\n",
       " 'Her dress was ruined.',\n",
       " \"Why don't we ask Tom's advice?\",\n",
       " 'We are sure of his honesty.',\n",
       " 'Every man in his way.',\n",
       " \"She's well stacked.\",\n",
       " \"I didn't let Tom use my toothbrush.\",\n",
       " 'I never liked him.',\n",
       " 'Tom is in his office at his desk.',\n",
       " 'Tom often helps Mary.',\n",
       " 'The boat danced on the choppy water.',\n",
       " \"Let's go away.\",\n",
       " 'Tom dyed his hair.',\n",
       " 'Tom was killed in a traffic accident.',\n",
       " \"I've always known it.\",\n",
       " 'The news was sensational.',\n",
       " 'Columbus proved that the world is not flat.',\n",
       " 'The inventor is known all over the world.',\n",
       " 'They are good people.',\n",
       " 'Did you buy this book?',\n",
       " 'The toilet is upstairs.',\n",
       " 'You must keep your room clean.',\n",
       " 'Can I have a paper bag?',\n",
       " \"Won't somebody please think of the children?!\",\n",
       " 'Where\\'s the \"any\" key?',\n",
       " 'The new furniture came today.',\n",
       " 'The other day I saw the girl.',\n",
       " 'This pen has run dry.',\n",
       " 'Do you believe in ghosts?',\n",
       " 'Is there a restaurant around here?',\n",
       " \"That didn't take long.\",\n",
       " \"I'm looking forward to working with you.\",\n",
       " 'I found the book very interesting.',\n",
       " ...}"
      ]
     },
     "execution_count": 32,
     "metadata": {},
     "output_type": "execute_result"
    }
   ],
   "source": [
    "set(en_txts)"
   ]
  },
  {
   "cell_type": "code",
   "execution_count": null,
   "metadata": {
    "collapsed": true,
    "deletable": true,
    "editable": true
   },
   "outputs": [],
   "source": []
  },
  {
   "cell_type": "code",
   "execution_count": null,
   "metadata": {
    "collapsed": true,
    "deletable": true,
    "editable": true
   },
   "outputs": [],
   "source": []
  },
  {
   "cell_type": "code",
   "execution_count": null,
   "metadata": {
    "collapsed": true
   },
   "outputs": [],
   "source": []
  },
  {
   "cell_type": "code",
   "execution_count": null,
   "metadata": {
    "collapsed": true
   },
   "outputs": [],
   "source": []
  }
 ],
 "metadata": {
  "anaconda-cloud": {},
  "kernelspec": {
   "display_name": "Python 3",
   "language": "python",
   "name": "python3"
  },
  "language_info": {
   "codemirror_mode": {
    "name": "ipython",
    "version": 3
   },
   "file_extension": ".py",
   "mimetype": "text/x-python",
   "name": "python",
   "nbconvert_exporter": "python",
   "pygments_lexer": "ipython3",
   "version": "3.5.2"
  }
 },
 "nbformat": 4,
 "nbformat_minor": 1
}
